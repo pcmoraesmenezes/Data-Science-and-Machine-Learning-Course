{
 "cells": [
  {
   "cell_type": "markdown",
   "metadata": {},
   "source": [
    "# Introduction to Pandas \n",
    "\n",
    " Pandas is a Python library for data analysis. It offers a number of data exploration, cleaning and transformation operations that are critical in working with data in Python.\n",
    "\n",
    " Pandas build upon numpy and scipy providing easy-to-use data structures and data manipulation functions with integrated indexing.\n",
    "\n",
    " The main data structures pandas provides are Series and DataFrames. After a brief introduction to these two data structures and data ingestion, the key features of pandas this notebook covers are:\n",
    "\n",
    "-  Generating descriptive statistics on data\n",
    "\n",
    "-  Data cleaning using built in pandas functions\n",
    "\n",
    "- Frequent data operations for subsetting, filtering, insertion, deletion and aggregation of data\n",
    "\n",
    "- Merging multiple datasets using dataframes\n",
    "\n",
    "-  Working with timestamps and time-series data"
   ]
  },
  {
   "cell_type": "markdown",
   "metadata": {},
   "source": [
    "## How to install pandas\n",
    "\n",
    "Pandas is included in most Python distributions, and installing pandas is simple if you have pip installed.\n",
    "\n",
    "pip install pandas\n",
    "\n",
    "## Importing pandas\n",
    "\n",
    "The standard way to import pandas is:\n",
    "\n",
    "import pandas as pd\n",
    "\n"
   ]
  },
  {
   "cell_type": "code",
   "execution_count": 48,
   "metadata": {},
   "outputs": [
    {
     "name": "stdout",
     "output_type": "stream",
     "text": [
      "Requirement already satisfied: pandas in /home/pcmoraes/anaconda3/lib/python3.11/site-packages (2.0.3)\n",
      "Requirement already satisfied: python-dateutil>=2.8.2 in /home/pcmoraes/.local/lib/python3.11/site-packages (from pandas) (2.8.2)\n",
      "Requirement already satisfied: pytz>=2020.1 in /home/pcmoraes/anaconda3/lib/python3.11/site-packages (from pandas) (2023.3.post1)\n",
      "Requirement already satisfied: tzdata>=2022.1 in /home/pcmoraes/anaconda3/lib/python3.11/site-packages (from pandas) (2023.3)\n",
      "Requirement already satisfied: numpy>=1.21.0 in /home/pcmoraes/anaconda3/lib/python3.11/site-packages (from pandas) (1.24.3)\n",
      "Requirement already satisfied: six>=1.5 in /home/pcmoraes/anaconda3/lib/python3.11/site-packages (from python-dateutil>=2.8.2->pandas) (1.16.0)\n",
      "Note: you may need to restart the kernel to use updated packages.\n"
     ]
    }
   ],
   "source": [
    "%pip install pandas\n",
    "import pandas as pd"
   ]
  },
  {
   "cell_type": "markdown",
   "metadata": {},
   "source": [
    "## Pandas Series\n",
    "\n",
    "A series is similar to a 1-D numpy array, and contains scalar values of the same type (numeric, character, datetime etc.). A dataframe is simply a table where each column is a pandas series. Let's start with creating a pandas series.\n",
    "\n",
    "### Creating pandas series from lists\n",
    "\n",
    "You can create pandas series using ```pd.Series(list)```. It's possible to pass a variety of data types to pandas series, including a numpy array. Let's first create a pandas series of integers from a python list.\n"
   ]
  },
  {
   "cell_type": "code",
   "execution_count": 49,
   "metadata": {},
   "outputs": [
    {
     "name": "stdout",
     "output_type": "stream",
     "text": [
      "This is a series: \n",
      "0    1\n",
      "1    2\n",
      "2    3\n",
      "3    4\n",
      "4    5\n",
      "dtype: int64\n"
     ]
    }
   ],
   "source": [
    "series1 = pd.Series([1,2,3,4,5])\n",
    "print(f'This is a series: \\n{series1}')"
   ]
  },
  {
   "cell_type": "markdown",
   "metadata": {},
   "source": [
    "If we don't pass a index argument to pd.Series(), pandas will by default assign indices (from 0) to the observations.\n",
    "\n",
    "### Indexing series\n",
    "\n",
    "Indexing series is exactly same as 1-D numpy arrays. For example:\n",
    "\n",
    "```\n",
    "data = pd.Series([0.25, 0.5, 'a', 0.75, 1.0],index = ['a', 'b', 'c', 'd', 'e'])\n",
    "```"
   ]
  },
  {
   "cell_type": "markdown",
   "metadata": {},
   "source": []
  },
  {
   "cell_type": "code",
   "execution_count": 50,
   "metadata": {},
   "outputs": [
    {
     "name": "stdout",
     "output_type": "stream",
     "text": [
      "The series with index: \n",
      "a    0.25\n",
      "b     0.5\n",
      "c       a\n",
      "d       1\n",
      "e    True\n",
      "dtype: object\n"
     ]
    }
   ],
   "source": [
    "series2 = pd.Series([0.25, 0.5, 'a', 1, True], index= ['a', 'b', 'c', 'd', 'e'])\n",
    "print(f'The series with index: \\n{series2}')"
   ]
  },
  {
   "cell_type": "markdown",
   "metadata": {},
   "source": [
    "Look, we can use different data types in a single pandas series! Also, we can explicitly assign indices to the elements. Let's see some examples of indexing.\n",
    "\n",
    "```\n",
    "data['b'] # get element by index\n",
    "\n",
    "data['b':'d'] # get elements from b to d (including d)\n",
    "\n",
    "data[['b','e']] # get elements at indexes b and e\n",
    "```"
   ]
  },
  {
   "cell_type": "code",
   "execution_count": 51,
   "metadata": {},
   "outputs": [
    {
     "name": "stdout",
     "output_type": "stream",
     "text": [
      " The value of the index \"a\" is: 0.25,\n",
      " the value of index \"b\" is: 0.5,\n",
      " the value of index \"c\" is: a,\n",
      " the value of index \"d\" is: 1,\n",
      " the value of index \"e\" is: True\n"
     ]
    }
   ],
   "source": [
    "print(f' The value of the index \"a\" is: {series2[\"a\"]},\\n the value of index \"b\" is: {series2[\"b\"]},\\n the value of index \"c\" is: {series2[\"c\"]},\\n the value of index \"d\" is: {series2[\"d\"]},\\n the value of index \"e\" is: {series2[\"e\"]}')"
   ]
  },
  {
   "cell_type": "code",
   "execution_count": 52,
   "metadata": {},
   "outputs": [
    {
     "name": "stdout",
     "output_type": "stream",
     "text": [
      "The type of index \"a\" is: <class 'float'>,\n",
      "the type of index \"b\" is: <class 'float'>,\n",
      "the type of index \"c\" is: <class 'str'>,\n",
      "the type of index \"d\" is: <class 'int'>,\n",
      "the type of index \"e\" is: <class 'bool'>\n"
     ]
    }
   ],
   "source": [
    "print(f'The type of index \"a\" is: {type(series2[\"a\"])},\\nthe type of index \"b\" is: {type(series2[\"b\"])},\\nthe type of index \"c\" is: {type(series2[\"c\"])},\\nthe type of index \"d\" is: {type(series2[\"d\"])},\\nthe type of index \"e\" is: {type(series2[\"e\"])}')"
   ]
  },
  {
   "cell_type": "code",
   "execution_count": 53,
   "metadata": {},
   "outputs": [
    {
     "name": "stdout",
     "output_type": "stream",
     "text": [
      "The type of the series is: <class 'pandas.core.series.Series'>\n",
      "The type of the series values is: <class 'numpy.ndarray'>\n"
     ]
    }
   ],
   "source": [
    "print(f'The type of the series is: {type(series2)}\\nThe type of the series values is: {type(series2.values)}')"
   ]
  },
  {
   "cell_type": "markdown",
   "metadata": {},
   "source": [
    "We can use ```.values and .index``` to get the corresponding numpy array representation of the series and the index object.\n"
   ]
  },
  {
   "cell_type": "code",
   "execution_count": 54,
   "metadata": {},
   "outputs": [
    {
     "name": "stdout",
     "output_type": "stream",
     "text": [
      "Using .values: [0.25 0.5 'a' 1 True]\n",
      "Using .index: Index(['a', 'b', 'c', 'd', 'e'], dtype='object')\n"
     ]
    }
   ],
   "source": [
    "print(f'Using .values: {series2.values}\\nUsing .index: {series2.index}')"
   ]
  },
  {
   "cell_type": "markdown",
   "metadata": {},
   "source": [
    "It works like a python dictionary with some extra features. For example, you can check if an index is present in the series using ```'index' in data```. You can also change the values corresponding to a particular index by assignment.\n",
    "\n",
    "\n",
    "### Creating pandas series from dictionary\n",
    "\n",
    "You can also create a pandas series from dictionary. The keys of the dictionary become the indices, and the values of the dictionary become the observations in the series.\n",
    "\n",
    "```\n",
    "\n",
    "population_dict = {'Delhi': 12312312,\n",
    "                   'Mumbai': 12312312,\n",
    "                   'Bangalore': 12312312,\n",
    "                   'Chennai': 12312312,\n",
    "                   'Hyderabad': 12312312}\n",
    "\n",
    "population = pd.Series(population_dict)\n",
    "\n",
    "population['Delhi'] # get element by index"
   ]
  },
  {
   "cell_type": "code",
   "execution_count": 55,
   "metadata": {},
   "outputs": [
    {
     "name": "stdout",
     "output_type": "stream",
     "text": [
      "We can access the values of the series using the index: 1\n"
     ]
    }
   ],
   "source": [
    "create_series_using_dict = {\n",
    "    'a': 1,\n",
    "    'b': 2,\n",
    "    'c': 3,\n",
    "    'd': 4\n",
    "}\n",
    "\n",
    "series3 = pd.Series(create_series_using_dict)\n",
    "\n",
    "print(f'We can access the values of the series using the index: {series3[\"a\"]}')"
   ]
  },
  {
   "cell_type": "markdown",
   "metadata": {},
   "source": [
    "We can also use slicing on the series, just like a numpy array."
   ]
  },
  {
   "cell_type": "code",
   "execution_count": 56,
   "metadata": {},
   "outputs": [
    {
     "name": "stdout",
     "output_type": "stream",
     "text": [
      "The slicing of the series is: \n",
      "a    1\n",
      "b    2\n",
      "c    3\n",
      "dtype: int64\n"
     ]
    }
   ],
   "source": [
    "slicing = series3['a':'c']\n",
    "print(f'The slicing of the series is: \\n{slicing}')"
   ]
  },
  {
   "cell_type": "markdown",
   "metadata": {},
   "source": [
    "## Pandas DataFrames\n",
    "\n",
    "A dataframe is a tabular data structure, encapsulating multiple series like columns in a spreadsheet. Dataframes can be thought of as dictionaries of series.\n"
   ]
  },
  {
   "cell_type": "code",
   "execution_count": 57,
   "metadata": {},
   "outputs": [
    {
     "name": "stdout",
     "output_type": "stream",
     "text": [
      "This is a data frame: \n",
      "   Grades  Marks\n",
      "A       4     80\n",
      "B       3     70\n",
      "C       2     60\n",
      "D       1     50\n"
     ]
    }
   ],
   "source": [
    "grades = {\n",
    "    'A': 4,\n",
    "    'B': 3,\n",
    "    'C': 2,\n",
    "    'D': 1\n",
    "}\n",
    "\n",
    "marks = {\n",
    "    'A': 80,\n",
    "    'B': 70,\n",
    "    'C': 60,\n",
    "    'D': 50,\n",
    "}\n",
    "\n",
    "data_frame1 = pd.DataFrame({'Grades': grades, 'Marks': marks})\n",
    "print(f'This is a data frame: \\n{data_frame1}')\n",
    "\n",
    "\n"
   ]
  },
  {
   "cell_type": "markdown",
   "metadata": {},
   "source": [
    "We can transpose the dataframe using ```T```."
   ]
  },
  {
   "cell_type": "code",
   "execution_count": 58,
   "metadata": {},
   "outputs": [
    {
     "name": "stdout",
     "output_type": "stream",
     "text": [
      "This is the transposed data frame: \n",
      "         A   B   C   D\n",
      "Grades   4   3   2   1\n",
      "Marks   80  70  60  50\n"
     ]
    }
   ],
   "source": [
    "print(f'This is the transposed data frame: \\n{data_frame1.T}')"
   ]
  },
  {
   "cell_type": "code",
   "execution_count": 59,
   "metadata": {},
   "outputs": [
    {
     "name": "stdout",
     "output_type": "stream",
     "text": [
      "Values: \n",
      "[[ 4 80]\n",
      " [ 3 70]\n",
      " [ 2 60]\n",
      " [ 1 50]]\n"
     ]
    }
   ],
   "source": [
    "print(f'Values: \\n{data_frame1.values}')"
   ]
  },
  {
   "cell_type": "markdown",
   "metadata": {},
   "source": [
    "The access of an individual series is just like dictionary-style indexing."
   ]
  },
  {
   "cell_type": "code",
   "execution_count": 60,
   "metadata": {},
   "outputs": [
    {
     "name": "stdout",
     "output_type": "stream",
     "text": [
      "Accessing the value 80: 80\n"
     ]
    }
   ],
   "source": [
    "print(f'Accessing the value 80: {data_frame1.values[0,1]}')"
   ]
  },
  {
   "cell_type": "markdown",
   "metadata": {},
   "source": [
    "Adding a new value at a new index is easy and can be done via assignment."
   ]
  },
  {
   "cell_type": "code",
   "execution_count": 61,
   "metadata": {},
   "outputs": [
    {
     "name": "stdout",
     "output_type": "stream",
     "text": [
      "This is the new data frame: \n",
      "   Grades  Marks  ScaledMarks\n",
      "A       4     80        100.0\n",
      "B       3     70         87.5\n",
      "C       2     60         75.0\n",
      "D       1     50         62.5\n"
     ]
    }
   ],
   "source": [
    "data_frame1['ScaledMarks'] = 100 * data_frame1['Marks'] / 80\n",
    "print(f'This is the new data frame: \\n{data_frame1}')"
   ]
  },
  {
   "cell_type": "markdown",
   "metadata": {},
   "source": [
    "We can use ```del``` to delete columns, in the same way as for a dictionary."
   ]
  },
  {
   "cell_type": "code",
   "execution_count": 62,
   "metadata": {},
   "outputs": [
    {
     "name": "stdout",
     "output_type": "stream",
     "text": [
      "This is the new data frame: \n",
      "   Grades  Marks\n",
      "A       4     80\n",
      "B       3     70\n",
      "C       2     60\n",
      "D       1     50\n"
     ]
    }
   ],
   "source": [
    "del data_frame1['ScaledMarks']\n",
    "print(f'This is the new data frame: \\n{data_frame1}')"
   ]
  },
  {
   "cell_type": "markdown",
   "metadata": {},
   "source": [
    "Or we can use drop to delete a row, by passing axis=0."
   ]
  },
  {
   "cell_type": "code",
   "execution_count": 63,
   "metadata": {},
   "outputs": [
    {
     "name": "stdout",
     "output_type": "stream",
     "text": [
      "This is the new data frame: \n",
      "   Grades  Marks\n",
      "A       4     80\n",
      "B       3     70\n",
      "C       2     60\n",
      "D       1     50\n"
     ]
    }
   ],
   "source": [
    "drop_test = data_frame1.drop('Marks', axis=1, inplace=False)\n",
    "print(f'This is the new data frame: \\n{data_frame1}')"
   ]
  },
  {
   "cell_type": "markdown",
   "metadata": {},
   "source": [
    "The drop function recieves the index label and axis=0 for row and axis=1 for column as argument. The inplace argument tells whether to update the original dataframe or return a copy with or without the deletion. If is set to True, the original dataframe is updated, and if False, a copy is returned."
   ]
  },
  {
   "cell_type": "markdown",
   "metadata": {},
   "source": [
    "We can use operators like ```>, <, ==, >=``` etc. to generate boolean series which can be used to filter rows.\n",
    "\n",
    "We can also use boolean operators ```| (or), & (and), ~ (not)``` to combine multiple conditions.\n"
   ]
  },
  {
   "cell_type": "code",
   "execution_count": 65,
   "metadata": {},
   "outputs": [
    {
     "name": "stdout",
     "output_type": "stream",
     "text": [
      "Grades higher than 2: \n",
      "   Grades  Marks\n",
      "A       4     80\n",
      "B       3     70\n"
     ]
    }
   ],
   "source": [
    "grades_higher_than_2 = data_frame1[data_frame1['Grades'] > 2]\n",
    "print(f'Grades higher than 2: \\n{grades_higher_than_2}')"
   ]
  },
  {
   "cell_type": "code",
   "execution_count": 71,
   "metadata": {},
   "outputs": [
    {
     "name": "stdout",
     "output_type": "stream",
     "text": [
      "Grades higher or equal than 3 and marks less or equal than 70: \n",
      "   Grades  Marks\n",
      "B       3     70\n"
     ]
    }
   ],
   "source": [
    "grades_higher_than_3_and_marks_less_than_70 = data_frame1[(data_frame1['Grades'] >= 3) & (data_frame1['Marks'] <= 70)]\n",
    "print(f'Grades higher or equal than 3 and marks less or equal than 70: \\n{grades_higher_than_3_and_marks_less_than_70}')"
   ]
  },
  {
   "cell_type": "markdown",
   "metadata": {},
   "source": [
    "### Missing Values\n",
    "\n",
    "Missing values are common in real world data. Pandas treat ```None``` and ```NaN``` as essentially interchangeable for indicating missing or null values. Pandas provides ```isnull()``` and ```notnull()``` functions to detect null values."
   ]
  },
  {
   "cell_type": "code",
   "execution_count": 73,
   "metadata": {},
   "outputs": [
    {
     "name": "stdout",
     "output_type": "stream",
     "text": [
      "This is a new data frame: \n",
      "     a  b    c\n",
      "0  1.0  2  NaN\n",
      "1  NaN  3  4.0\n"
     ]
    }
   ],
   "source": [
    "data_frame2 = pd.DataFrame([{'a':1,'b':2}, {'b':3,'c':4}])\n",
    "\n",
    "print(f'This is a new data frame: \\n{data_frame2}')"
   ]
  },
  {
   "cell_type": "markdown",
   "metadata": {},
   "source": [
    "We can use the method ```fillna()``` to fill missing values in a dataframe. The parameter of fillna() is the value which will be used to replace the missing values. For example, we can use ```df.fillna(0)``` to replace all missing values with 0. We can also use ```df.fillna(method='ffill')``` to use a forward-fill, propagating the previous value forward. Similarly, ```bfill``` will propagate the next values backward."
   ]
  },
  {
   "cell_type": "code",
   "execution_count": 76,
   "metadata": {},
   "outputs": [
    {
     "name": "stdout",
     "output_type": "stream",
     "text": [
      "This is the new data frame: \n",
      "     a  b    c\n",
      "0  1.0  2  0.0\n",
      "1  0.0  3  4.0\n"
     ]
    }
   ],
   "source": [
    "removing_null_values = data_frame2.fillna(0)\n",
    "print(f'This is the new data frame: \\n{removing_null_values}')"
   ]
  },
  {
   "cell_type": "markdown",
   "metadata": {},
   "source": [
    "### Loc and Iloc\n",
    "\n",
    "Pandas provides ```loc``` and ```iloc``` to index and slice dataframe. ```loc``` uses the names of rows or columns, while ```iloc``` uses the indexes.\n",
    "\n",
    "```\n",
    "df.loc['a':'c', 'A':'C'] # slice a-c rows, A-C columns\n",
    "\n",
    "df.iloc[0:2, 0:2] # slice first 2 rows and first 2 columns\n",
    "```\n",
    "\n",
    "The difference between ```loc``` and ```iloc``` is more apparent when we use non-numerical indices.\n",
    "\n",
    "```\n",
    "df.loc['a':'c', 'A':'C'] # slice a-c rows, A-C columns\n",
    "\n",
    "df.iloc[0:2, 0:2] # slice first 2 rows and first 2 columns\n",
    "```\n",
    "\n"
   ]
  },
  {
   "cell_type": "code",
   "execution_count": 82,
   "metadata": {},
   "outputs": [],
   "source": [
    "A = pd.Series(['a', 'b', 'c'], index=[1,3,5])"
   ]
  },
  {
   "cell_type": "code",
   "execution_count": 83,
   "metadata": {},
   "outputs": [
    {
     "data": {
      "text/plain": [
       "'a'"
      ]
     },
     "execution_count": 83,
     "metadata": {},
     "output_type": "execute_result"
    }
   ],
   "source": [
    "A[1]"
   ]
  },
  {
   "cell_type": "code",
   "execution_count": 88,
   "metadata": {},
   "outputs": [
    {
     "data": {
      "text/plain": [
       "3    b\n",
       "5    c\n",
       "dtype: object"
      ]
     },
     "execution_count": 88,
     "metadata": {},
     "output_type": "execute_result"
    }
   ],
   "source": [
    "A[1:3] # the slicing is start in the index 1 and end in the index 3"
   ]
  },
  {
   "cell_type": "code",
   "execution_count": 85,
   "metadata": {},
   "outputs": [
    {
     "data": {
      "text/plain": [
       "1    a\n",
       "3    b\n",
       "dtype: object"
      ]
     },
     "execution_count": 85,
     "metadata": {},
     "output_type": "execute_result"
    }
   ],
   "source": [
    "A.loc[1:3]"
   ]
  },
  {
   "cell_type": "code",
   "execution_count": 86,
   "metadata": {},
   "outputs": [
    {
     "data": {
      "text/plain": [
       "3    b\n",
       "5    c\n",
       "dtype: object"
      ]
     },
     "execution_count": 86,
     "metadata": {},
     "output_type": "execute_result"
    }
   ],
   "source": [
    "A.iloc[1:3]"
   ]
  },
  {
   "cell_type": "code",
   "execution_count": null,
   "metadata": {},
   "outputs": [],
   "source": []
  }
 ],
 "metadata": {
  "kernelspec": {
   "display_name": "base",
   "language": "python",
   "name": "python3"
  },
  "language_info": {
   "codemirror_mode": {
    "name": "ipython",
    "version": 3
   },
   "file_extension": ".py",
   "mimetype": "text/x-python",
   "name": "python",
   "nbconvert_exporter": "python",
   "pygments_lexer": "ipython3",
   "version": "3.11.5"
  }
 },
 "nbformat": 4,
 "nbformat_minor": 2
}
