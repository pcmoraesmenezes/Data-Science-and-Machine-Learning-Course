{
 "cells": [
  {
   "cell_type": "markdown",
   "metadata": {},
   "source": [
    "# Exercises about Numpy"
   ]
  },
  {
   "cell_type": "code",
   "execution_count": 46,
   "metadata": {},
   "outputs": [],
   "source": [
    "import numpy as np"
   ]
  },
  {
   "cell_type": "code",
   "execution_count": 47,
   "metadata": {},
   "outputs": [
    {
     "name": "stdout",
     "output_type": "stream",
     "text": [
      "My array 1: [2.75058068 3.57764063 5.78979408 1.04636844 1.6554314  4.24897624\n",
      " 3.40036187 4.71864627 5.59107001 1.60471078 2.92287115 2.51995301\n",
      " 6.31687915 9.92556891 8.01368504 9.82396881 2.80744207 4.58912596\n",
      " 8.89129181 7.86540586 7.05141071 4.2786358  0.36550638 5.187195\n",
      " 4.364646   9.03970787 5.78665397 0.69813381 1.11409697 3.14787136\n",
      " 0.41967884 8.01508805 4.78521779 4.65980516 3.38844018 2.45374792\n",
      " 1.89608177 4.55519359 3.47566081 0.40058042 0.23771522 3.6464033\n",
      " 7.25780463 7.43705143 6.19518383 8.84230506 9.76190943 4.41663682\n",
      " 7.0198216  6.15399765]\n"
     ]
    }
   ],
   "source": [
    "# Create an array myArray1 using numpy.random.rand for 50 values multiplied by 10\n",
    "\n",
    "myArray1 = np.random.rand(50)*10\n",
    "\n",
    "print(f'My array 1: {myArray1}')\n"
   ]
  },
  {
   "cell_type": "code",
   "execution_count": 48,
   "metadata": {},
   "outputs": [
    {
     "name": "stdout",
     "output_type": "stream",
     "text": [
      "My new array: [ 3.  4.  6.  1.  2.  4.  3.  5.  6.  2.  3.  3.  6. 10.  8. 10.  3.  5.\n",
      "  9.  8.  7.  4.  0.  5.  4.  9.  6.  1.  1.  3.  0.  8.  5.  5.  3.  2.\n",
      "  2.  5.  3.  0.  0.  4.  7.  7.  6.  9. 10.  4.  7.  6.]\n"
     ]
    }
   ],
   "source": [
    "# Remove decimal points values of myArray1\n",
    "\n",
    "# If the values has 0.5 than round up to the next integer\n",
    "\n",
    "# If the values has 0.4 than round down to the previous integer\n",
    "\n",
    "rounded_values = np.where(myArray1 % 1 >= 0.5, np.ceil(myArray1), np.floor(myArray1))\n",
    "\n",
    "print(f'My new array: {rounded_values}')\n"
   ]
  },
  {
   "cell_type": "code",
   "execution_count": 50,
   "metadata": {},
   "outputs": [
    {
     "name": "stdout",
     "output_type": "stream",
     "text": [
      "My array 2: [5.78979408 5.59107001 6.31687915 9.92556891 8.01368504 9.82396881\n",
      " 8.89129181 7.86540586 7.05141071 5.187195   9.03970787 5.78665397\n",
      " 8.01508805 7.25780463 7.43705143 6.19518383 8.84230506 9.76190943\n",
      " 7.0198216  6.15399765]\n"
     ]
    }
   ],
   "source": [
    "# make another array myArray2 that stores only numbers that are greater than 5 from my array 1\n",
    "\n",
    "myArray2 = myArray1[myArray1 > 5]\n",
    "\n",
    "print(f'My array 2: {myArray2}')"
   ]
  },
  {
   "cell_type": "code",
   "execution_count": 51,
   "metadata": {},
   "outputs": [
    {
     "name": "stdout",
     "output_type": "stream",
     "text": [
      "My array 1 sorted: [9.92556891 9.82396881 9.76190943 9.03970787 8.89129181 8.84230506\n",
      " 8.01508805 8.01368504 7.86540586 7.43705143 7.25780463 7.05141071\n",
      " 7.0198216  6.31687915 6.19518383 6.15399765 5.78979408 5.78665397\n",
      " 5.59107001 5.187195   4.78521779 4.71864627 4.65980516 4.58912596\n",
      " 4.55519359 4.41663682 4.364646   4.2786358  4.24897624 3.6464033\n",
      " 3.57764063 3.47566081 3.40036187 3.38844018 3.14787136 2.92287115\n",
      " 2.80744207 2.75058068 2.51995301 2.45374792 1.89608177 1.6554314\n",
      " 1.60471078 1.11409697 1.04636844 0.69813381 0.41967884 0.40058042\n",
      " 0.36550638 0.23771522]\n",
      "My array 2 sorted: [5.187195   5.59107001 5.78665397 5.78979408 6.15399765 6.19518383\n",
      " 6.31687915 7.0198216  7.05141071 7.25780463 7.43705143 7.86540586\n",
      " 8.01368504 8.01508805 8.84230506 8.89129181 9.03970787 9.76190943\n",
      " 9.82396881 9.92556891]\n"
     ]
    }
   ],
   "source": [
    "# sort myArray2 in ascending order and myArray1 in descending order\n",
    "\n",
    "myArray2.sort()\n",
    "myArray1.sort()\n",
    "myArray1 = myArray1[::-1]\n",
    "\n",
    "print(f'My array 1 sorted: {myArray1}')\n",
    "print(f'My array 2 sorted: {myArray2}')"
   ]
  }
 ],
 "metadata": {
  "kernelspec": {
   "display_name": "base",
   "language": "python",
   "name": "python3"
  },
  "language_info": {
   "codemirror_mode": {
    "name": "ipython",
    "version": 3
   },
   "file_extension": ".py",
   "mimetype": "text/x-python",
   "name": "python",
   "nbconvert_exporter": "python",
   "pygments_lexer": "ipython3",
   "version": "3.11.5"
  }
 },
 "nbformat": 4,
 "nbformat_minor": 2
}
