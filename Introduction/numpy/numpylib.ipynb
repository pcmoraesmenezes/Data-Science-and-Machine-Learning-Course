{
 "cells": [
  {
   "cell_type": "markdown",
   "metadata": {},
   "source": [
    "# Numpy"
   ]
  },
  {
   "cell_type": "markdown",
   "metadata": {},
   "source": [
    "Numpy is like list but with more features and faster.\n",
    "\n",
    "\n",
    "List is a collection of data objects. \n",
    "Example: [1,2,3,4,5,6,7,8,9,10]\n",
    "\n",
    "A list can contain a diferent type of data objects.\n",
    "\n",
    "Example: [1,2,3,4,5,6,7,8,9,10, \"Hello\", \"World\"]\n",
    "\n",
    "Otherwise NumPy array can contain only one type of data objects.\n",
    "\n",
    "Example: [1,2,3,4,5,6,7,8,9,10] or [1.0,2.0,3.0,4.0,5.0,6.0,7.0,8.0,9.0,10] or [\"Hello\", \"World\"]\n"
   ]
  },
  {
   "cell_type": "markdown",
   "metadata": {},
   "source": [
    "## How to import numpy?"
   ]
  },
  {
   "cell_type": "code",
   "execution_count": 38,
   "metadata": {},
   "outputs": [],
   "source": [
    "import numpy as np"
   ]
  },
  {
   "cell_type": "markdown",
   "metadata": {},
   "source": [
    "Its common to import numpy as np"
   ]
  },
  {
   "cell_type": "markdown",
   "metadata": {},
   "source": [
    "It's possible to use list to create a numpy array or tuple.\n",
    "\n",
    "#### What's array?\n",
    "\n",
    "Array is a collection of data objects of the same type."
   ]
  },
  {
   "cell_type": "code",
   "execution_count": 39,
   "metadata": {},
   "outputs": [
    {
     "name": "stdout",
     "output_type": "stream",
     "text": [
      "[1 2 3 4 5]\n",
      "[1 2 3 4 5]\n"
     ]
    }
   ],
   "source": [
    "using_list = np.array([1, 2, 3, 4, 5])\n",
    "print(using_list)\n",
    "\n",
    "using_tuple = np.array((1, 2, 3, 4, 5))\n",
    "print(using_tuple)\n"
   ]
  },
  {
   "cell_type": "markdown",
   "metadata": {},
   "source": [
    "Let's check the type of the using_list and using_tuple."
   ]
  },
  {
   "cell_type": "code",
   "execution_count": 40,
   "metadata": {},
   "outputs": [
    {
     "data": {
      "text/plain": [
       "\"The type of using_list is <class 'numpy.ndarray'>, and the type of using_tuple is <class 'numpy.ndarray'>\""
      ]
     },
     "metadata": {},
     "output_type": "display_data"
    }
   ],
   "source": [
    "display(f'The type of using_list is {type(using_list)}, and the type of using_tuple is {type(using_tuple)}')"
   ]
  },
  {
   "cell_type": "markdown",
   "metadata": {},
   "source": [
    "They are equal?"
   ]
  },
  {
   "cell_type": "code",
   "execution_count": 41,
   "metadata": {},
   "outputs": [
    {
     "data": {
      "text/plain": [
       "True"
      ]
     },
     "execution_count": 41,
     "metadata": {},
     "output_type": "execute_result"
    }
   ],
   "source": [
    "type(using_list) == type(using_tuple)"
   ]
  },
  {
   "cell_type": "markdown",
   "metadata": {},
   "source": [
    "Yes they are equal!"
   ]
  },
  {
   "cell_type": "markdown",
   "metadata": {},
   "source": [
    "Let's check out now the data type using dtype."
   ]
  },
  {
   "cell_type": "code",
   "execution_count": 42,
   "metadata": {},
   "outputs": [
    {
     "data": {
      "text/plain": [
       "'The data type of using_list is int64, and the data type of using_tuple is int64'"
      ]
     },
     "metadata": {},
     "output_type": "display_data"
    }
   ],
   "source": [
    "display(f'The data type of using_list is {using_list.dtype}, and the data type of using_tuple is {using_tuple.dtype}')"
   ]
  },
  {
   "cell_type": "markdown",
   "metadata": {},
   "source": [
    "They are int64. In other words, they are integers."
   ]
  },
  {
   "cell_type": "markdown",
   "metadata": {},
   "source": [
    "It's possible to declare the data type in creation time. Let's check out."
   ]
  },
  {
   "cell_type": "code",
   "execution_count": 43,
   "metadata": {},
   "outputs": [
    {
     "data": {
      "text/plain": [
       "'The data type of declaring_int_for_list is int64, and the data type of declaring_float_for_tuple is float64'"
      ]
     },
     "metadata": {},
     "output_type": "display_data"
    }
   ],
   "source": [
    "declaring_int_for_list = np.array([1, 2, 3, 4, 5], dtype='int')\n",
    "\n",
    "declaring_float_for_tuple = np.array((1, 2, 3, 4, 5), dtype='float')\n",
    "\n",
    "display(f'The data type of declaring_int_for_list is {declaring_int_for_list.dtype}, and the data type of declaring_float_for_tuple is {declaring_float_for_tuple.dtype}')"
   ]
  },
  {
   "cell_type": "markdown",
   "metadata": {},
   "source": [
    "As we see we have an integer declaration and a float declaration. Are they equal?"
   ]
  },
  {
   "cell_type": "code",
   "execution_count": 44,
   "metadata": {},
   "outputs": [
    {
     "name": "stdout",
     "output_type": "stream",
     "text": [
      "The datatype of list are equal? False. \n",
      "The type of list are equal? True\n"
     ]
    }
   ],
   "source": [
    "print(f'The datatype of list are equal? {declaring_int_for_list.dtype == declaring_float_for_tuple.dtype}. \\n' \n",
    "f'The type of list are equal? {type(declaring_int_for_list) == type(declaring_float_for_tuple)}')\n"
   ]
  },
  {
   "cell_type": "markdown",
   "metadata": {},
   "source": [
    "The data type is different. The first one is int64 and the second one is float64. But the type of the array is the same."
   ]
  },
  {
   "cell_type": "markdown",
   "metadata": {},
   "source": [
    "Let's look at dimensions."
   ]
  },
  {
   "cell_type": "code",
   "execution_count": 45,
   "metadata": {},
   "outputs": [],
   "source": [
    "one_dimensional_array = np.array([1, 2, 3, 4, 5])"
   ]
  },
  {
   "cell_type": "markdown",
   "metadata": {},
   "source": [
    "One Dimensional Array only needs one index to access the data object. If we want the first element we use the index 0. If we want the value 3 we use the index 2."
   ]
  },
  {
   "cell_type": "markdown",
   "metadata": {},
   "source": [
    "### How we check the dimension of an array?\n",
    "\n",
    "We use the attribute ndim."
   ]
  },
  {
   "cell_type": "code",
   "execution_count": 46,
   "metadata": {},
   "outputs": [
    {
     "name": "stdout",
     "output_type": "stream",
     "text": [
      "The number of dimensions is: 1\n"
     ]
    }
   ],
   "source": [
    "print(f'The number of dimensions is: {one_dimensional_array.ndim}')"
   ]
  },
  {
   "cell_type": "code",
   "execution_count": 47,
   "metadata": {},
   "outputs": [
    {
     "name": "stdout",
     "output_type": "stream",
     "text": [
      "The number of dimensions is: 2\n"
     ]
    }
   ],
   "source": [
    "two_dimensional_array = np.array([[1, 2, 3, 4, 5], [6, 7, 8, 9, 10]])\n",
    "print(f'The number of dimensions is: {two_dimensional_array.ndim}')"
   ]
  },
  {
   "cell_type": "markdown",
   "metadata": {},
   "source": [
    "Look at the variable ```two_dimensional_array```, we have a list of lists.\n",
    "\n",
    "So for two dimensional array we need two indexes to access the data object. We can access the value 1 using: ```two_dimensional_array[0][0]```\n",
    "\n",
    "The arrays can´t contain diferent sizes. For example ```two_dimensional_array_with_diferent_size = np.array([[1,2,3], [2,4,5,6]])```"
   ]
  },
  {
   "cell_type": "code",
   "execution_count": 48,
   "metadata": {},
   "outputs": [
    {
     "name": "stdout",
     "output_type": "stream",
     "text": [
      "The number of dimensions is: 3\n",
      "To access an value, for example 17: three_dimensional_array[1][1][1]\n"
     ]
    }
   ],
   "source": [
    "three_dimensional_array = np.array([[[1, 2, 3, 4, 5], [6, 7, 8, 9, 10]],[[11, 12, 13, 14, 15], [16, 17, 18, 19, 20]]])\n",
    "print(f'The number of dimensions is: {three_dimensional_array.ndim}')\n",
    "\n",
    "# To access an element:\n",
    "\n",
    "print(f'To access an value, for example 17: three_dimensional_array[1][1][1]')"
   ]
  },
  {
   "cell_type": "markdown",
   "metadata": {},
   "source": [
    "To avoid confusion you need to check the '[]' where it start and where it ends, for example, ```[[1, 2, 3, 4, 5], [6, 7, 8, 9, 10]] ``` This are at index 0. We know that because the first declarition of '[]' Ends at the end of the List. And the seccond declaration of '[]' Starts in sequence of the first declaration of '[]' and ends at the end of the seccond list. So the third '[]' represents the first list.\n",
    "\n",
    "Another example. If we want to access the value 3. We can use: ```three_dimensional_array[0][0][2]```\n",
    "\n",
    "After every '[]' the containts gets more specific."
   ]
  },
  {
   "cell_type": "markdown",
   "metadata": {},
   "source": [
    "We can use for loops to access the data objects."
   ]
  },
  {
   "cell_type": "markdown",
   "metadata": {},
   "source": [
    "### What's shape? \n",
    "\n",
    "the shape is the number of elements in each dimension. We can use the attribute shape to check it out.\n",
    "\n",
    "For example the shape of ```three_dimensional_array``` is (2, 2, 5). It means that we have 2 elements in the first dimension, 2 elements in the seccond dimension and 3 elements in the third dimension.\n",
    "\n",
    "The shape starts with the less specific dimension and ends with the most specific dimension. For example the value 5 represents the amount of elements in the third dimension."
   ]
  },
  {
   "cell_type": "code",
   "execution_count": 49,
   "metadata": {},
   "outputs": [
    {
     "name": "stdout",
     "output_type": "stream",
     "text": [
      "The shape of one_dimensional_array is: (5,)\n",
      "The shape of two_dimensional_array is: (2, 5)\n",
      "The shape of three_dimensional_array is: (2, 2, 5)\n"
     ]
    }
   ],
   "source": [
    "# One dimensional array: one_dimensional_array = np.array([1, 2, 3, 4, 5])\n",
    "# Two dimensional array: two_dimensional_array = np.array([[1, 2, 3, 4, 5], [6, 7, 8, 9, 10]])\n",
    "# Three dimensional array: three_dimensional_array = np.array([[[1, 2, 3, 4, 5], [6, 7, 8, 9, 10]],[[11, 12, 13, 14, 15], [16, 17, 18, 19, 20]]])\n",
    "print(f'The shape of one_dimensional_array is: {one_dimensional_array.shape}')\n",
    "print(f'The shape of two_dimensional_array is: {two_dimensional_array.shape}')\n",
    "print(f'The shape of three_dimensional_array is: {three_dimensional_array.shape}')"
   ]
  },
  {
   "cell_type": "markdown",
   "metadata": {},
   "source": [
    "After know about shape, we can use that knowledge to use for loops to access the data objects. Let's check out."
   ]
  },
  {
   "cell_type": "code",
   "execution_count": 50,
   "metadata": {},
   "outputs": [
    {
     "name": "stdout",
     "output_type": "stream",
     "text": [
      "Element at row 0, column 0: 1\n",
      "Element at row 0, column 1: 2\n",
      "Element at row 0, column 2: 3\n",
      "Element at row 0, column 3: 4\n",
      "Element at row 0, column 4: 5\n",
      "Element at row 1, column 0: 6\n",
      "Element at row 1, column 1: 7\n",
      "Element at row 1, column 2: 8\n",
      "Element at row 1, column 3: 9\n",
      "Element at row 1, column 4: 10\n"
     ]
    }
   ],
   "source": [
    "num_rows, num_cols = two_dimensional_array.shape\n",
    "\n",
    "for i in range(num_rows):\n",
    "    for j in range(num_cols):\n",
    "        element = two_dimensional_array[i, j]\n",
    "        print(f\"Element at row {i}, column {j}: {element}\")"
   ]
  },
  {
   "cell_type": "code",
   "execution_count": 51,
   "metadata": {},
   "outputs": [
    {
     "name": "stdout",
     "output_type": "stream",
     "text": [
      "Element at row 0, column 0, depth 0: 1\n",
      "Element at row 0, column 0, depth 1: 2\n",
      "Element at row 0, column 0, depth 2: 3\n",
      "Element at row 0, column 0, depth 3: 4\n",
      "Element at row 0, column 0, depth 4: 5\n",
      "Element at row 0, column 1, depth 0: 6\n",
      "Element at row 0, column 1, depth 1: 7\n",
      "Element at row 0, column 1, depth 2: 8\n",
      "Element at row 0, column 1, depth 3: 9\n",
      "Element at row 0, column 1, depth 4: 10\n",
      "Element at row 1, column 0, depth 0: 11\n",
      "Element at row 1, column 0, depth 1: 12\n",
      "Element at row 1, column 0, depth 2: 13\n",
      "Element at row 1, column 0, depth 3: 14\n",
      "Element at row 1, column 0, depth 4: 15\n",
      "Element at row 1, column 1, depth 0: 16\n",
      "Element at row 1, column 1, depth 1: 17\n",
      "Element at row 1, column 1, depth 2: 18\n",
      "Element at row 1, column 1, depth 3: 19\n",
      "Element at row 1, column 1, depth 4: 20\n"
     ]
    }
   ],
   "source": [
    "num_rows, num_cols , depth = three_dimensional_array.shape\n",
    "\n",
    "for i in range(num_rows):\n",
    "    for j in range(num_cols):\n",
    "        for k in range(depth):\n",
    "            element = three_dimensional_array[i, j, k]\n",
    "            print(f\"Element at row {i}, column {j}, depth {k}: {element}\")"
   ]
  },
  {
   "cell_type": "markdown",
   "metadata": {},
   "source": [
    "Looking at that we can see that the amount of dimensions is equal to the amount of for loops. In other words, more dimensions equals a more algorithms complexity.\n",
    "\n",
    "The foor loop is useful if we are in doubt about how to access a data object."
   ]
  },
  {
   "cell_type": "markdown",
   "metadata": {},
   "source": [
    "### What's size?\n",
    "\n",
    "The size is the total number of elements in the array. We can use the attribute size to check it out."
   ]
  },
  {
   "cell_type": "code",
   "execution_count": 52,
   "metadata": {},
   "outputs": [
    {
     "name": "stdout",
     "output_type": "stream",
     "text": [
      "The amount of elements in three_dimensional_array is: 20\n"
     ]
    }
   ],
   "source": [
    "print(f'The amount of elements in three_dimensional_array is: {three_dimensional_array.size}')"
   ]
  },
  {
   "cell_type": "markdown",
   "metadata": {},
   "source": [
    "### npRange\n",
    "\n",
    "#### What's npRange?\n",
    "\n",
    "npRange is a function that creates an array with a range of numbers.\n",
    "\n",
    "#### How to use npRange?\n",
    "\n",
    "We can use npRange to create an array with a range of numbers. For example, ```np.arange(0, 10)``` creates an array with a range of numbers from 0 to 9.\n",
    "\n",
    "#### What's the difference between npRange and range?\n",
    "\n",
    "The difference is that npRange creates an array and range creates a list.\n",
    "\n"
   ]
  },
  {
   "cell_type": "code",
   "execution_count": 53,
   "metadata": {},
   "outputs": [
    {
     "data": {
      "text/plain": [
       "array([0, 1, 2, 3, 4, 5, 6, 7, 8, 9])"
      ]
     },
     "execution_count": 53,
     "metadata": {},
     "output_type": "execute_result"
    }
   ],
   "source": [
    "arrange_example = np.arange(0, 10)\n",
    "arrange_example"
   ]
  },
  {
   "cell_type": "code",
   "execution_count": 54,
   "metadata": {},
   "outputs": [
    {
     "name": "stdout",
     "output_type": "stream",
     "text": [
      "The shape of arrange_example is: (10,),  the dimension is: 1, and the size is: 10\n"
     ]
    }
   ],
   "source": [
    "print(f'The shape of arrange_example is: {arrange_example.shape},  the dimension is: {arrange_example.ndim}, and the size is: {arrange_example.size}')"
   ]
  },
  {
   "cell_type": "markdown",
   "metadata": {},
   "source": [
    "We can start at any number. For example, ```np.arange(1, 10)``` creates an array with a range of numbers from 1 to 9."
   ]
  },
  {
   "cell_type": "code",
   "execution_count": 55,
   "metadata": {},
   "outputs": [
    {
     "data": {
      "text/plain": [
       "array([66, 67, 68, 69, 70, 71, 72, 73, 74, 75, 76, 77, 78, 79, 80, 81, 82,\n",
       "       83, 84, 85, 86, 87, 88, 89, 90, 91, 92, 93, 94, 95, 96, 97, 98, 99])"
      ]
     },
     "execution_count": 55,
     "metadata": {},
     "output_type": "execute_result"
    }
   ],
   "source": [
    "any_start = np.arange(66, 100)\n",
    "any_start"
   ]
  },
  {
   "cell_type": "markdown",
   "metadata": {},
   "source": [
    "It's possible to use a step. For example, ```np.arange(1, 10, 2)``` creates an array with a range of numbers from 1 to 9 with a step of 2."
   ]
  },
  {
   "cell_type": "code",
   "execution_count": 56,
   "metadata": {},
   "outputs": [
    {
     "data": {
      "text/plain": [
       "array([ 0,  5, 10, 15, 20, 25, 30, 35, 40, 45, 50, 55, 60, 65, 70, 75, 80,\n",
       "       85, 90, 95])"
      ]
     },
     "execution_count": 56,
     "metadata": {},
     "output_type": "execute_result"
    }
   ],
   "source": [
    "any_step = np.arange(0, 100, 5)\n",
    "any_step"
   ]
  },
  {
   "cell_type": "markdown",
   "metadata": {},
   "source": [
    "### Permutations\n",
    "\n",
    "#### What's permutations?\n",
    "\n",
    "Permutation is a function to shuffle the elements of an array.\n",
    "\n",
    "#### How to use permutations?\n",
    "\n",
    "We can use permutations to shuffle the elements of an array. For example, ```np.random.permutation(np.arange(0, 10))``` shuffles the elements of an array with a range of numbers from 0 to 9.\n"
   ]
  },
  {
   "cell_type": "code",
   "execution_count": 57,
   "metadata": {},
   "outputs": [
    {
     "data": {
      "text/plain": [
       "array([1, 0, 8, 7, 5, 4, 3, 9, 6, 2])"
      ]
     },
     "execution_count": 57,
     "metadata": {},
     "output_type": "execute_result"
    }
   ],
   "source": [
    "permutation_example = np.random.permutation(np.arange(0, 10))\n",
    "permutation_example"
   ]
  },
  {
   "cell_type": "markdown",
   "metadata": {},
   "source": [
    "Every time we re-run the code the elements are shuffled in a different way."
   ]
  },
  {
   "cell_type": "markdown",
   "metadata": {},
   "source": [
    "#### Whatś randint?\n",
    "\n",
    "radint is a function to generate random integers.\n",
    "\n",
    "#### How to use radint?\n",
    "\n",
    "We can use radint to generate random integers. For example, ```np.random.randint(0, 10)``` generates a random integer from 0 to 9."
   ]
  },
  {
   "cell_type": "code",
   "execution_count": 58,
   "metadata": {},
   "outputs": [
    {
     "data": {
      "text/plain": [
       "8"
      ]
     },
     "execution_count": 58,
     "metadata": {},
     "output_type": "execute_result"
    }
   ],
   "source": [
    "radint_example1 = np.random.randint(0,10)\n",
    "radint_example1"
   ]
  },
  {
   "cell_type": "markdown",
   "metadata": {},
   "source": [
    "If we generate only one value, the type of the data object is an integer."
   ]
  },
  {
   "cell_type": "code",
   "execution_count": 59,
   "metadata": {},
   "outputs": [
    {
     "name": "stdout",
     "output_type": "stream",
     "text": [
      "The type of type_check is: <class 'int'>\n"
     ]
    }
   ],
   "source": [
    "type_check = np.random.randint(0,10)\n",
    "print(f'The type of type_check is: {type(type_check)}')"
   ]
  },
  {
   "cell_type": "markdown",
   "metadata": {},
   "source": [
    "We can add a 'size' parameter to generate more than one random integer. For example, ```np.random.randint(0, 10, size=10)``` generates 10 random integers from 0 to 9."
   ]
  },
  {
   "cell_type": "code",
   "execution_count": 60,
   "metadata": {},
   "outputs": [
    {
     "name": "stdout",
     "output_type": "stream",
     "text": [
      "The type of variable is: <class 'numpy.ndarray'>\n",
      "The shape of radint_size_example is: (10,),  the dimension is: 1, and the size is: 10\n",
      "The array is: [1 8 3 9 8 7 6 7 6 3]\n"
     ]
    }
   ],
   "source": [
    "radint_size_example = np.random.randint(0,10, size=10)\n",
    "\n",
    "print(f'The type of variable is: {type(radint_size_example)}\\nThe shape of radint_size_example is: {radint_size_example.shape},  the dimension is: {radint_size_example.ndim}, and the size is: {radint_size_example.size}\\nThe array is: {radint_size_example}')"
   ]
  },
  {
   "cell_type": "markdown",
   "metadata": {},
   "source": [
    "Look, using the radint function we generate a array, and we can define the number of dimensions usign the 'size' parameter. For example, ```np.random.randint(0, 10, size=(2, 2, 5))``` generates a array with 2 elements in the first dimension, 2 elements in the seccond dimension and 3 elements in the third dimension."
   ]
  },
  {
   "cell_type": "code",
   "execution_count": 61,
   "metadata": {},
   "outputs": [
    {
     "name": "stdout",
     "output_type": "stream",
     "text": [
      "The type of variable is: <class 'numpy.ndarray'>\n",
      "The shape of radint_example is: (2, 2, 5),  the dimension is: 3, and the size is: 20\n",
      "The array is: [[[3 6 5 3 6]\n",
      "  [1 2 8 3 8]]\n",
      "\n",
      " [[5 6 6 3 9]\n",
      "  [6 2 6 0 4]]]\n"
     ]
    }
   ],
   "source": [
    "radint_example = np.random.randint(0, 10, size=(2,2,5))\n",
    "print(f'The type of variable is: {type(radint_example)}\\nThe shape of radint_example is: {radint_example.shape},  the dimension is: {radint_example.ndim}, and the size is: {radint_example.size}\\nThe array is: {radint_example}')"
   ]
  },
  {
   "cell_type": "markdown",
   "metadata": {},
   "source": [
    "### Rand\n",
    "\n",
    "The rand function generates random numbers between 0 and 1."
   ]
  },
  {
   "cell_type": "code",
   "execution_count": 62,
   "metadata": {},
   "outputs": [],
   "source": [
    "A = np.random.rand(10)"
   ]
  },
  {
   "cell_type": "markdown",
   "metadata": {},
   "source": [
    "### Randn\n",
    "\n",
    "The randn function generates random numbers between -1 and 1."
   ]
  },
  {
   "cell_type": "code",
   "execution_count": 63,
   "metadata": {},
   "outputs": [
    {
     "data": {
      "text/plain": [
       "array([-0.27126379, -0.19208559,  0.0958911 ,  0.25787259, -1.59575268,\n",
       "        0.72763555, -0.40318597, -0.40036584,  0.2791767 , -0.69316855])"
      ]
     },
     "execution_count": 63,
     "metadata": {},
     "output_type": "execute_result"
    }
   ],
   "source": [
    "gauss_distribution = np.random.randn(10)\n",
    "gauss_distribution"
   ]
  },
  {
   "cell_type": "markdown",
   "metadata": {},
   "source": [
    "### Shape and Reshape\n",
    "\n",
    "#### What's reshape?\n",
    "\n",
    "reshape is a function to change the shape of an array.\n",
    "\n",
    "#### How to use reshape?\n",
    "\n",
    "We can use reshape to change the shape of an array. For example, ```np.arange(0, 10).reshape(2, 5)``` changes the shape of an array with a range of numbers from 0 to 9 to a array with 2 elements in the first dimension and 5 elements in the seccond dimension.\n",
    "\n",
    "### What's the difference between shape and reshape?\n",
    "\n",
    "The shape is a attribute and reshape is a function.\n",
    "\n"
   ]
  },
  {
   "cell_type": "code",
   "execution_count": 64,
   "metadata": {},
   "outputs": [
    {
     "data": {
      "text/plain": [
       "array([[0, 1, 2, 3, 4],\n",
       "       [5, 6, 7, 8, 9]])"
      ]
     },
     "execution_count": 64,
     "metadata": {},
     "output_type": "execute_result"
    }
   ],
   "source": [
    "reshape_example = np.arange(0, 10).reshape(2, 5)\n",
    "reshape_example"
   ]
  },
  {
   "cell_type": "code",
   "execution_count": 65,
   "metadata": {},
   "outputs": [
    {
     "name": "stdout",
     "output_type": "stream",
     "text": [
      "The num of dimensions of initial_array is: 1, and the num of dimensions of reshaped_array is: 2\n",
      "The shape of initial_array is: (100,), and the shape of reshaped_array is: (4, 25)\n",
      "\n",
      "The initial array is: [ 0  1  2  3  4  5  6  7  8  9 10 11 12 13 14 15 16 17 18 19 20 21 22 23\n",
      " 24 25 26 27 28 29 30 31 32 33 34 35 36 37 38 39 40 41 42 43 44 45 46 47\n",
      " 48 49 50 51 52 53 54 55 56 57 58 59 60 61 62 63 64 65 66 67 68 69 70 71\n",
      " 72 73 74 75 76 77 78 79 80 81 82 83 84 85 86 87 88 89 90 91 92 93 94 95\n",
      " 96 97 98 99]\n",
      "\n",
      "The reshaped array is: [[ 0  1  2  3  4  5  6  7  8  9 10 11 12 13 14 15 16 17 18 19 20 21 22 23\n",
      "  24]\n",
      " [25 26 27 28 29 30 31 32 33 34 35 36 37 38 39 40 41 42 43 44 45 46 47 48\n",
      "  49]\n",
      " [50 51 52 53 54 55 56 57 58 59 60 61 62 63 64 65 66 67 68 69 70 71 72 73\n",
      "  74]\n",
      " [75 76 77 78 79 80 81 82 83 84 85 86 87 88 89 90 91 92 93 94 95 96 97 98\n",
      "  99]]\n"
     ]
    }
   ],
   "source": [
    "initial_array = np.arange(100)\n",
    "reshaped_array = initial_array.reshape(4,25)\n",
    "\n",
    "print(f'The num of dimensions of initial_array is: {initial_array.ndim}, and the num of dimensions of reshaped_array is: {reshaped_array.ndim}')\n",
    "\n",
    "print(f'The shape of initial_array is: {initial_array.shape}, and the shape of reshaped_array is: {reshaped_array.shape}')\n",
    "\n",
    "print(f'\\nThe initial array is: {initial_array}\\n\\nThe reshaped array is: {reshaped_array}')\n"
   ]
  },
  {
   "cell_type": "markdown",
   "metadata": {},
   "source": [
    "Initial we had a array with 100 elements with one dimension. After reshape we still have a array with 100 elements but now with two dimensions."
   ]
  },
  {
   "cell_type": "markdown",
   "metadata": {},
   "source": [
    "The first parameter of reshape is the number of elements in the first dimension and the seccond parameter is the number of elements in the seccond dimension."
   ]
  },
  {
   "cell_type": "code",
   "execution_count": 66,
   "metadata": {},
   "outputs": [
    {
     "name": "stdout",
     "output_type": "stream",
     "text": [
      "Element at row 0, column 0: 0\n",
      "Element at row 0, column 1: 1\n",
      "Element at row 0, column 2: 2\n",
      "Element at row 0, column 3: 3\n",
      "Element at row 0, column 4: 4\n",
      "Element at row 0, column 5: 5\n",
      "Element at row 0, column 6: 6\n",
      "Element at row 0, column 7: 7\n",
      "Element at row 0, column 8: 8\n",
      "Element at row 0, column 9: 9\n",
      "Element at row 0, column 10: 10\n",
      "Element at row 0, column 11: 11\n",
      "Element at row 0, column 12: 12\n",
      "Element at row 0, column 13: 13\n",
      "Element at row 0, column 14: 14\n",
      "Element at row 0, column 15: 15\n",
      "Element at row 0, column 16: 16\n",
      "Element at row 0, column 17: 17\n",
      "Element at row 0, column 18: 18\n",
      "Element at row 0, column 19: 19\n",
      "Element at row 0, column 20: 20\n",
      "Element at row 0, column 21: 21\n",
      "Element at row 0, column 22: 22\n",
      "Element at row 0, column 23: 23\n",
      "Element at row 0, column 24: 24\n",
      "Element at row 1, column 0: 25\n",
      "Element at row 1, column 1: 26\n",
      "Element at row 1, column 2: 27\n",
      "Element at row 1, column 3: 28\n",
      "Element at row 1, column 4: 29\n",
      "Element at row 1, column 5: 30\n",
      "Element at row 1, column 6: 31\n",
      "Element at row 1, column 7: 32\n",
      "Element at row 1, column 8: 33\n",
      "Element at row 1, column 9: 34\n",
      "Element at row 1, column 10: 35\n",
      "Element at row 1, column 11: 36\n",
      "Element at row 1, column 12: 37\n",
      "Element at row 1, column 13: 38\n",
      "Element at row 1, column 14: 39\n",
      "Element at row 1, column 15: 40\n",
      "Element at row 1, column 16: 41\n",
      "Element at row 1, column 17: 42\n",
      "Element at row 1, column 18: 43\n",
      "Element at row 1, column 19: 44\n",
      "Element at row 1, column 20: 45\n",
      "Element at row 1, column 21: 46\n",
      "Element at row 1, column 22: 47\n",
      "Element at row 1, column 23: 48\n",
      "Element at row 1, column 24: 49\n",
      "Element at row 2, column 0: 50\n",
      "Element at row 2, column 1: 51\n",
      "Element at row 2, column 2: 52\n",
      "Element at row 2, column 3: 53\n",
      "Element at row 2, column 4: 54\n",
      "Element at row 2, column 5: 55\n",
      "Element at row 2, column 6: 56\n",
      "Element at row 2, column 7: 57\n",
      "Element at row 2, column 8: 58\n",
      "Element at row 2, column 9: 59\n",
      "Element at row 2, column 10: 60\n",
      "Element at row 2, column 11: 61\n",
      "Element at row 2, column 12: 62\n",
      "Element at row 2, column 13: 63\n",
      "Element at row 2, column 14: 64\n",
      "Element at row 2, column 15: 65\n",
      "Element at row 2, column 16: 66\n",
      "Element at row 2, column 17: 67\n",
      "Element at row 2, column 18: 68\n",
      "Element at row 2, column 19: 69\n",
      "Element at row 2, column 20: 70\n",
      "Element at row 2, column 21: 71\n",
      "Element at row 2, column 22: 72\n",
      "Element at row 2, column 23: 73\n",
      "Element at row 2, column 24: 74\n",
      "Element at row 3, column 0: 75\n",
      "Element at row 3, column 1: 76\n",
      "Element at row 3, column 2: 77\n",
      "Element at row 3, column 3: 78\n",
      "Element at row 3, column 4: 79\n",
      "Element at row 3, column 5: 80\n",
      "Element at row 3, column 6: 81\n",
      "Element at row 3, column 7: 82\n",
      "Element at row 3, column 8: 83\n",
      "Element at row 3, column 9: 84\n",
      "Element at row 3, column 10: 85\n",
      "Element at row 3, column 11: 86\n",
      "Element at row 3, column 12: 87\n",
      "Element at row 3, column 13: 88\n",
      "Element at row 3, column 14: 89\n",
      "Element at row 3, column 15: 90\n",
      "Element at row 3, column 16: 91\n",
      "Element at row 3, column 17: 92\n",
      "Element at row 3, column 18: 93\n",
      "Element at row 3, column 19: 94\n",
      "Element at row 3, column 20: 95\n",
      "Element at row 3, column 21: 96\n",
      "Element at row 3, column 22: 97\n",
      "Element at row 3, column 23: 98\n",
      "Element at row 3, column 24: 99\n"
     ]
    }
   ],
   "source": [
    "num_rows, num_cols = reshaped_array.shape\n",
    "\n",
    "for i in range(num_rows):\n",
    "    for j in range(num_cols):\n",
    "        element = reshaped_array[i, j]\n",
    "        print(f\"Element at row {i}, column {j}: {element}\")"
   ]
  },
  {
   "cell_type": "markdown",
   "metadata": {},
   "source": [
    "Each row ends after 25 elements. Because 100/4 = 25."
   ]
  },
  {
   "cell_type": "markdown",
   "metadata": {},
   "source": [
    "It's possible for 2 or more dimensions. For example, ```np.arange(0, 100).reshape(2, 5, 10)``` changes the shape of an array with a range of numbers from 0 to 99 to a array with 2 elements in the first dimension, 5 elements in the seccond dimension and 10 elements in the third dimension."
   ]
  },
  {
   "cell_type": "code",
   "execution_count": 67,
   "metadata": {},
   "outputs": [
    {
     "name": "stdout",
     "output_type": "stream",
     "text": [
      "The num of dimensions of initial_array is: 1, and the num of dimensions of thirt_dimensional_shaped_array is: 3\n"
     ]
    }
   ],
   "source": [
    "initial_array = np.arange(100)\n",
    "thirt_dimensional_shaped_array = initial_array.reshape(2, 5, 10)\n",
    "print(f'The num of dimensions of initial_array is: {initial_array.ndim}, and the num of dimensions of thirt_dimensional_shaped_array is: {thirt_dimensional_shaped_array.ndim}')"
   ]
  },
  {
   "cell_type": "code",
   "execution_count": 68,
   "metadata": {},
   "outputs": [
    {
     "name": "stdout",
     "output_type": "stream",
     "text": [
      "Element at row 0, column 0, depth 0: 0\n",
      "Element at row 0, column 0, depth 1: 1\n",
      "Element at row 0, column 0, depth 2: 2\n",
      "Element at row 0, column 0, depth 3: 3\n",
      "Element at row 0, column 0, depth 4: 4\n",
      "Element at row 0, column 0, depth 5: 5\n",
      "Element at row 0, column 0, depth 6: 6\n",
      "Element at row 0, column 0, depth 7: 7\n",
      "Element at row 0, column 0, depth 8: 8\n",
      "Element at row 0, column 0, depth 9: 9\n",
      "Element at row 0, column 1, depth 0: 10\n",
      "Element at row 0, column 1, depth 1: 11\n",
      "Element at row 0, column 1, depth 2: 12\n",
      "Element at row 0, column 1, depth 3: 13\n",
      "Element at row 0, column 1, depth 4: 14\n",
      "Element at row 0, column 1, depth 5: 15\n",
      "Element at row 0, column 1, depth 6: 16\n",
      "Element at row 0, column 1, depth 7: 17\n",
      "Element at row 0, column 1, depth 8: 18\n",
      "Element at row 0, column 1, depth 9: 19\n",
      "Element at row 0, column 2, depth 0: 20\n",
      "Element at row 0, column 2, depth 1: 21\n",
      "Element at row 0, column 2, depth 2: 22\n",
      "Element at row 0, column 2, depth 3: 23\n",
      "Element at row 0, column 2, depth 4: 24\n",
      "Element at row 0, column 2, depth 5: 25\n",
      "Element at row 0, column 2, depth 6: 26\n",
      "Element at row 0, column 2, depth 7: 27\n",
      "Element at row 0, column 2, depth 8: 28\n",
      "Element at row 0, column 2, depth 9: 29\n",
      "Element at row 0, column 3, depth 0: 30\n",
      "Element at row 0, column 3, depth 1: 31\n",
      "Element at row 0, column 3, depth 2: 32\n",
      "Element at row 0, column 3, depth 3: 33\n",
      "Element at row 0, column 3, depth 4: 34\n",
      "Element at row 0, column 3, depth 5: 35\n",
      "Element at row 0, column 3, depth 6: 36\n",
      "Element at row 0, column 3, depth 7: 37\n",
      "Element at row 0, column 3, depth 8: 38\n",
      "Element at row 0, column 3, depth 9: 39\n",
      "Element at row 0, column 4, depth 0: 40\n",
      "Element at row 0, column 4, depth 1: 41\n",
      "Element at row 0, column 4, depth 2: 42\n",
      "Element at row 0, column 4, depth 3: 43\n",
      "Element at row 0, column 4, depth 4: 44\n",
      "Element at row 0, column 4, depth 5: 45\n",
      "Element at row 0, column 4, depth 6: 46\n",
      "Element at row 0, column 4, depth 7: 47\n",
      "Element at row 0, column 4, depth 8: 48\n",
      "Element at row 0, column 4, depth 9: 49\n",
      "Element at row 1, column 0, depth 0: 50\n",
      "Element at row 1, column 0, depth 1: 51\n",
      "Element at row 1, column 0, depth 2: 52\n",
      "Element at row 1, column 0, depth 3: 53\n",
      "Element at row 1, column 0, depth 4: 54\n",
      "Element at row 1, column 0, depth 5: 55\n",
      "Element at row 1, column 0, depth 6: 56\n",
      "Element at row 1, column 0, depth 7: 57\n",
      "Element at row 1, column 0, depth 8: 58\n",
      "Element at row 1, column 0, depth 9: 59\n",
      "Element at row 1, column 1, depth 0: 60\n",
      "Element at row 1, column 1, depth 1: 61\n",
      "Element at row 1, column 1, depth 2: 62\n",
      "Element at row 1, column 1, depth 3: 63\n",
      "Element at row 1, column 1, depth 4: 64\n",
      "Element at row 1, column 1, depth 5: 65\n",
      "Element at row 1, column 1, depth 6: 66\n",
      "Element at row 1, column 1, depth 7: 67\n",
      "Element at row 1, column 1, depth 8: 68\n",
      "Element at row 1, column 1, depth 9: 69\n",
      "Element at row 1, column 2, depth 0: 70\n",
      "Element at row 1, column 2, depth 1: 71\n",
      "Element at row 1, column 2, depth 2: 72\n",
      "Element at row 1, column 2, depth 3: 73\n",
      "Element at row 1, column 2, depth 4: 74\n",
      "Element at row 1, column 2, depth 5: 75\n",
      "Element at row 1, column 2, depth 6: 76\n",
      "Element at row 1, column 2, depth 7: 77\n",
      "Element at row 1, column 2, depth 8: 78\n",
      "Element at row 1, column 2, depth 9: 79\n",
      "Element at row 1, column 3, depth 0: 80\n",
      "Element at row 1, column 3, depth 1: 81\n",
      "Element at row 1, column 3, depth 2: 82\n",
      "Element at row 1, column 3, depth 3: 83\n",
      "Element at row 1, column 3, depth 4: 84\n",
      "Element at row 1, column 3, depth 5: 85\n",
      "Element at row 1, column 3, depth 6: 86\n",
      "Element at row 1, column 3, depth 7: 87\n",
      "Element at row 1, column 3, depth 8: 88\n",
      "Element at row 1, column 3, depth 9: 89\n",
      "Element at row 1, column 4, depth 0: 90\n",
      "Element at row 1, column 4, depth 1: 91\n",
      "Element at row 1, column 4, depth 2: 92\n",
      "Element at row 1, column 4, depth 3: 93\n",
      "Element at row 1, column 4, depth 4: 94\n",
      "Element at row 1, column 4, depth 5: 95\n",
      "Element at row 1, column 4, depth 6: 96\n",
      "Element at row 1, column 4, depth 7: 97\n",
      "Element at row 1, column 4, depth 8: 98\n",
      "Element at row 1, column 4, depth 9: 99\n"
     ]
    }
   ],
   "source": [
    "num_rows, num_cols, depth = thirt_dimensional_shaped_array.shape\n",
    "\n",
    "for i in range(num_rows):\n",
    "    for j in range(num_cols):\n",
    "        for k in range(depth):\n",
    "            element = thirt_dimensional_shaped_array[i, j, k]\n",
    "            print(f\"Element at row {i}, column {j}, depth {k}: {element}\")"
   ]
  },
  {
   "cell_type": "markdown",
   "metadata": {},
   "source": [
    "### Slicing\n",
    "\n",
    "#### What's slicing?\n",
    "\n",
    "Slicing is a function to access a part of an array.\n",
    "\n",
    "#### How to use slicing?\n",
    "\n",
    "We can use slicing to access a part of an array. For example, ```np.arange(0, 10)[0:5]``` access the first 5 elements of an array with a range of numbers from 0 to 9.\n",
    "\n",
    "The first parameter of slicing is the start index and the seccond parameter is the end index."
   ]
  },
  {
   "cell_type": "code",
   "execution_count": 69,
   "metadata": {},
   "outputs": [
    {
     "data": {
      "text/plain": [
       "array([0, 1, 2, 3, 4, 5, 6, 7, 8, 9])"
      ]
     },
     "execution_count": 69,
     "metadata": {},
     "output_type": "execute_result"
    }
   ],
   "source": [
    "initial_array = np.arange(100)\n",
    "example_slicing1 = initial_array[0:10]\n",
    "example_slicing1"
   ]
  },
  {
   "cell_type": "markdown",
   "metadata": {},
   "source": [
    "#### More examples:\n",
    "\n",
    "a[1:5] access the elements from index 1 to index 4. 5 is not included.\n",
    "\n",
    "a[:5] access the elements from index 0 to index 4. 5 is not included.\n",
    "\n",
    "a[1:] access the elements from index 1 to the last index.\n",
    "\n",
    "a[::-1] access the elements from the last index to the first index.\n",
    "\n",
    "a[::2] access the elements from the first index to the last index with a step of 2."
   ]
  },
  {
   "cell_type": "code",
   "execution_count": 70,
   "metadata": {},
   "outputs": [
    {
     "name": "stdout",
     "output_type": "stream",
     "text": [
      " The first example is: [1 2 3 4]\n",
      " The seccond example is: [0 1 2 3 4]\n",
      " The third example is: [1 2 3 4 5 6 7 8 9]\n",
      " The fourth example is: [9 8 7 6 5 4 3 2 1 0]\n",
      " The fifth example is: [0 2 4 6 8]\n"
     ]
    }
   ],
   "source": [
    "first_example = np.arange(0,10)[1:5]\n",
    "seccond_example = np.arange(0,10)[:5]\n",
    "third_example = np.arange(0,10)[1:]\n",
    "fourth_example = np.arange(0,10)[::-1]\n",
    "fifth_example = np.arange(0,10)[::2]\n",
    "\n",
    "print(f' The first example is: {first_example}\\n The seccond example is: {seccond_example}\\n The third example is: {third_example}\\n The fourth example is: {fourth_example}\\n The fifth example is: {fifth_example}')"
   ]
  },
  {
   "cell_type": "markdown",
   "metadata": {},
   "source": [
    "If we slice an array and assign it to a variable, the variable will be a view of the array. In other words, if we change the variable, the array will be changed too."
   ]
  },
  {
   "cell_type": "code",
   "execution_count": 71,
   "metadata": {},
   "outputs": [
    {
     "name": "stdout",
     "output_type": "stream",
     "text": [
      "The initial array is: [1000    1    2    3    4    5    6    7    8    9]\n",
      "The slicing array is: [1000    1    2    3    4]\n"
     ]
    }
   ],
   "source": [
    "initial_array = np.arange(10)\n",
    "slicing_array = initial_array[0:5]\n",
    "\n",
    "slicing_array[0] = 1000\n",
    "\n",
    "print(f'The initial array is: {initial_array}\\nThe slicing array is: {slicing_array}')"
   ]
  },
  {
   "cell_type": "markdown",
   "metadata": {},
   "source": [
    "But we can use the function copy to create a copy of the array. In other words, if we change the variable, the array will not be changed."
   ]
  },
  {
   "cell_type": "code",
   "execution_count": 72,
   "metadata": {},
   "outputs": [
    {
     "name": "stdout",
     "output_type": "stream",
     "text": [
      "The initial array is: [0 1 2 3 4 5 6 7 8 9]\n",
      "The slicing array is: [1000    1    2    3    4]\n"
     ]
    }
   ],
   "source": [
    "initial_array = np.arange(10)\n",
    "slicing_array = initial_array[0:5].copy()\n",
    "\n",
    "slicing_array[0] = 1000\n",
    "\n",
    "print(f'The initial array is: {initial_array}\\nThe slicing array is: {slicing_array}')"
   ]
  },
  {
   "cell_type": "markdown",
   "metadata": {},
   "source": [
    "#### Argwhere\n",
    "\n",
    "#### What's argwhere?\n",
    "\n",
    "argwhere is a function to return the indexes of the elements that are different from zero.\n",
    "\n",
    "#### How to use argwhere?\n",
    "\n",
    "We can use argwhere to return the indexes of the elements that are different from zero. For example, ```np.argwhere(np.arange(0, 10) > 5)``` returns the indexes of the elements that are greater than 5."
   ]
  },
  {
   "cell_type": "code",
   "execution_count": 73,
   "metadata": {},
   "outputs": [
    {
     "name": "stdout",
     "output_type": "stream",
     "text": [
      "The value of idx1 is: [[5]]\n",
      "\n",
      "The value of idx2 is: [[0]\n",
      " [1]\n",
      " [2]\n",
      " [3]\n",
      " [4]]\n",
      "\n",
      "The value of idx3 is: [[6]\n",
      " [7]\n",
      " [8]\n",
      " [9]]\n",
      "\n"
     ]
    }
   ],
   "source": [
    "initial_array = np.arange(10)\n",
    "idx1 = np.argwhere(initial_array == 5)\n",
    "idx2 = np.argwhere(initial_array < 5)\n",
    "idx3 = np.argwhere(initial_array > 5)\n",
    "\n",
    "print(f'The value of idx1 is: {idx1}\\n\\nThe value of idx2 is: {idx2}\\n\\nThe value of idx3 is: {idx3}\\n')"
   ]
  },
  {
   "cell_type": "code",
   "execution_count": 74,
   "metadata": {},
   "outputs": [
    {
     "name": "stdout",
     "output_type": "stream",
     "text": [
      "The dimension of idx1 is: 2\n",
      "The dimension of idx2 is: 2\n",
      "The dimension of idx3 is: 2\n",
      "\n"
     ]
    }
   ],
   "source": [
    "print(f'The dimension of idx1 is: {idx1.ndim}\\nThe dimension of idx2 is: {idx2.ndim}\\nThe dimension of idx3 is: {idx3.ndim}\\n')"
   ]
  },
  {
   "cell_type": "markdown",
   "metadata": {},
   "source": [
    "After we use the argwhere function we create an array of arrays. Each array contains the index of the element that is different from zero. In other ords now we have a 2 dimensional array."
   ]
  },
  {
   "cell_type": "code",
   "execution_count": 75,
   "metadata": {},
   "outputs": [
    {
     "name": "stdout",
     "output_type": "stream",
     "text": [
      " The value of idx1 is: 5\n",
      " The value of idx2 is: 0\n",
      " The value of idx3 is: 6\n"
     ]
    }
   ],
   "source": [
    "idx1 = np.argwhere(initial_array == 5)[0][0]\n",
    "idx2 = np.argwhere(initial_array < 5)[0][0]\n",
    "idx3 = np.argwhere(initial_array > 5)[0][0]\n",
    "\n",
    "print(f' The value of idx1 is: {idx1}\\n The value of idx2 is: {idx2}\\n The value of idx3 is: {idx3}')"
   ]
  },
  {
   "cell_type": "markdown",
   "metadata": {},
   "source": [
    "Now the result is a one dimensional array."
   ]
  },
  {
   "cell_type": "markdown",
   "metadata": {},
   "source": [
    "Now let's take a look at matrix."
   ]
  },
  {
   "cell_type": "code",
   "execution_count": 76,
   "metadata": {},
   "outputs": [
    {
     "name": "stdout",
     "output_type": "stream",
     "text": [
      "The matrix is:\n",
      " [[0 1 2 3 4]\n",
      " [5 6 7 8 9]]\n"
     ]
    }
   ],
   "source": [
    "matrix_one = np.array(np.arange(0, 10).reshape(2, 5))\n",
    "print(f'The matrix is:\\n {matrix_one}')"
   ]
  },
  {
   "cell_type": "markdown",
   "metadata": {},
   "source": [
    "Slicing 2 dimensional array is similar to slicing 1 dimensional array. The difference is that we need to use 2 indexes.\n",
    "\n",
    "The first index is the row and the seccond index is the column.\n"
   ]
  },
  {
   "cell_type": "code",
   "execution_count": 77,
   "metadata": {},
   "outputs": [
    {
     "name": "stdout",
     "output_type": "stream",
     "text": [
      "The first slice is:\n",
      " [[0 1]]\n",
      "\n",
      "The second slice is:\n",
      " [[8 9]]\n",
      "\n",
      "The third slice is:\n",
      " [[2 3]\n",
      " [7 8]]\n",
      "\n",
      "The fourth slice is:\n",
      " [[2]\n",
      " [7]]\n",
      "\n",
      "The fifth slice is:\n",
      " [2 7]\n",
      "\n",
      "The sixth slice is:\n",
      " [5 6 7 8 9]\n",
      "\n",
      "The seventh slice is:\n",
      " [7]\n",
      "\n",
      "The eighth slice is:\n",
      " 7\n"
     ]
    }
   ],
   "source": [
    "first_slice = matrix_one[0:1, 0:2]\n",
    "second_slice = matrix_one[1:, 3:]\n",
    "third_slice = matrix_one[:, 2:4]\n",
    "fourth_slice = matrix_one[:, 2:3]\n",
    "fifth_slice = matrix_one[:, 2]\n",
    "sixth_slice = matrix_one[1, :]\n",
    "seventh_slice = matrix_one[1, 2:3]\n",
    "eighth_slice = matrix_one[1, 2]\n",
    "\n",
    "print(f'The first slice is:\\n {first_slice}\\n\\nThe second slice is:\\n {second_slice}\\n\\nThe third slice is:\\n {third_slice}\\n\\nThe fourth slice is:\\n {fourth_slice}\\n\\nThe fifth slice is:\\n {fifth_slice}\\n\\nThe sixth slice is:\\n {sixth_slice}\\n\\nThe seventh slice is:\\n {seventh_slice}\\n\\nThe eighth slice is:\\n {eighth_slice}')"
   ]
  },
  {
   "cell_type": "markdown",
   "metadata": {},
   "source": [
    "To transpose a matrix we use the attribute T."
   ]
  },
  {
   "cell_type": "code",
   "execution_count": 78,
   "metadata": {},
   "outputs": [
    {
     "name": "stdout",
     "output_type": "stream",
     "text": [
      "The matrix one is:\n",
      " [[0 1 2 3 4]\n",
      " [5 6 7 8 9]]\n",
      "\n",
      "The transposed matrix one is:\n",
      " [[0 5]\n",
      " [1 6]\n",
      " [2 7]\n",
      " [3 8]\n",
      " [4 9]]\n"
     ]
    }
   ],
   "source": [
    "transposed_matrix_one = matrix_one.T\n",
    "\n",
    "print(f'The matrix one is:\\n {matrix_one}\\n\\nThe transposed matrix one is:\\n {transposed_matrix_one}')"
   ]
  },
  {
   "cell_type": "markdown",
   "metadata": {},
   "source": [
    "It's possible to generete a copy without using copy function."
   ]
  },
  {
   "cell_type": "code",
   "execution_count": 79,
   "metadata": {},
   "outputs": [
    {
     "name": "stdout",
     "output_type": "stream",
     "text": [
      "The original array is:\n",
      " [ 0  1  2  3  4  5  6  7  8  9 10 11 12 13 14 15 16 17 18 19 20 21 22 23\n",
      " 24 25 26 27 28 29 30 31 32 33 34 35 36 37 38 39 40 41 42 43 44 45 46 47\n",
      " 48 49 50 51 52 53 54 55 56 57 58 59 60 61 62 63 64 65 66 67 68 69 70 71\n",
      " 72 73 74 75 76 77 78 79 80 81 82 83 84 85 86 87 88 89 90 91 92 93 94 95\n",
      " 96 97 98 99]\n",
      "\n",
      "The copy array is:\n",
      " [1000    1    2    3    4    5    6    7    8    9   10   11   12   13\n",
      "   14   15   16   17   18   19   20   21   22   23   24   25   26   27\n",
      "   28   29   30   31   32   33   34   35   36   37   38   39   40   41\n",
      "   42   43   44   45   46   47   48   49]\n"
     ]
    }
   ],
   "source": [
    "original_array = np.arange(100)\n",
    "copy_array = original_array[original_array < 50]\n",
    "copy_array[0] = 1000\n",
    "\n",
    "print(f'The original array is:\\n {original_array}\\n\\nThe copy array is:\\n {copy_array}')"
   ]
  },
  {
   "cell_type": "markdown",
   "metadata": {},
   "source": [
    "It's possible too using boolean operators."
   ]
  },
  {
   "cell_type": "code",
   "execution_count": 80,
   "metadata": {},
   "outputs": [
    {
     "name": "stdout",
     "output_type": "stream",
     "text": [
      "[41 42 43 44 45 46 47 48 49]\n"
     ]
    }
   ],
   "source": [
    "copy_array = original_array[(original_array < 50) & (original_array > 40)]\n",
    "print(copy_array)"
   ]
  },
  {
   "cell_type": "markdown",
   "metadata": {},
   "source": [
    "What's the diference between & and and?\n",
    "\n",
    "The difference is that & is a bitwise operator and and is a logical operator.\n",
    "\n",
    "### What's the difference between bitwise operator and logical operator?\n",
    "\n",
    "The difference is that bitwise operator works with bits and logical operator works with boolean values.\n",
    "\n",
    "bitwise operatos | logical operators |\n",
    "-----------------|-------------------|\n",
    "&                | and               |\n",
    "\\|               | or                |\n",
    "^                | xor               |\n",
    "~                | not               |\n"
   ]
  },
  {
   "cell_type": "code",
   "execution_count": 81,
   "metadata": {},
   "outputs": [
    {
     "data": {
      "text/plain": [
       "array([[8., 9.],\n",
       "       [8., 6.]])"
      ]
     },
     "execution_count": 81,
     "metadata": {},
     "output_type": "execute_result"
    }
   ],
   "source": [
    "matrix_one = np.round(np.random.rand(2,2) * 10)\n",
    "matrix_one"
   ]
  },
  {
   "cell_type": "code",
   "execution_count": 82,
   "metadata": {},
   "outputs": [
    {
     "name": "stdout",
     "output_type": "stream",
     "text": [
      "The matrix one after the addition is:\n",
      " [[18. 19.]\n",
      " [18. 16.]]\n"
     ]
    }
   ],
   "source": [
    "matrix_one = matrix_one + 10\n",
    "print(f'The matrix one after the addition is:\\n {matrix_one}')"
   ]
  },
  {
   "cell_type": "markdown",
   "metadata": {},
   "source": [
    "Look, we add 10 to each element of the array, without creating a new array."
   ]
  }
 ],
 "metadata": {
  "kernelspec": {
   "display_name": "base",
   "language": "python",
   "name": "python3"
  },
  "language_info": {
   "codemirror_mode": {
    "name": "ipython",
    "version": 3
   },
   "file_extension": ".py",
   "mimetype": "text/x-python",
   "name": "python",
   "nbconvert_exporter": "python",
   "pygments_lexer": "ipython3",
   "version": "3.11.5"
  },
  "orig_nbformat": 4
 },
 "nbformat": 4,
 "nbformat_minor": 2
}
