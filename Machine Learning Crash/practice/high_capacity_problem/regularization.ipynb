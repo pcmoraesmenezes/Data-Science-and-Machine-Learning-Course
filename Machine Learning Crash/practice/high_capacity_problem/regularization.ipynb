{
 "cells": [
  {
   "cell_type": "code",
   "execution_count": 33,
   "metadata": {},
   "outputs": [],
   "source": [
    "import numpy as np\n",
    "import matplotlib.pyplot as plt"
   ]
  },
  {
   "cell_type": "code",
   "execution_count": 34,
   "metadata": {},
   "outputs": [
    {
     "data": {
      "text/plain": [
       "(2, 50)"
      ]
     },
     "execution_count": 34,
     "metadata": {},
     "output_type": "execute_result"
    }
   ],
   "source": [
    "X = np.asarray([-np.random.rand(50), np.random.rand(50)])\n",
    "X.shape"
   ]
  },
  {
   "cell_type": "code",
   "execution_count": 35,
   "metadata": {},
   "outputs": [],
   "source": [
    "X = X.flatten()"
   ]
  },
  {
   "cell_type": "code",
   "execution_count": 36,
   "metadata": {},
   "outputs": [
    {
     "data": {
      "text/plain": [
       "(100,)"
      ]
     },
     "execution_count": 36,
     "metadata": {},
     "output_type": "execute_result"
    }
   ],
   "source": [
    "X.shape"
   ]
  },
  {
   "cell_type": "code",
   "execution_count": 37,
   "metadata": {},
   "outputs": [],
   "source": [
    "X = np.sort(X)"
   ]
  },
  {
   "cell_type": "code",
   "execution_count": 38,
   "metadata": {},
   "outputs": [
    {
     "data": {
      "text/plain": [
       "array([-0.97856315, -0.97084716, -0.92051676, -0.92043083, -0.91787913,\n",
       "       -0.91581839, -0.90840755, -0.8828941 , -0.87579935, -0.87471268,\n",
       "       -0.86078429, -0.83759644, -0.80550377, -0.78684835, -0.76514182,\n",
       "       -0.76251965, -0.76150229, -0.75634251, -0.73817399, -0.72314324,\n",
       "       -0.68722935, -0.68425168, -0.65258106, -0.59441203, -0.5813593 ,\n",
       "       -0.58088824, -0.56310771, -0.53539224, -0.53345829, -0.5036256 ,\n",
       "       -0.49243157, -0.48661543, -0.45669577, -0.39134157, -0.38684095,\n",
       "       -0.35230898, -0.32548355, -0.31185829, -0.29346864, -0.20884149,\n",
       "       -0.18056451, -0.16877156, -0.1659081 , -0.15597369, -0.13856433,\n",
       "       -0.10279335, -0.09140835, -0.03524823, -0.02839007, -0.01429071,\n",
       "        0.00519602,  0.02299525,  0.02793607,  0.04844271,  0.07834245,\n",
       "        0.09184486,  0.11516949,  0.11595698,  0.11622894,  0.12217831,\n",
       "        0.13772602,  0.14678714,  0.14730076,  0.16380889,  0.20657976,\n",
       "        0.21468836,  0.26042252,  0.284869  ,  0.29600016,  0.34596955,\n",
       "        0.36123342,  0.42853126,  0.46198957,  0.48863809,  0.49162029,\n",
       "        0.51215467,  0.51912523,  0.52239643,  0.52806747,  0.55868961,\n",
       "        0.570782  ,  0.57161977,  0.58643001,  0.60342384,  0.67230844,\n",
       "        0.70503408,  0.71522014,  0.76636769,  0.79038197,  0.79969025,\n",
       "        0.81386863,  0.86628984,  0.88414575,  0.90629648,  0.92068238,\n",
       "        0.9411404 ,  0.9458173 ,  0.95644013,  0.99045701,  0.99083902])"
      ]
     },
     "execution_count": 38,
     "metadata": {},
     "output_type": "execute_result"
    }
   ],
   "source": [
    "X"
   ]
  },
  {
   "cell_type": "code",
   "execution_count": 43,
   "metadata": {},
   "outputs": [],
   "source": [
    "a1, a2, a3, a4, a5, a6 = 1000, 10, 100, 10, 10, 10\n",
    "\n",
    "y = a1*(X**5) + a2*(X**4) + a3*(X**3) + a4*(X**2) + a5*X  + a6"
   ]
  },
  {
   "cell_type": "code",
   "execution_count": 44,
   "metadata": {},
   "outputs": [
    {
     "data": {
      "text/plain": [
       "[<matplotlib.lines.Line2D at 0x7f936a7f1dd0>]"
      ]
     },
     "execution_count": 44,
     "metadata": {},
     "output_type": "execute_result"
    },
    {
     "data": {
      "image/png": "[encoded data removed]",
      "text/plain": [
       "<Figure size 640x480 with 1 Axes>"
      ]
     },
     "metadata": {},
     "output_type": "display_data"
    }
   ],
   "source": [
    "plt.plot(X, y, 'ro')"
   ]
  },
  {
   "cell_type": "markdown",
   "metadata": {},
   "source": [
    "As long the parameters `a1, a2, a3, a4, a5 and a6 ` changes the curve will tend to change. The parameters `a1, a2, a3, a4, a5 and a6 ` are the coefficients of the polynomial function.\n",
    "\n",
    "However the parameter `a1` have the most influence in the curve, because it is the coefficient of the highest degree of the polynomial function."
   ]
  }
 ],
 "metadata": {
  "kernelspec": {
   "display_name": "base",
   "language": "python",
   "name": "python3"
  },
  "language_info": {
   "codemirror_mode": {
    "name": "ipython",
    "version": 3
   },
   "file_extension": ".py",
   "mimetype": "text/x-python",
   "name": "python",
   "nbconvert_exporter": "python",
   "pygments_lexer": "ipython3",
   "version": "3.11.5"
  }
 },
 "nbformat": 4,
 "nbformat_minor": 2
}
