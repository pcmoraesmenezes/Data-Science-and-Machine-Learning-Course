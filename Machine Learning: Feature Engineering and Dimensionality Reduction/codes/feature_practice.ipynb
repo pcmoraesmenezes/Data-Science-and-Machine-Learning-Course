{
 "cells": [
  {
   "cell_type": "code",
   "execution_count": 12,
   "metadata": {},
   "outputs": [],
   "source": [
    "import pandas as pd\n",
    "from pathlib import Path\n",
    "from scipy.io import arff"
   ]
  },
  {
   "cell_type": "code",
   "execution_count": 10,
   "metadata": {},
   "outputs": [
    {
     "name": "stdout",
     "output_type": "stream",
     "text": [
      "/home/pcmoraes/Área de Trabalho/Editores de código/udemy/Data Science & Machine Learning/Machine Learning: Feature Engineering and Dimensionality Reduction\n"
     ]
    }
   ],
   "source": [
    "ROOT = Path.cwd().parent\n",
    "DATA_ROOT = ROOT / 'dataset'\n",
    "DATA = DATA_ROOT / 'Autism-Adult-Data.arff'"
   ]
  },
  {
   "cell_type": "code",
   "execution_count": 13,
   "metadata": {},
   "outputs": [],
   "source": [
    "dados, meta = arff.loadarff(DATA)"
   ]
  },
  {
   "cell_type": "code",
   "execution_count": 14,
   "metadata": {},
   "outputs": [],
   "source": [
    "df = pd.DataFrame(dados)"
   ]
  },
  {
   "cell_type": "code",
   "execution_count": 15,
   "metadata": {},
   "outputs": [
    {
     "data": {
      "text/html": [
       "<div>\n",
       "<style scoped>\n",
       "    .dataframe tbody tr th:only-of-type {\n",
       "        vertical-align: middle;\n",
       "    }\n",
       "\n",
       "    .dataframe tbody tr th {\n",
       "        vertical-align: top;\n",
       "    }\n",
       "\n",
       "    .dataframe thead th {\n",
       "        text-align: right;\n",
       "    }\n",
       "</style>\n",
       "<table border=\"1\" class=\"dataframe\">\n",
       "  <thead>\n",
       "    <tr style=\"text-align: right;\">\n",
       "      <th></th>\n",
       "      <th>A1_Score</th>\n",
       "      <th>A2_Score</th>\n",
       "      <th>A3_Score</th>\n",
       "      <th>A4_Score</th>\n",
       "      <th>A5_Score</th>\n",
       "      <th>A6_Score</th>\n",
       "      <th>A7_Score</th>\n",
       "      <th>A8_Score</th>\n",
       "      <th>A9_Score</th>\n",
       "      <th>A10_Score</th>\n",
       "      <th>...</th>\n",
       "      <th>gender</th>\n",
       "      <th>ethnicity</th>\n",
       "      <th>jundice</th>\n",
       "      <th>austim</th>\n",
       "      <th>contry_of_res</th>\n",
       "      <th>used_app_before</th>\n",
       "      <th>result</th>\n",
       "      <th>age_desc</th>\n",
       "      <th>relation</th>\n",
       "      <th>Class/ASD</th>\n",
       "    </tr>\n",
       "  </thead>\n",
       "  <tbody>\n",
       "    <tr>\n",
       "      <th>0</th>\n",
       "      <td>b'1'</td>\n",
       "      <td>b'1'</td>\n",
       "      <td>b'1'</td>\n",
       "      <td>b'1'</td>\n",
       "      <td>b'0'</td>\n",
       "      <td>b'0'</td>\n",
       "      <td>b'1'</td>\n",
       "      <td>b'1'</td>\n",
       "      <td>b'0'</td>\n",
       "      <td>b'0'</td>\n",
       "      <td>...</td>\n",
       "      <td>b'f'</td>\n",
       "      <td>b'White-European'</td>\n",
       "      <td>b'no'</td>\n",
       "      <td>b'no'</td>\n",
       "      <td>b'United States'</td>\n",
       "      <td>b'no'</td>\n",
       "      <td>6.0</td>\n",
       "      <td>b'18 and more'</td>\n",
       "      <td>b'Self'</td>\n",
       "      <td>b'NO'</td>\n",
       "    </tr>\n",
       "    <tr>\n",
       "      <th>1</th>\n",
       "      <td>b'1'</td>\n",
       "      <td>b'1'</td>\n",
       "      <td>b'0'</td>\n",
       "      <td>b'1'</td>\n",
       "      <td>b'0'</td>\n",
       "      <td>b'0'</td>\n",
       "      <td>b'0'</td>\n",
       "      <td>b'1'</td>\n",
       "      <td>b'0'</td>\n",
       "      <td>b'1'</td>\n",
       "      <td>...</td>\n",
       "      <td>b'm'</td>\n",
       "      <td>b'Latino'</td>\n",
       "      <td>b'no'</td>\n",
       "      <td>b'yes'</td>\n",
       "      <td>b'Brazil'</td>\n",
       "      <td>b'no'</td>\n",
       "      <td>5.0</td>\n",
       "      <td>b'18 and more'</td>\n",
       "      <td>b'Self'</td>\n",
       "      <td>b'NO'</td>\n",
       "    </tr>\n",
       "    <tr>\n",
       "      <th>2</th>\n",
       "      <td>b'1'</td>\n",
       "      <td>b'1'</td>\n",
       "      <td>b'0'</td>\n",
       "      <td>b'1'</td>\n",
       "      <td>b'1'</td>\n",
       "      <td>b'0'</td>\n",
       "      <td>b'1'</td>\n",
       "      <td>b'1'</td>\n",
       "      <td>b'1'</td>\n",
       "      <td>b'1'</td>\n",
       "      <td>...</td>\n",
       "      <td>b'm'</td>\n",
       "      <td>b'Latino'</td>\n",
       "      <td>b'yes'</td>\n",
       "      <td>b'yes'</td>\n",
       "      <td>b'Spain'</td>\n",
       "      <td>b'no'</td>\n",
       "      <td>8.0</td>\n",
       "      <td>b'18 and more'</td>\n",
       "      <td>b'Parent'</td>\n",
       "      <td>b'YES'</td>\n",
       "    </tr>\n",
       "    <tr>\n",
       "      <th>3</th>\n",
       "      <td>b'1'</td>\n",
       "      <td>b'1'</td>\n",
       "      <td>b'0'</td>\n",
       "      <td>b'1'</td>\n",
       "      <td>b'0'</td>\n",
       "      <td>b'0'</td>\n",
       "      <td>b'1'</td>\n",
       "      <td>b'1'</td>\n",
       "      <td>b'0'</td>\n",
       "      <td>b'1'</td>\n",
       "      <td>...</td>\n",
       "      <td>b'f'</td>\n",
       "      <td>b'White-European'</td>\n",
       "      <td>b'no'</td>\n",
       "      <td>b'yes'</td>\n",
       "      <td>b'United States'</td>\n",
       "      <td>b'no'</td>\n",
       "      <td>6.0</td>\n",
       "      <td>b'18 and more'</td>\n",
       "      <td>b'Self'</td>\n",
       "      <td>b'NO'</td>\n",
       "    </tr>\n",
       "    <tr>\n",
       "      <th>4</th>\n",
       "      <td>b'1'</td>\n",
       "      <td>b'0'</td>\n",
       "      <td>b'0'</td>\n",
       "      <td>b'0'</td>\n",
       "      <td>b'0'</td>\n",
       "      <td>b'0'</td>\n",
       "      <td>b'0'</td>\n",
       "      <td>b'1'</td>\n",
       "      <td>b'0'</td>\n",
       "      <td>b'0'</td>\n",
       "      <td>...</td>\n",
       "      <td>b'f'</td>\n",
       "      <td>b'?'</td>\n",
       "      <td>b'no'</td>\n",
       "      <td>b'no'</td>\n",
       "      <td>b'Egypt'</td>\n",
       "      <td>b'no'</td>\n",
       "      <td>2.0</td>\n",
       "      <td>b'18 and more'</td>\n",
       "      <td>b'?'</td>\n",
       "      <td>b'NO'</td>\n",
       "    </tr>\n",
       "  </tbody>\n",
       "</table>\n",
       "<p>5 rows × 21 columns</p>\n",
       "</div>"
      ],
      "text/plain": [
       "  A1_Score A2_Score A3_Score A4_Score A5_Score A6_Score A7_Score A8_Score  \\\n",
       "0     b'1'     b'1'     b'1'     b'1'     b'0'     b'0'     b'1'     b'1'   \n",
       "1     b'1'     b'1'     b'0'     b'1'     b'0'     b'0'     b'0'     b'1'   \n",
       "2     b'1'     b'1'     b'0'     b'1'     b'1'     b'0'     b'1'     b'1'   \n",
       "3     b'1'     b'1'     b'0'     b'1'     b'0'     b'0'     b'1'     b'1'   \n",
       "4     b'1'     b'0'     b'0'     b'0'     b'0'     b'0'     b'0'     b'1'   \n",
       "\n",
       "  A9_Score A10_Score  ...  gender          ethnicity jundice  austim  \\\n",
       "0     b'0'      b'0'  ...    b'f'  b'White-European'   b'no'   b'no'   \n",
       "1     b'0'      b'1'  ...    b'm'          b'Latino'   b'no'  b'yes'   \n",
       "2     b'1'      b'1'  ...    b'm'          b'Latino'  b'yes'  b'yes'   \n",
       "3     b'0'      b'1'  ...    b'f'  b'White-European'   b'no'  b'yes'   \n",
       "4     b'0'      b'0'  ...    b'f'               b'?'   b'no'   b'no'   \n",
       "\n",
       "      contry_of_res used_app_before result        age_desc   relation  \\\n",
       "0  b'United States'           b'no'    6.0  b'18 and more'    b'Self'   \n",
       "1         b'Brazil'           b'no'    5.0  b'18 and more'    b'Self'   \n",
       "2          b'Spain'           b'no'    8.0  b'18 and more'  b'Parent'   \n",
       "3  b'United States'           b'no'    6.0  b'18 and more'    b'Self'   \n",
       "4          b'Egypt'           b'no'    2.0  b'18 and more'       b'?'   \n",
       "\n",
       "  Class/ASD  \n",
       "0     b'NO'  \n",
       "1     b'NO'  \n",
       "2    b'YES'  \n",
       "3     b'NO'  \n",
       "4     b'NO'  \n",
       "\n",
       "[5 rows x 21 columns]"
      ]
     },
     "execution_count": 15,
     "metadata": {},
     "output_type": "execute_result"
    }
   ],
   "source": [
    "df.head()"
   ]
  },
  {
   "cell_type": "code",
   "execution_count": 16,
   "metadata": {},
   "outputs": [
    {
     "name": "stdout",
     "output_type": "stream",
     "text": [
      "<class 'pandas.core.frame.DataFrame'>\n",
      "RangeIndex: 704 entries, 0 to 703\n",
      "Data columns (total 21 columns):\n",
      " #   Column           Non-Null Count  Dtype  \n",
      "---  ------           --------------  -----  \n",
      " 0   A1_Score         704 non-null    object \n",
      " 1   A2_Score         704 non-null    object \n",
      " 2   A3_Score         704 non-null    object \n",
      " 3   A4_Score         704 non-null    object \n",
      " 4   A5_Score         704 non-null    object \n",
      " 5   A6_Score         704 non-null    object \n",
      " 6   A7_Score         704 non-null    object \n",
      " 7   A8_Score         704 non-null    object \n",
      " 8   A9_Score         704 non-null    object \n",
      " 9   A10_Score        704 non-null    object \n",
      " 10  age              702 non-null    float64\n",
      " 11  gender           704 non-null    object \n",
      " 12  ethnicity        704 non-null    object \n",
      " 13  jundice          704 non-null    object \n",
      " 14  austim           704 non-null    object \n",
      " 15  contry_of_res    704 non-null    object \n",
      " 16  used_app_before  704 non-null    object \n",
      " 17  result           704 non-null    float64\n",
      " 18  age_desc         704 non-null    object \n",
      " 19  relation         704 non-null    object \n",
      " 20  Class/ASD        704 non-null    object \n",
      "dtypes: float64(2), object(19)\n",
      "memory usage: 115.6+ KB\n"
     ]
    }
   ],
   "source": [
    "df.info()"
   ]
  },
  {
   "cell_type": "code",
   "execution_count": 17,
   "metadata": {},
   "outputs": [
    {
     "data": {
      "text/plain": [
       "(704, 21)"
      ]
     },
     "execution_count": 17,
     "metadata": {},
     "output_type": "execute_result"
    }
   ],
   "source": [
    "#exploring dimensions\n",
    "\n",
    "df.shape"
   ]
  },
  {
   "cell_type": "code",
   "execution_count": 18,
   "metadata": {},
   "outputs": [
    {
     "data": {
      "text/plain": [
       "Index(['A1_Score', 'A2_Score', 'A3_Score', 'A4_Score', 'A5_Score', 'A6_Score',\n",
       "       'A7_Score', 'A8_Score', 'A9_Score', 'A10_Score', 'age', 'gender',\n",
       "       'ethnicity', 'jundice', 'austim', 'contry_of_res', 'used_app_before',\n",
       "       'result', 'age_desc', 'relation', 'Class/ASD'],\n",
       "      dtype='object')"
      ]
     },
     "execution_count": 18,
     "metadata": {},
     "output_type": "execute_result"
    }
   ],
   "source": [
    "df.columns"
   ]
  },
  {
   "cell_type": "code",
   "execution_count": 19,
   "metadata": {},
   "outputs": [
    {
     "data": {
      "text/plain": [
       "A1_Score            object\n",
       "A2_Score            object\n",
       "A3_Score            object\n",
       "A4_Score            object\n",
       "A5_Score            object\n",
       "A6_Score            object\n",
       "A7_Score            object\n",
       "A8_Score            object\n",
       "A9_Score            object\n",
       "A10_Score           object\n",
       "age                float64\n",
       "gender              object\n",
       "ethnicity           object\n",
       "jundice             object\n",
       "austim              object\n",
       "contry_of_res       object\n",
       "used_app_before     object\n",
       "result             float64\n",
       "age_desc            object\n",
       "relation            object\n",
       "Class/ASD           object\n",
       "dtype: object"
      ]
     },
     "execution_count": 19,
     "metadata": {},
     "output_type": "execute_result"
    }
   ],
   "source": [
    "df.dtypes"
   ]
  },
  {
   "cell_type": "code",
   "execution_count": 20,
   "metadata": {},
   "outputs": [
    {
     "data": {
      "text/html": [
       "<div>\n",
       "<style scoped>\n",
       "    .dataframe tbody tr th:only-of-type {\n",
       "        vertical-align: middle;\n",
       "    }\n",
       "\n",
       "    .dataframe tbody tr th {\n",
       "        vertical-align: top;\n",
       "    }\n",
       "\n",
       "    .dataframe thead th {\n",
       "        text-align: right;\n",
       "    }\n",
       "</style>\n",
       "<table border=\"1\" class=\"dataframe\">\n",
       "  <thead>\n",
       "    <tr style=\"text-align: right;\">\n",
       "      <th></th>\n",
       "      <th>age</th>\n",
       "      <th>result</th>\n",
       "    </tr>\n",
       "  </thead>\n",
       "  <tbody>\n",
       "    <tr>\n",
       "      <th>count</th>\n",
       "      <td>702.000000</td>\n",
       "      <td>704.000000</td>\n",
       "    </tr>\n",
       "    <tr>\n",
       "      <th>mean</th>\n",
       "      <td>29.698006</td>\n",
       "      <td>4.875000</td>\n",
       "    </tr>\n",
       "    <tr>\n",
       "      <th>std</th>\n",
       "      <td>16.507465</td>\n",
       "      <td>2.501493</td>\n",
       "    </tr>\n",
       "    <tr>\n",
       "      <th>min</th>\n",
       "      <td>17.000000</td>\n",
       "      <td>0.000000</td>\n",
       "    </tr>\n",
       "    <tr>\n",
       "      <th>25%</th>\n",
       "      <td>21.000000</td>\n",
       "      <td>3.000000</td>\n",
       "    </tr>\n",
       "    <tr>\n",
       "      <th>50%</th>\n",
       "      <td>27.000000</td>\n",
       "      <td>4.000000</td>\n",
       "    </tr>\n",
       "    <tr>\n",
       "      <th>75%</th>\n",
       "      <td>35.000000</td>\n",
       "      <td>7.000000</td>\n",
       "    </tr>\n",
       "    <tr>\n",
       "      <th>max</th>\n",
       "      <td>383.000000</td>\n",
       "      <td>10.000000</td>\n",
       "    </tr>\n",
       "  </tbody>\n",
       "</table>\n",
       "</div>"
      ],
      "text/plain": [
       "              age      result\n",
       "count  702.000000  704.000000\n",
       "mean    29.698006    4.875000\n",
       "std     16.507465    2.501493\n",
       "min     17.000000    0.000000\n",
       "25%     21.000000    3.000000\n",
       "50%     27.000000    4.000000\n",
       "75%     35.000000    7.000000\n",
       "max    383.000000   10.000000"
      ]
     },
     "execution_count": 20,
     "metadata": {},
     "output_type": "execute_result"
    }
   ],
   "source": [
    "df.describe()"
   ]
  },
  {
   "cell_type": "code",
   "execution_count": 21,
   "metadata": {},
   "outputs": [
    {
     "data": {
      "text/plain": [
       "Class/ASD\n",
       "b'NO'     515\n",
       "b'YES'    189\n",
       "Name: count, dtype: int64"
      ]
     },
     "execution_count": 21,
     "metadata": {},
     "output_type": "execute_result"
    }
   ],
   "source": [
    "# target\n",
    "\n",
    "df['Class/ASD'].value_counts()"
   ]
  }
 ],
 "metadata": {
  "kernelspec": {
   "display_name": "base",
   "language": "python",
   "name": "python3"
  },
  "language_info": {
   "codemirror_mode": {
    "name": "ipython",
    "version": 3
   },
   "file_extension": ".py",
   "mimetype": "text/x-python",
   "name": "python",
   "nbconvert_exporter": "python",
   "pygments_lexer": "ipython3",
   "version": "3.11.5"
  }
 },
 "nbformat": 4,
 "nbformat_minor": 2
}
