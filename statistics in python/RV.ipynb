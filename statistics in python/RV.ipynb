{
 "cells": [
  {
   "cell_type": "markdown",
   "metadata": {},
   "source": [
    "# Random Variables Practice - RV"
   ]
  },
  {
   "cell_type": "markdown",
   "metadata": {},
   "source": [
    "## Bernoulli RV\n",
    "\n",
    "- $X \\sim Bern(p)$\n",
    "- $P(X=1) = p$\n",
    "- $P(X=0) = 1-p$\n",
    "\n",
    "The Bernoulli distribution is a discrete distribution having two possible outcomes labelled by $x=0$ and $x=1$, where $x=1$ is called a \"success\" and $x=0$ is called a \"failure\". The probability of success is $p$ and the probability of failure is $1-p$."
   ]
  },
  {
   "cell_type": "code",
   "execution_count": 62,
   "metadata": {},
   "outputs": [],
   "source": [
    "import numpy as np"
   ]
  },
  {
   "cell_type": "code",
   "execution_count": 63,
   "metadata": {},
   "outputs": [],
   "source": [
    "def bernoulli_trail(p:float =0.5):\n",
    "    X: bool = int(np.random.rand() <= p)\n",
    "    return X"
   ]
  },
  {
   "cell_type": "markdown",
   "metadata": {},
   "source": [
    "Here we define a function in Python to generate a Bernoulli random variable.\n",
    "The variable will assume the value 1 with probability $p$ and the value 0 with probability $1-p$.\n",
    "\n",
    "In this case the probability is given by a parameter $p$. Which is 0.5 by default, but we can change it."
   ]
  },
  {
   "cell_type": "code",
   "execution_count": 64,
   "metadata": {},
   "outputs": [
    {
     "name": "stdout",
     "output_type": "stream",
     "text": [
      "1\n"
     ]
    }
   ],
   "source": [
    "print(bernoulli_trail())"
   ]
  },
  {
   "cell_type": "markdown",
   "metadata": {},
   "source": [
    "Smaller the $p$ value, smaller the probability of success."
   ]
  },
  {
   "cell_type": "code",
   "execution_count": 65,
   "metadata": {},
   "outputs": [
    {
     "name": "stdout",
     "output_type": "stream",
     "text": [
      "0\n"
     ]
    }
   ],
   "source": [
    "print(bernoulli_trail(p=0.3))"
   ]
  },
  {
   "cell_type": "code",
   "execution_count": 66,
   "metadata": {},
   "outputs": [
    {
     "name": "stdout",
     "output_type": "stream",
     "text": [
      "The number of ones is 516\n",
      "The number of zeros is 484\n",
      "The probability was 0.5 and the number of trials was 1000\n",
      "The success rate is 0.516\n"
     ]
    }
   ],
   "source": [
    "countOnes = 0\n",
    "countZeros = 0\n",
    "\n",
    "for i in range(1000):\n",
    "    X = bernoulli_trail()\n",
    "    if X == 1:\n",
    "        countOnes += 1\n",
    "    else:\n",
    "        countZeros += 1\n",
    "\n",
    "print(f'The number of ones is {countOnes}\\nThe number of zeros is {countZeros}\\nThe probability was 0.5 and the number of trials was 1000\\nThe success rate is {countOnes/1000}')"
   ]
  },
  {
   "cell_type": "markdown",
   "metadata": {},
   "source": [
    "If the next ball brings a six in a cricket match then team A wins and not otherwise. Can this be modeled by a Bernoulli random variable?\n",
    "\n",
    "Yes, it can be modeled by a Bernoulli random variable. The random variable $X$ can be defined as follows:\n",
    "\n",
    "$X = 1$ if the next ball brings a six\n",
    "\n",
    "$X = 0$ if the next ball does not bring a six\n",
    "\n",
    "$Y = 1$ if the next ball brings a six\n",
    "\n",
    "$Y = 0$ if the next ball does not bring a six\n",
    "\n",
    "The probability of success is $p = (P(Y))$"
   ]
  },
  {
   "cell_type": "markdown",
   "metadata": {},
   "source": [
    "## Geometric RV\n",
    "\n",
    "- $X \\sim Geom(p)$\n",
    "- $P(X=k) = (1-p)^{k-1}p$\n",
    "- $k = 1,2,3,...$\n",
    "\n",
    "The Geometric distribution is a discrete distribution having two possible outcomes labelled by $x=1,2,3,...$, where $x=1$ is called a \"success\" and $x=0$ is called a \"failure\". The probability of success is $p$ and the probability of failure is $1-p$."
   ]
  },
  {
   "cell_type": "code",
   "execution_count": 67,
   "metadata": {},
   "outputs": [],
   "source": [
    "def geometric_trail(p: float = 0.5) -> int:\n",
    "    X: int = 0 # number of failures before the first success\n",
    "    while True:\n",
    "        if bernoulli_trail(p) == 1: # if success\n",
    "            return X # return the number of failures before the first success\n",
    "        X = X + 1"
   ]
  },
  {
   "cell_type": "code",
   "execution_count": 80,
   "metadata": {},
   "outputs": [
    {
     "name": "stdout",
     "output_type": "stream",
     "text": [
      "The probability of success is 0.7\n",
      "The number of failures before the first success is 2\n"
     ]
    }
   ],
   "source": [
    "p = 0.7\n",
    "print(f'The probability of success is {p}')\n",
    "print(f'The number of failures before the first success is {geometric_trail(p)}')"
   ]
  },
  {
   "cell_type": "markdown",
   "metadata": {},
   "source": [
    "If we reduce the probability of success, the probability of failure increases. This is because the sum of the probabilities of success and failure is 1."
   ]
  },
  {
   "cell_type": "code",
   "execution_count": 97,
   "metadata": {},
   "outputs": [
    {
     "name": "stdout",
     "output_type": "stream",
     "text": [
      "The probability of success is 0.3\n",
      "The number of failures before the first success is 5\n"
     ]
    }
   ],
   "source": [
    "p = 0.3\n",
    "print(f'The probability of success is {p}')\n",
    "print(f'The number of failures before the first success is {geometric_trail(p)}')"
   ]
  },
  {
   "cell_type": "code",
   "execution_count": 99,
   "metadata": {},
   "outputs": [
    {
     "name": "stdout",
     "output_type": "stream",
     "text": [
      "The mean of the geometric distribution is 0.683\n"
     ]
    }
   ],
   "source": [
    "n = 1000\n",
    "p = 0.6\n",
    "\n",
    "G = np.zeros(n)\n",
    "\n",
    "for i in range(n):\n",
    "    G[i] = geometric_trail(p)\n",
    "\n",
    "print(f'The mean of the geometric distribution is {np.mean(G)}')"
   ]
  },
  {
   "cell_type": "code",
   "execution_count": 100,
   "metadata": {},
   "outputs": [],
   "source": [
    "import seaborn as sns "
   ]
  },
  {
   "cell_type": "code",
   "execution_count": 101,
   "metadata": {},
   "outputs": [
    {
     "name": "stderr",
     "output_type": "stream",
     "text": [
      "/home/pcmoraes/anaconda3/lib/python3.11/site-packages/seaborn/_oldcore.py:1498: FutureWarning: is_categorical_dtype is deprecated and will be removed in a future version. Use isinstance(dtype, CategoricalDtype) instead\n",
      "  if pd.api.types.is_categorical_dtype(vector):\n",
      "/home/pcmoraes/anaconda3/lib/python3.11/site-packages/seaborn/_oldcore.py:1119: FutureWarning: use_inf_as_na option is deprecated and will be removed in a future version. Convert inf values to NaN before operating instead.\n",
      "  with pd.option_context('mode.use_inf_as_na', True):\n",
      "/home/pcmoraes/anaconda3/lib/python3.11/site-packages/seaborn/axisgrid.py:118: UserWarning: The figure layout has changed to tight\n",
      "  self._figure.tight_layout(*args, **kwargs)\n"
     ]
    },
    {
     "data": {
      "text/plain": [
       "<seaborn.axisgrid.FacetGrid at 0x7f23eaf422d0>"
      ]
     },
     "execution_count": 101,
     "metadata": {},
     "output_type": "execute_result"
    },
    {
     "data": {
      "image/png": "[encoded data removed]",
      "text/plain": [
       "<Figure size 500x500 with 1 Axes>"
      ]
     },
     "metadata": {},
     "output_type": "display_data"
    }
   ],
   "source": [
    "sns.displot(G, kde=True)"
   ]
  },
  {
   "cell_type": "markdown",
   "metadata": {},
   "source": [
    "## Binomial RV\n",
    "\n",
    "- $X \\sim Bin(n,p)$\n",
    "\n",
    "The Binomial distribution is a discrete distribution having two possible outcomes labelled by $x=0,1,2,...,n$, where $x=1$ is called a \"success\" and $x=0$ is called a \"failure\". The probability of success is $p$ and the probability of failure is $1-p$.\n",
    "\n",
    "The Binomial distribution is the sum of $n$ independent Bernoulli random variables.\n",
    "\n"
   ]
  },
  {
   "cell_type": "code",
   "execution_count": 103,
   "metadata": {},
   "outputs": [],
   "source": [
    "def binomial_trail(n: int, p: float = 0.5) -> int:\n",
    "    X = (np.random.rand(n) <=p).sum()\n",
    "\n",
    "## OR \n",
    "\n",
    "def binomial_trail(n: int, p: float = 0.5) -> int:\n",
    "    X = 0\n",
    "    for i in range(n):\n",
    "        X = X + bernoulli_trail(p)\n",
    "    return X"
   ]
  },
  {
   "cell_type": "code",
   "execution_count": 105,
   "metadata": {},
   "outputs": [
    {
     "name": "stdout",
     "output_type": "stream",
     "text": [
      "The number of successes is 609\n"
     ]
    }
   ],
   "source": [
    "print(f'The number of successes is {binomial_trail(1000, 0.6)}')"
   ]
  },
  {
   "cell_type": "code",
   "execution_count": null,
   "metadata": {},
   "outputs": [],
   "source": []
  }
 ],
 "metadata": {
  "kernelspec": {
   "display_name": "base",
   "language": "python",
   "name": "python3"
  },
  "language_info": {
   "codemirror_mode": {
    "name": "ipython",
    "version": 3
   },
   "file_extension": ".py",
   "mimetype": "text/x-python",
   "name": "python",
   "nbconvert_exporter": "python",
   "pygments_lexer": "ipython3",
   "version": "3.11.5"
  }
 },
 "nbformat": 4,
 "nbformat_minor": 2
}
