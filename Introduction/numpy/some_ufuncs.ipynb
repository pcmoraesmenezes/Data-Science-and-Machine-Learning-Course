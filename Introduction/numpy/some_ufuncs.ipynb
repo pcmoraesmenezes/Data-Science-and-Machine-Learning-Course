{
 "cells": [
  {
   "cell_type": "markdown",
   "metadata": {},
   "source": [
    "# Some ufuncs in numpy"
   ]
  },
  {
   "cell_type": "code",
   "execution_count": 94,
   "metadata": {},
   "outputs": [],
   "source": [
    "import numpy as np"
   ]
  },
  {
   "cell_type": "markdown",
   "metadata": {},
   "source": [
    "## Ahritmetic functions"
   ]
  },
  {
   "cell_type": "code",
   "execution_count": 95,
   "metadata": {},
   "outputs": [
    {
     "name": "stdout",
     "output_type": "stream",
     "text": [
      "The first array is: \n",
      "[0 1 2 3 4 5 6 7 8 9]\n",
      "The second array is: \n",
      "[[0 6 6 5 5 8 9 4 2 1]]\n"
     ]
    }
   ],
   "source": [
    "A = np.arange(10)\n",
    "B = np.random.randint(0, 10, (1,10)) # randint is used to generate random integers in a given range, the parameters are (low value , high value, size) where size is the shape of the array\n",
    "# The  tuple (1,10) is the shape of the array, so it is a 1D array of 10 elements\n",
    "print(f'The first array is: \\n{A}\\nThe second array is: \\n{B}')"
   ]
  },
  {
   "cell_type": "code",
   "execution_count": 96,
   "metadata": {},
   "outputs": [
    {
     "name": "stdout",
     "output_type": "stream",
     "text": [
      "The shape of the array is: (10, 1)\n",
      " The shape of D is (1, 10)\n",
      "C: \n",
      "[[0]\n",
      " [1]\n",
      " [2]\n",
      " [3]\n",
      " [4]\n",
      " [5]\n",
      " [6]\n",
      " [7]\n",
      " [8]\n",
      " [9]]\n",
      "D: \n",
      "[[0 1 2 3 4 5 6 7 8 9]]\n"
     ]
    }
   ],
   "source": [
    "C = A[:, np.newaxis] # This is used to add a new axis to the array, so it is now a 2D array\n",
    "D = A[np.newaxis, :] # This is used to add a new axis to the array, so it is now a 2D array\n",
    "print(f'The shape of the array is: {C.shape}\\n The shape of D is {D.shape}')\n",
    "print(f'C: \\n{C}\\nD: \\n{D}')"
   ]
  },
  {
   "cell_type": "code",
   "execution_count": 97,
   "metadata": {},
   "outputs": [
    {
     "name": "stdout",
     "output_type": "stream",
     "text": [
      "5\n",
      "5\n"
     ]
    }
   ],
   "source": [
    "print(f'{C[5][0]}')\n",
    "print(f'{D[0][5]}')"
   ]
  },
  {
   "cell_type": "code",
   "execution_count": 98,
   "metadata": {},
   "outputs": [
    {
     "name": "stdout",
     "output_type": "stream",
     "text": [
      "A: \n",
      "[0 1 2 3 4 5 6 7 8 9]\n",
      "B: \n",
      "[[0 6 6 5 5 8 9 4 2 1]]\n",
      "C: \n",
      "[[0]\n",
      " [1]\n",
      " [2]\n",
      " [3]\n",
      " [4]\n",
      " [5]\n",
      " [6]\n",
      " [7]\n",
      " [8]\n",
      " [9]]\n",
      "D: \n",
      "[[0 1 2 3 4 5 6 7 8 9]]\n"
     ]
    }
   ],
   "source": [
    "# Print all arrays now to we can use Ahritmetic operations on them\n",
    "\n",
    "print(f'A: \\n{A}\\nB: \\n{B}\\nC: \\n{C}\\nD: \\n{D}')"
   ]
  },
  {
   "cell_type": "code",
   "execution_count": 99,
   "metadata": {},
   "outputs": [
    {
     "name": "stdout",
     "output_type": "stream",
     "text": [
      "The sum of B and C is: \n",
      "\n",
      "[[ 0  6  6  5  5  8  9  4  2  1]\n",
      " [ 1  7  7  6  6  9 10  5  3  2]\n",
      " [ 2  8  8  7  7 10 11  6  4  3]\n",
      " [ 3  9  9  8  8 11 12  7  5  4]\n",
      " [ 4 10 10  9  9 12 13  8  6  5]\n",
      " [ 5 11 11 10 10 13 14  9  7  6]\n",
      " [ 6 12 12 11 11 14 15 10  8  7]\n",
      " [ 7 13 13 12 12 15 16 11  9  8]\n",
      " [ 8 14 14 13 13 16 17 12 10  9]\n",
      " [ 9 15 15 14 14 17 18 13 11 10]]\n",
      "\n",
      "The sum of B and D is: \n",
      "[[ 0  7  8  8  9 13 15 11 10 10]]\n",
      "\n",
      "The sum of B and A is: \n",
      "[[ 0  7  8  8  9 13 15 11 10 10]]\n"
     ]
    }
   ],
   "source": [
    "sum_B_and_C = B + C\n",
    "sum_B_and_D = B + D\n",
    "sum_B_and_A = B + A\n",
    "print(f'The sum of B and C is: \\n\\n{sum_B_and_C}\\n\\nThe sum of B and D is: \\n{sum_B_and_D}\\n\\nThe sum of B and A is: \\n{sum_B_and_A}')"
   ]
  },
  {
   "cell_type": "markdown",
   "metadata": {},
   "source": [
    "Look, A is an 1d array of 10 elements, and B is a 2d array, when we add them, numpy will broadcast A to 2d array, and then add them together."
   ]
  },
  {
   "cell_type": "code",
   "execution_count": 100,
   "metadata": {},
   "outputs": [
    {
     "name": "stdout",
     "output_type": "stream",
     "text": [
      "The ndim of A: 1\n",
      "The ndim of B: 2\n",
      "The ndim of C: 2\n",
      "The ndim of D: 2\n",
      "\n",
      "D is a new axis of A, so they are equal? [[ True  True  True  True  True  True  True  True  True  True]]\n",
      "\n",
      "The sum of A and B is equal to the sum of D and B? [[ True  True  True  True  True  True  True  True  True  True]]\n",
      "\n"
     ]
    }
   ],
   "source": [
    "print(f'The ndim of A: {A.ndim}\\nThe ndim of B: {B.ndim}\\nThe ndim of C: {C.ndim}\\nThe ndim of D: {D.ndim}\\n')\n",
    "print(f'D is a new axis of A, so they are equal? {A == D}\\n')\n",
    "print(f'The sum of A and B is equal to the sum of D and B? {sum_B_and_A == sum_B_and_D}\\n')"
   ]
  },
  {
   "cell_type": "markdown",
   "metadata": {},
   "source": [
    "Look, A is an 1d array, and D is a new axis array based on A, when we compare them, numpy will broadcast A to 2d array, and then compare them together. The return will be a 2d array."
   ]
  },
  {
   "cell_type": "markdown",
   "metadata": {},
   "source": [
    "To remove the extra axis in D, we can use squeeze() function."
   ]
  },
  {
   "cell_type": "code",
   "execution_count": 101,
   "metadata": {},
   "outputs": [
    {
     "name": "stdout",
     "output_type": "stream",
     "text": [
      "The shape before removing the extra dimension of D is: (1, 10)\n",
      "\n",
      "The shape after removing the extra dimension of D is: (10,)\n",
      "\n"
     ]
    }
   ],
   "source": [
    "# removing the extra dimension of D\n",
    "\n",
    "print(f'The shape before removing the extra dimension of D is: {D.shape}\\n')\n",
    "\n",
    "D = D.squeeze()\n",
    "\n",
    "print(f'The shape after removing the extra dimension of D is: {D.shape}\\n')"
   ]
  },
  {
   "cell_type": "markdown",
   "metadata": {},
   "source": [
    "### np.sum()"
   ]
  },
  {
   "cell_type": "code",
   "execution_count": 102,
   "metadata": {},
   "outputs": [
    {
     "name": "stdout",
     "output_type": "stream",
     "text": [
      "The sum of all elements of A is: 45\n",
      "\n",
      "The sum of all elements of B is: 46\n",
      "\n",
      "The sum of B passing the axis parameter is: [46]\n",
      "\n"
     ]
    }
   ],
   "source": [
    "# The np.sum() function is used to sum all the elements of an array, it can also be used to sum the elements of a specific axis. The return value is a scalar\n",
    "# The parameter is the axis to sum, if it is not specified, all the elements are summed\n",
    "\n",
    "print(f'The sum of all elements of A is: {np.sum(A)}\\n') # 0+1+2+3+4+5+6+7+8+9 = 45\n",
    "print(f'The sum of all elements of B is: {np.sum(B)}\\n')\n",
    "\n",
    "print(f'The sum of B passing the axis parameter is: {np.sum(B, axis=1)}\\n') # The axis parameter is used to sum the elements of a specific axis, in this case, the axis is 1, so the sum is done on the rows"
   ]
  },
  {
   "cell_type": "code",
   "execution_count": 103,
   "metadata": {},
   "outputs": [
    {
     "name": "stdout",
     "output_type": "stream",
     "text": [
      "The ndim of A is: 4\n",
      "The shape of A is: (2, 2, 5, 4)\n",
      "\n",
      "\n",
      "[[[[ 0  1  2  3]\n",
      "   [ 4  5  6  7]\n",
      "   [ 8  9 10 11]\n",
      "   [12 13 14 15]\n",
      "   [16 17 18 19]]\n",
      "\n",
      "  [[20 21 22 23]\n",
      "   [24 25 26 27]\n",
      "   [28 29 30 31]\n",
      "   [32 33 34 35]\n",
      "   [36 37 38 39]]]\n",
      "\n",
      "\n",
      " [[[40 41 42 43]\n",
      "   [44 45 46 47]\n",
      "   [48 49 50 51]\n",
      "   [52 53 54 55]\n",
      "   [56 57 58 59]]\n",
      "\n",
      "  [[60 61 62 63]\n",
      "   [64 65 66 67]\n",
      "   [68 69 70 71]\n",
      "   [72 73 74 75]\n",
      "   [76 77 78 79]]]]\n",
      "\n",
      "4\n"
     ]
    }
   ],
   "source": [
    "A = np.arange(80).reshape(2,2,5,4)\n",
    "print(f'The ndim of A is: {A.ndim}\\nThe shape of A is: {A.shape}\\n')\n",
    "print(f'\\n{A}\\n')\n",
    "print(A[0][0][1][0])"
   ]
  },
  {
   "cell_type": "code",
   "execution_count": 104,
   "metadata": {},
   "outputs": [
    {
     "name": "stdout",
     "output_type": "stream",
     "text": [
      "The sum of A is: 3160\n",
      "\n",
      "The sum of A passing the axis parameter is: [[[  6  22  38  54  70]\n",
      "  [ 86 102 118 134 150]]\n",
      "\n",
      " [[166 182 198 214 230]\n",
      "  [246 262 278 294 310]]]\n",
      "\n"
     ]
    }
   ],
   "source": [
    "print(f'The sum of A is: {np.sum(A)}\\n')\n",
    "print(f'The sum of A passing the axis parameter is: {np.sum(A, axis=3)}\\n') # The axis parameter is used to sum the elements of a specific axis, in this case, the axis is 0, so the sum is done on the first dimension\n",
    "# Axis = 3 means that the sum is done at the fourth dimension, in this case the sum will be representaded by 0+1+2+3 = 6 and 4+5+6+7 = 22 and so on."
   ]
  },
  {
   "cell_type": "markdown",
   "metadata": {},
   "source": [
    "### np.add()\n",
    "\n",
    "- np.add() is used to add two arrays, it is the same as the + operator but it can be used with the out parameter to store the result in a specific array\n",
    "\n",
    "- The parameters are:\n",
    "\n",
    "    - x1: The first array to be added\n",
    "    - x2: The second array to be added\n",
    "    - out: The array in which to store the output\n",
    "    - where: This is a boolean array which is used to decide which elements of the output array will have their values changed. If no where parameter is specified, all the elements will be changed.\n",
    "    - casting: This is used to decide when the data type of the output array will be promoted to a higher type. The possible values are: ‘no’, ‘equiv’, ‘safe’, ‘same_kind’, ‘unsafe’. The default value is ‘same_kind’.\n",
    "    - order: This specifies whether the array is stored in row-major (C-style) or column-major (Fortran-style) order in memory. The possible values are ‘C’ or ‘F’. The default value is ‘K’.\n",
    "    - dtype: This specifies the data type of the output array. If this is not specified, the data type of the input arrays will be used as the data type of the output array.\n",
    "    - subok: If this is True, then the newly created array will use the sub-class type of the input array. Otherwise, the output array will be forced to be a base-class array (default).\n",
    "    - signature: This is a tuple of the signature of the function that is to be called."
   ]
  },
  {
   "cell_type": "code",
   "execution_count": 105,
   "metadata": {},
   "outputs": [
    {
     "name": "stdout",
     "output_type": "stream",
     "text": [
      "Array A: [0 1 2 3 4 5 6 7 8 9]\n",
      "Array B: [9 9 6 0 7 9 6 7 3 9]\n",
      "The array add_A_and_B is: [0. 0. 0. 0. 0. 0. 0. 0. 0. 0.]\n",
      "\n",
      "The array add_A_and_B is: [ 9. 10.  8.  3. 11. 14. 12. 14. 11. 18.]\n",
      "\n"
     ]
    }
   ],
   "source": [
    "A = np.arange(10)\n",
    "B = np.random.randint(0,10, (10))\n",
    "add_A_and_B = np.zeros(10)\n",
    "print(f'Array A: {A}\\nArray B: {B}\\nThe array add_A_and_B is: {add_A_and_B}\\n')\n",
    "\n",
    "\n",
    "\n",
    "np.add(A,B, out=add_A_and_B) # The out parameter is used to store the result of the operation in a new \n",
    "print(f'The array add_A_and_B is: {add_A_and_B}\\n')"
   ]
  },
  {
   "cell_type": "code",
   "execution_count": 106,
   "metadata": {},
   "outputs": [
    {
     "name": "stdout",
     "output_type": "stream",
     "text": [
      "75.8 ms ± 30.1 ms per loop (mean ± std. dev. of 7 runs, 10 loops each)\n",
      "54.1 ms ± 10.2 ms per loop (mean ± std. dev. of 7 runs, 10 loops each)\n"
     ]
    }
   ],
   "source": [
    "# If the np.add() is the same as the + operator, why use it? Because it is faster than the + operator\n",
    "\n",
    "n = 10000000\n",
    "A = np.random.rand(n)\n",
    "B = np.random.rand(n)\n",
    "\n",
    "%timeit A+B\n",
    "%timeit np.add(A,B)"
   ]
  },
  {
   "cell_type": "markdown",
   "metadata": {},
   "source": [
    "### np.subtract()\n",
    "\n",
    "- np.subtract() is used to subtract two arrays, it is the same as the - operator but it can be used with the out parameter to store the result in a specific array\n",
    "\n",
    "- The parameters are:\n",
    "\n",
    "    - x1: The first array to be subtracted from\n",
    "    - x2: The second array to be subtracted by\n",
    "    - out: The array in which to store the output\n",
    "    - where: This is a boolean array which is used to decide which elements of the output array will have their values changed. If no where parameter is specified, all the elements will be changed.\n",
    "    - casting: This is used to decide when the data type of the output array will be promoted to a higher type. The possible values are: ‘no’, ‘equiv’, ‘safe’, ‘same_kind’, ‘unsafe’. The default value is ‘same_kind’.\n",
    "    - order: This specifies whether the array is stored in row-major (C-style) or column-major (Fortran-style) order in memory. The possible values are ‘C’ or ‘F’. The default value is ‘K’.\n",
    "    - dtype: This specifies the data type of the output array. If this is not specified, the data type of the input arrays will be used as the data type of the output array.\n",
    "    - subok: If this is True, then the newly created array will use the sub-class type of the input array. Otherwise, the output array will be forced to be a base-class array (default).\n",
    "    - signature: This is a tuple of the signature of the function that is to be called.\n",
    "\n",
    "The reason to use this function in order to use the '-' operator is that the function is faster than the operator."
   ]
  },
  {
   "cell_type": "code",
   "execution_count": 107,
   "metadata": {},
   "outputs": [
    {
     "name": "stdout",
     "output_type": "stream",
     "text": [
      "A: [0.27 0.36 0.76 0.66 0.1  0.86 0.45 0.64 0.51 0.71]\n",
      "B: [0.57 0.02 0.2  0.05 0.7  0.06 0.75 0.95 0.86 0.64]\n",
      "\n"
     ]
    }
   ],
   "source": [
    "A = np.round(np.random.rand(10),2)\n",
    "B = np.round(np.random.rand(10),2)\n",
    "\n",
    "print(f'A: {A}\\nB: {B}\\n')\n",
    "\n"
   ]
  },
  {
   "cell_type": "code",
   "execution_count": 108,
   "metadata": {},
   "outputs": [
    {
     "name": "stdout",
     "output_type": "stream",
     "text": [
      "C: [-0.3   0.34  0.56  0.61 -0.6   0.8  -0.3  -0.31 -0.35  0.07]\n",
      "a_subtract_b: [-0.3   0.34  0.56  0.61 -0.6   0.8  -0.3  -0.31 -0.35  0.07]\n",
      "\n"
     ]
    }
   ],
   "source": [
    "C = A - B\n",
    "a_subtract_b = np.subtract(A,B)\n",
    "\n",
    "print(f'C: {C}\\na_subtract_b: {a_subtract_b}\\n')"
   ]
  },
  {
   "cell_type": "code",
   "execution_count": 109,
   "metadata": {},
   "outputs": [
    {
     "name": "stdout",
     "output_type": "stream",
     "text": [
      "54.7 ms ± 8.4 ms per loop (mean ± std. dev. of 7 runs, 10 loops each)\n",
      "66 ms ± 9.18 ms per loop (mean ± std. dev. of 7 runs, 10 loops each)\n"
     ]
    }
   ],
   "source": [
    "n = 10000000\n",
    "A = np.random.rand(n)\n",
    "B = np.random.rand(n)\n",
    "\n",
    "%timeit A-B\n",
    "%timeit np.subtract(A,B)"
   ]
  },
  {
   "cell_type": "markdown",
   "metadata": {},
   "source": [
    "### np.multiply()\n",
    "\n",
    "- np.multiply() is used to multiply two arrays, it is the same as the * operator but it can be used with the out parameter to store the result in a specific array\n",
    "\n",
    "- The parameters are:\n",
    "\n",
    "    - x1: The first array to be multiplied\n",
    "    - x2: The second array to be multiplied\n",
    "    - out: The array in which to store the output\n",
    "    - where: This is a boolean array which is used to decide which elements of the output array will have their values changed. If no where parameter is specified, all the elements will be changed.\n",
    "    - casting: This is used to decide when the data type of the output array will be promoted to a higher type. The possible values are: ‘no’, ‘equiv’, ‘safe’, ‘same_kind’, ‘unsafe’. The default value is ‘same_kind’.\n",
    "    - order: This specifies whether the array is stored in row-major (C-style) or column-major (Fortran-style) order in memory. The possible values are ‘C’ or ‘F’. The default value is ‘K’.\n",
    "    - dtype: This specifies the data type of the output array. If this is not specified, the data type of the input arrays will be used as the data type of the output array.\n",
    "    - subok: If this is True, then the newly created array will use the sub-class type of the input array. Otherwise, the output array will be forced to be a base-class array (default).\n",
    "    - signature: This is a tuple of the signature of the function that is to be called.\n"
   ]
  },
  {
   "cell_type": "code",
   "execution_count": 110,
   "metadata": {},
   "outputs": [
    {
     "name": "stdout",
     "output_type": "stream",
     "text": [
      "A: [0.01 0.15 0.18 0.99 0.28 0.22 0.41 0.12 0.41 0.8 ]\n",
      "B: [0.65 0.55 0.41 0.77 0.37 0.02 0.61 0.83 0.95 0.76]\n",
      "\n"
     ]
    }
   ],
   "source": [
    "A = np.round(np.random.rand(10),2)\n",
    "B = np.round(np.random.rand(10),2)\n",
    "\n",
    "print(f'A: {A}\\nB: {B}\\n')"
   ]
  },
  {
   "cell_type": "code",
   "execution_count": 111,
   "metadata": {},
   "outputs": [
    {
     "name": "stdout",
     "output_type": "stream",
     "text": [
      "C: [0.0065 0.0825 0.0738 0.7623 0.1036 0.0044 0.2501 0.0996 0.3895 0.608 ]\n",
      "a_multiply_b: [0.0065 0.0825 0.0738 0.7623 0.1036 0.0044 0.2501 0.0996 0.3895 0.608 ]\n",
      "\n"
     ]
    }
   ],
   "source": [
    "C = A * B\n",
    "\n",
    "a_multiply_b = np.multiply(A,B)\n",
    "\n",
    "print(f'C: {C}\\na_multiply_b: {a_multiply_b}\\n')"
   ]
  },
  {
   "cell_type": "code",
   "execution_count": 112,
   "metadata": {},
   "outputs": [
    {
     "name": "stdout",
     "output_type": "stream",
     "text": [
      "68.4 ms ± 14.3 ms per loop (mean ± std. dev. of 7 runs, 10 loops each)\n",
      "49.8 ms ± 3.07 ms per loop (mean ± std. dev. of 7 runs, 10 loops each)\n"
     ]
    }
   ],
   "source": [
    "n = 10000000\n",
    "A = np.random.rand(n)\n",
    "B = np.random.rand(n)\n",
    "\n",
    "%timeit A*B\n",
    "%timeit np.multiply(A,B)\n"
   ]
  },
  {
   "cell_type": "markdown",
   "metadata": {},
   "source": [
    "### np.power()\n",
    "\n",
    "- np.power() is used to raise the elements of the first array to the power of the elements of the second array, it is the same as the ** operator but it can be used with the out parameter to store the result in a specific array\n",
    "\n",
    "- The parameters are:\n",
    "\n",
    "    - x1: The first array to be raised to a power\n",
    "    - x2: The second array containing the powers to which the elements of the first array will be raised\n",
    "    - out: The array in which to store the output\n",
    "    - where: This is a boolean array which is used to decide which elements of the output array will have their values changed. If no where parameter is specified, all the elements will be changed.\n",
    "    - casting: This is used to decide when the data type of the output array will be promoted to a higher type. The possible values are: ‘no’, ‘equiv’, ‘safe’, ‘same_kind’, ‘unsafe’. The default value is ‘same_kind’.\n",
    "    - order: This specifies whether the array is stored in row-major (C-style) or column-major (Fortran-style) order in memory. The possible values are ‘C’ or ‘F’. The default value is ‘K’.\n",
    "    - dtype: This specifies the data type of the output array. If this is not specified, the data type of the input arrays will be used as the data type of the output array.\n",
    "    - subok: If this is True, then the newly created array will use the sub-class type of the input array. Otherwise, the output array will be forced to be a base-class array (default).\n",
    "    - signature: This is a tuple of the signature of the function that is to be called."
   ]
  },
  {
   "cell_type": "code",
   "execution_count": 113,
   "metadata": {},
   "outputs": [
    {
     "name": "stdout",
     "output_type": "stream",
     "text": [
      "A: [0.21 0.14 0.06 0.51 0.01 0.01 0.72 0.79 0.11 0.54]\n",
      "B: [0.55 0.65 0.75 0.   0.1  0.68 0.25 0.34 0.73 0.27]\n",
      "\n"
     ]
    }
   ],
   "source": [
    "A = np.round(np.random.rand(10),2)\n",
    "\n",
    "B = np.round(np.random.rand(10),2)\n",
    "\n",
    "print(f'A: {A}\\nB: {B}\\n')\n"
   ]
  },
  {
   "cell_type": "code",
   "execution_count": 114,
   "metadata": {},
   "outputs": [
    {
     "name": "stdout",
     "output_type": "stream",
     "text": [
      "C: [4.410e-02 1.960e-02 3.600e-03 2.601e-01 1.000e-04 1.000e-04 5.184e-01\n",
      " 6.241e-01 1.210e-02 2.916e-01]\n",
      "a_power_2: [4.410e-02 1.960e-02 3.600e-03 2.601e-01 1.000e-04 1.000e-04 5.184e-01\n",
      " 6.241e-01 1.210e-02 2.916e-01]\n",
      "\n"
     ]
    }
   ],
   "source": [
    "C = A ** 2\n",
    "\n",
    "a_power_2 = np.power(A,2)\n",
    "\n",
    "print(f'C: {C}\\na_power_2: {a_power_2}\\n')"
   ]
  },
  {
   "cell_type": "code",
   "execution_count": 115,
   "metadata": {},
   "outputs": [
    {
     "name": "stdout",
     "output_type": "stream",
     "text": [
      "a_power_b: [0.42385822 0.27860135 0.12123093 1.         0.63095734 0.04365158\n",
      " 0.92115587 0.92298196 0.1996258  0.84673267]\n",
      "\n"
     ]
    }
   ],
   "source": [
    "a_power_b = np.power(A,B)\n",
    "\n",
    "print(f'a_power_b: {a_power_b}\\n')\n"
   ]
  },
  {
   "cell_type": "markdown",
   "metadata": {},
   "source": [
    "### Other functions\n",
    "\n",
    "There are others functions like \n",
    "```python\n",
    "\n",
    "np.div() # divide two arrays is the same as the / operator\n",
    "\n",
    "np.mod() # get the remainder of two arrays is the same as the % operator\n",
    "\n",
    "np.mean() # get the mean of an array\n",
    "\n",
    "np.std() # get the standard deviation of an array\n",
    "\n",
    "np.var() # get the variance of an array\n",
    "\n",
    "np.floor() # get the floor of an array - example: np.floor(3.2) = 3\n",
    "\n",
    "np.ceil() # get the ceil of an array - example: np.ceil(3.2) = 4\n",
    "``` "
   ]
  },
  {
   "cell_type": "markdown",
   "metadata": {},
   "source": [
    "## Trigonometric functions"
   ]
  },
  {
   "cell_type": "code",
   "execution_count": 116,
   "metadata": {},
   "outputs": [
    {
     "name": "stdout",
     "output_type": "stream",
     "text": [
      "A:[ 0 30 45 60 90]\n",
      "Ndim:1\n",
      "Shape:(5,)\n",
      "Type:int64\n",
      "Object:<class 'numpy.ndarray'>\n",
      "\n"
     ]
    }
   ],
   "source": [
    "A = np.array([0,30,45,60,90])\n",
    "\n",
    "print(f'A:{A}\\nNdim:{A.ndim}\\nShape:{A.shape}\\nType:{A.dtype}\\nObject:{type(A)}\\n')"
   ]
  },
  {
   "cell_type": "code",
   "execution_count": 117,
   "metadata": {},
   "outputs": [
    {
     "data": {
      "text/plain": [
       "[<matplotlib.lines.Line2D at 0x7fbbe068f7d0>]"
      ]
     },
     "execution_count": 117,
     "metadata": {},
     "output_type": "execute_result"
    },
    {
     "data": {
      "image/png": "[encoded data removed]",
      "text/plain": [
       "<Figure size 640x480 with 1 Axes>"
      ]
     },
     "metadata": {},
     "output_type": "display_data"
    }
   ],
   "source": [
    "from matplotlib import pyplot as plt\n",
    "sin_a = np.sin(A * np.pi / 180) # The np.pi is used to convert the angle to radians\n",
    "\n",
    "plt.xlabel('Angle [rad]')\n",
    "plt.ylabel('sin(x)')\n",
    "plt.title('Sine Wave')\n",
    "plt.plot(A,sin_a)"
   ]
  },
  {
   "cell_type": "code",
   "execution_count": 118,
   "metadata": {},
   "outputs": [
    {
     "data": {
      "text/plain": [
       "[<matplotlib.lines.Line2D at 0x7fbbe0533110>]"
      ]
     },
     "execution_count": 118,
     "metadata": {},
     "output_type": "execute_result"
    },
    {
     "data": {
      "image/png": "[encoded data removed]",
      "text/plain": [
       "<Figure size 640x480 with 1 Axes>"
      ]
     },
     "metadata": {},
     "output_type": "display_data"
    }
   ],
   "source": [
    "cos_a = np.cos(A * np.pi / 180) # The np.pi is used to convert the angle to radians\n",
    "\n",
    "plt.xlabel('Angle [rad]')\n",
    "plt.ylabel('cos(x)')\n",
    "plt.title('Cosine Wave')\n",
    "plt.plot(A,cos_a)"
   ]
  },
  {
   "cell_type": "code",
   "execution_count": 119,
   "metadata": {},
   "outputs": [
    {
     "data": {
      "image/png": "[encoded data removed]",
      "text/plain": [
       "<Figure size 640x480 with 1 Axes>"
      ]
     },
     "metadata": {},
     "output_type": "display_data"
    }
   ],
   "source": [
    "plt.title('Sine and Cosine Waves')  # Set the title\n",
    "plt.plot(A, sin_a, label='sin(x)')\n",
    "plt.plot(A, cos_a, label='cos(x)')\n",
    "plt.xlabel('Angle [rad]')  # Set the x-axis label\n",
    "plt.ylabel('sin(x) and cos(x)')\n",
    "plt.legend()\n",
    "plt.show()"
   ]
  },
  {
   "cell_type": "code",
   "execution_count": 120,
   "metadata": {},
   "outputs": [
    {
     "data": {
      "text/plain": [
       "[<matplotlib.lines.Line2D at 0x7fbbe06b4550>]"
      ]
     },
     "execution_count": 120,
     "metadata": {},
     "output_type": "execute_result"
    },
    {
     "data": {
      "image/png": "[encoded data removed]",
      "text/plain": [
       "<Figure size 640x480 with 1 Axes>"
      ]
     },
     "metadata": {},
     "output_type": "display_data"
    }
   ],
   "source": [
    "tg_a = [round(np.tan(angle * np.pi / 180), 1) if abs(angle % 180) != 90 else 'Undefined' for angle in A]\n",
    "\n",
    "plt.xlabel('Angle [rad]')\n",
    "plt.ylabel('tg(x)')\n",
    "plt.title('Tangent Wave')\n",
    "plt.plot(A,tg_a)"
   ]
  },
  {
   "cell_type": "markdown",
   "metadata": {},
   "source": [
    "There are others trigonometric functions like \n",
    "```python\n",
    "\n",
    "np.arcsin() # get the arcsin of an array\n",
    "\n",
    "np.arccos() # get the arccos of an array\n",
    "\n",
    "np.arctan() # get the arctan of an array\n",
    "\n",
    "np.hypot() # get the hypotenuse of an array\n",
    "\n",
    "np.degrees() # convert angles from radians to degrees\n",
    "\n",
    "np.radians() # convert angles from degrees to radians\n",
    "\n",
    "np.deg2rad() # convert angles from degrees to radians\n",
    "\n",
    "np.rad2deg() # convert angles from radians to degrees\n",
    "```\n"
   ]
  },
  {
   "cell_type": "markdown",
   "metadata": {},
   "source": [
    "## Comparison functions"
   ]
  },
  {
   "cell_type": "code",
   "execution_count": 121,
   "metadata": {},
   "outputs": [
    {
     "name": "stdout",
     "output_type": "stream",
     "text": [
      "A: [0.83 0.02 0.78 0.91 0.87 0.98 0.9  0.4  0.98 0.09]\n",
      "B: [0.81 0.61 0.99 0.17 0.42 0.07 0.05 0.25 0.78 0.1 ]\n",
      "\n"
     ]
    }
   ],
   "source": [
    "A = np.round(np.random.rand(10),2)\n",
    "B = np.round(np.random.rand(10),2)\n",
    "\n",
    "print(f'A: {A}\\nB: {B}\\n')"
   ]
  },
  {
   "cell_type": "markdown",
   "metadata": {},
   "source": [
    "### np.greater()\n",
    "\n",
    "- np.greater() is used to compare two arrays and return a boolean array with the result of the comparison. It is the same as the > operator but it can be used with the out parameter to store the result in a specific array\n",
    "\n",
    "- The parameters are:\n",
    "\n",
    "    - x1: The first array to be compared\n",
    "    - x2: The second array to be compared\n",
    "    - out: The array in which to store the output\n",
    "    - where: This is a boolean array which is used to decide which elements of the output array will have their values changed. If no where parameter is specified, all the elements will be changed.\n",
    "    - casting: This is used to decide when the data type of the output array will be promoted to a higher type. The possible values are: ‘no’, ‘equiv’, ‘safe’, ‘same_kind’, ‘unsafe’. The default value is ‘same_kind’.\n",
    "    - order: This specifies whether the array is stored in row-major (C-style) or column-major (Fortran-style) order in memory. The possible values are ‘C’ or ‘F’. The default value is ‘K’.\n",
    "    - dtype: This specifies the data type of the output array. If this is not specified, the data type of the input arrays will be used as the data type of the output array.\n",
    "    - subok: If this is True, then the newly created array will use the sub-class type of the input array. Otherwise, the output array will be forced to be a base-class array (default).\n",
    "    - signature: This is a tuple of the signature of the function that is to be called."
   ]
  },
  {
   "cell_type": "code",
   "execution_count": 122,
   "metadata": {},
   "outputs": [
    {
     "name": "stdout",
     "output_type": "stream",
     "text": [
      "C before: [ True  True  True  True  True  True  True  True  True  True]\n",
      "\n",
      "C after: [ True False False  True  True  True  True  True  True False]\n",
      "\n"
     ]
    }
   ],
   "source": [
    "C = np.empty(10, dtype=bool)\n",
    "\n",
    "print(f'C before: {C}\\n')\n",
    "\n",
    "np.greater(A,B, out=C)\n",
    "\n",
    "print(f'C after: {C}\\n')\n"
   ]
  },
  {
   "cell_type": "code",
   "execution_count": 123,
   "metadata": {},
   "outputs": [],
   "source": [
    "A = np.round(np.random.rand(10),2)\n",
    "R1 = A < 0.5\n",
    "R2 = ~ R1  # Where is false in R1, it is true in R2"
   ]
  },
  {
   "cell_type": "code",
   "execution_count": 124,
   "metadata": {},
   "outputs": [
    {
     "name": "stdout",
     "output_type": "stream",
     "text": [
      "A: [0.79 0.86 0.24 0.98 0.98 0.09 0.53 0.69 0.37 0.31]\n",
      "R1: [False False  True False False  True False False  True  True]\n",
      "R2: [ True  True False  True  True False  True  True False False]\n",
      "\n"
     ]
    }
   ],
   "source": [
    "print(f'A: {A}\\nR1: {R1}\\nR2: {R2}\\n')"
   ]
  },
  {
   "cell_type": "markdown",
   "metadata": {},
   "source": [
    "### np.logical_not()\n",
    "\n",
    "- np.logical_not() is used to compute the truth value of NOT x element-wise. It is the same as the ~ operator but it can be used with the out parameter to store the result in a specific array\n",
    "\n",
    "- The parameters are:\n",
    "\n",
    "    - x: The array to be evaluated\n",
    "    - out: The array in which to store the output\n",
    "    - where: This is a boolean array which is used to decide which elements of the output array will have their values changed. If no where parameter is specified, all the elements will be changed.\n",
    "    - casting: This is used to decide when the data type of the output array will be promoted to a higher type. The possible values are: ‘no’, ‘equiv’, ‘safe’, ‘same_kind’, ‘unsafe’. The default value is ‘same_kind’.\n",
    "    - order: This specifies whether the array is stored in row-major (C-style) or column-major (Fortran-style) order in memory. The possible values are ‘C’ or ‘F’. The default value is ‘K’.\n",
    "    - dtype: This specifies the data type of the output array. If this is not specified, the data type of the input arrays will be used as the data type of the output array.\n",
    "    - subok: If this is True, then the newly created array will use the sub-class type of the input array. Otherwise, the output array will be forced to be a base-class array (default).\n",
    "    - signature: This is a tuple of the signature of the function that is to be called."
   ]
  },
  {
   "cell_type": "code",
   "execution_count": 125,
   "metadata": {},
   "outputs": [],
   "source": [
    "A = np.round(np.random.rand(10),2)\n",
    "R1 = A < 0.5\n",
    "R2 = np.logical_not(R1)  # Where is false in R1, it is true in R2"
   ]
  },
  {
   "cell_type": "code",
   "execution_count": 126,
   "metadata": {},
   "outputs": [
    {
     "name": "stdout",
     "output_type": "stream",
     "text": [
      "A: [0.92 0.9  0.88 0.93 0.66 0.76 0.66 0.12 0.18 0.7 ]\n",
      "R1: [False False False False False False False  True  True False]\n",
      "R2: [ True  True  True  True  True  True  True False False  True]\n",
      "\n"
     ]
    }
   ],
   "source": [
    "print(f'A: {A}\\nR1: {R1}\\nR2: {R2}\\n')"
   ]
  },
  {
   "cell_type": "markdown",
   "metadata": {},
   "source": [
    "### How to use multiple comparison functions\n",
    "\n",
    "We can use multiple comparison functions by using the bitwise operators &, |, ^, and ~. For example, if we want to compare two arrays and return a boolean array with the result of the comparison, we can use the following code:\n",
    "\n",
    "```python\n",
    "\n",
    "np.logical_and(np.greater(x1, x2), np.less(x1, x3))\n",
    "```\n",
    "\n"
   ]
  },
  {
   "cell_type": "code",
   "execution_count": 127,
   "metadata": {},
   "outputs": [
    {
     "name": "stdout",
     "output_type": "stream",
     "text": [
      "A: [0.71 0.96 0.57 0.61 0.6  0.03 0.93 0.71 0.83 0.72]\n",
      "\n",
      "B: [0.97 0.35 0.64 0.16 0.14 0.6  0.72 0.03 0.55 0.31]\n",
      "\n",
      "C: [False  True  True  True  True False  True  True  True  True]\n",
      "\n",
      "D: [ True  True  True  True  True  True  True  True  True  True]\n",
      "\n",
      "E: [False  True  True  True  True False  True  True  True  True]\n",
      "\n",
      "F: [ True  True  True  True  True  True  True  True  True  True]\n",
      "\n"
     ]
    }
   ],
   "source": [
    "A = np.round(np.random.rand(10),2)\n",
    "B = np.round(np.random.rand(10),2)\n",
    "\n",
    "C = np.logical_and(A > 0.2, B < 0.8)\n",
    "D = np.logical_or(A > 0.2, B < 0.8)\n",
    "\n",
    "E = np.logical_and(np.greater(A,0.2), np.less(B,0.8))\n",
    "F = np.logical_or(np.greater(A,0.2), np.less(B,0.8))\n",
    "\n",
    "print(f'A: {A}\\n\\nB: {B}\\n\\nC: {C}\\n\\nD: {D}\\n\\nE: {E}\\n\\nF: {F}\\n')"
   ]
  },
  {
   "cell_type": "markdown",
   "metadata": {},
   "source": [
    "There are others comparison functions like \n",
    "```python\n",
    "\n",
    "np.greater_equal() # get the greater or equal of two arrays is the same as the >= operator\n",
    "\n",
    "np.less() # get the less of two arrays is the same as the < operator\n",
    "\n",
    "np.less_equal() # get the less or equal of two arrays is the same as the <= operator\n",
    "\n",
    "np.equal() # get the equal of two arrays is the same as the == operator\n",
    "\n",
    "np.not_equal() # get the not equal of two arrays is the same as the != operator\n",
    "```\n"
   ]
  },
  {
   "cell_type": "markdown",
   "metadata": {},
   "source": [
    "## Missing values (NaN-safe functions)"
   ]
  },
  {
   "cell_type": "code",
   "execution_count": 128,
   "metadata": {},
   "outputs": [
    {
     "name": "stdout",
     "output_type": "stream",
     "text": [
      "A before: [0.16 0.69 0.22 0.1  0.89 0.68 0.94 0.65 0.03 0.87]\n",
      "\n",
      "A after: [ nan 0.69  nan  nan 0.89 0.68 0.94 0.65  nan 0.87]\n",
      "\n"
     ]
    }
   ],
   "source": [
    "A = np.round(np.random.random(10),2)\n",
    "\n",
    "print(f'A before: {A}\\n')\n",
    "\n",
    "condition = np.logical_or(np.less(A, 0.5), np.equal(A, 0.7))\n",
    "\n",
    "A[8] = 0.7\n",
    "\n",
    "A[condition] = np.nan\n",
    "\n",
    "print(f'A after: {A}\\n')\n"
   ]
  },
  {
   "cell_type": "code",
   "execution_count": 129,
   "metadata": {},
   "outputs": [
    {
     "name": "stdout",
     "output_type": "stream",
     "text": [
      "We can\"t do any operation with nan values example: nan\n"
     ]
    }
   ],
   "source": [
    "print (f'We can\"t do any operation with nan values example: {A.sum()}')"
   ]
  },
  {
   "cell_type": "code",
   "execution_count": 130,
   "metadata": {},
   "outputs": [
    {
     "name": "stdout",
     "output_type": "stream",
     "text": [
      "The sum of A ignoring the nan values is: 4.72\n",
      "\n"
     ]
    }
   ],
   "source": [
    "# We can use some functions to ignore the nan values\n",
    "\n",
    "print(f'The sum of A ignoring the nan values is: {np.nansum(A)}\\n')"
   ]
  },
  {
   "cell_type": "code",
   "execution_count": 131,
   "metadata": {},
   "outputs": [
    {
     "name": "stdout",
     "output_type": "stream",
     "text": [
      "The boolean array that indicates where the nan values are is: [ True False  True  True False False False False  True False]\n",
      "\n"
     ]
    }
   ],
   "source": [
    "# To get a boolean array that indicates where the nan values are, we can use the np.isnan() function\n",
    "\n",
    "print(f'The boolean array that indicates where the nan values are is: {np.isnan(A)}\\n')"
   ]
  },
  {
   "cell_type": "markdown",
   "metadata": {},
   "source": [
    "## Rounding Floating Point Numbers"
   ]
  },
  {
   "cell_type": "markdown",
   "metadata": {},
   "source": [
    "### np.around()\n",
    "\n",
    "- np.around() is used to round the elements of an array to the nearest integer. It is the same as the round() function but it can be used with the out parameter to store the result in a specific array\n",
    "\n",
    "- The parameters are:\n",
    "\n",
    "    - x: The array to be rounded\n",
    "    - decimals: The number of decimals to round to. The default value is 0.\n",
    "    - out: The array in which to store the output\n",
    "    - where: This is a boolean array which is used to decide which elements of the output array will have their values changed. If no where parameter is specified, all the elements will be changed.\n",
    "    - casting: This is used to decide when the data type of the output array will be promoted to a higher type. The possible values are: ‘no’, ‘equiv’, ‘safe’, ‘same_kind’, ‘unsafe’. The default value is ‘same_kind’.\n",
    "    - order: This specifies whether the array is stored in row-major (C-style) or column-major (Fortran-style) order in memory. The possible values are ‘C’ or ‘F’. The default value is ‘K’.\n",
    "    - dtype: This specifies the data type of the output array. If this is not specified, the data type of the input arrays will be used as the data type of the output array.\n",
    "    - subok: If this is True, then the newly created array will use the sub-class type of the input array. Otherwise, the output array will be forced to be a base-class array (default).\n",
    "    - signature: This is a tuple of the signature of the function that is to be called.\n",
    "\n",
    "\n",
    "### np.round()\n",
    "\n",
    "- np.round() is used to round the elements of an array to the nearest integer. It is the same as the round() function but it can be used with the out parameter to store the result in a specific array\n",
    "\n",
    "- It's \n",
    "        "
   ]
  },
  {
   "cell_type": "code",
   "execution_count": 132,
   "metadata": {},
   "outputs": [
    {
     "name": "stdout",
     "output_type": "stream",
     "text": [
      "The array a is: [0.3333 0.56   0.54   0.4    0.5    0.6   ]\n",
      "\n",
      "The array a rounded is: [0. 1. 1. 0. 0. 1.]\n",
      "\n",
      "The around function is: [0. 1. 1. 0. 0. 1.]\n",
      "\n"
     ]
    }
   ],
   "source": [
    "a = np.array([0.3333, 0.56, 0.54, 0.4, 0.5, 0.6])\n",
    "\n",
    "print(f'The array a is: {a}\\n')\n",
    "\n",
    "print(f'The array a rounded is: {np.round(a)}\\n')\n",
    "\n",
    "print(f'The around function is: {np.around(a)}\\n')"
   ]
  },
  {
   "cell_type": "code",
   "execution_count": 133,
   "metadata": {},
   "outputs": [
    {
     "name": "stdout",
     "output_type": "stream",
     "text": [
      "The array a is: [1.25   1.75   2.25   2.75   3.25   5.23   5.1234 4.987 ]\n",
      "Using np.round(a): [1. 2. 2. 3. 3. 5. 5. 5.]\n",
      "Using np.around(a): [1. 2. 2. 3. 3. 5. 5. 5.]\n"
     ]
    }
   ],
   "source": [
    "\n",
    "a = np.array([1.25, 1.75, 2.25, 2.75, 3.25,5.23, 5.1234, 4.987])\n",
    "\n",
    "rounded = np.round(a)\n",
    "rounded2 = np.around(a)\n",
    "\n",
    "print(f'The array a is: {a}')\n",
    "print(f'Using np.round(a): {rounded}')\n",
    "print(f'Using np.around(a): {rounded2}')\n"
   ]
  },
  {
   "cell_type": "markdown",
   "metadata": {},
   "source": [
    "### Others functions\n",
    "\n",
    "There are others functions like \n",
    "```python\n",
    "\n",
    "np.floor() # get the floor of an array - example: np.floor(3.2) = 3\n",
    "\n",
    "np.ceil() # get the ceil of an array - example: np.ceil(3.2) = 4\n",
    "\n",
    "np.trunc() # get the truncated value of an array - example: np.trunc(3.2) = 3\n",
    "```\n",
    "\n"
   ]
  },
  {
   "cell_type": "markdown",
   "metadata": {},
   "source": [
    "## Output arguments"
   ]
  },
  {
   "cell_type": "code",
   "execution_count": 134,
   "metadata": {},
   "outputs": [
    {
     "name": "stdout",
     "output_type": "stream",
     "text": [
      "The array a is: [0 1 2 3 4]\n",
      "The array y is: [10. 11. 12. 13. 14.]\n",
      "\n"
     ]
    }
   ],
   "source": [
    "a = np.arange(5)\n",
    "y = np.zeros(5)\n",
    "np.add(a, 10, out=y)\n",
    "\n",
    "print(f'The array a is: {a}\\nThe array y is: {y}\\n')"
   ]
  },
  {
   "cell_type": "code",
   "execution_count": 140,
   "metadata": {},
   "outputs": [
    {
     "name": "stdout",
     "output_type": "stream",
     "text": [
      "The array a is: [1 2 3 4 5]\n",
      "The array y is: [11.  0. 13.  0. 15.]\n",
      "\n"
     ]
    }
   ],
   "source": [
    "\n",
    "a = np.array([1, 2, 3, 4, 5])\n",
    "y = np.zeros(5)\n",
    "\n",
    "y[::2] = np.add(a[::2], 10)\n",
    "\n",
    "print(f'The array a is: {a}\\nThe array y is: {y}\\n')"
   ]
  }
 ],
 "metadata": {
  "kernelspec": {
   "display_name": "base",
   "language": "python",
   "name": "python3"
  },
  "language_info": {
   "codemirror_mode": {
    "name": "ipython",
    "version": 3
   },
   "file_extension": ".py",
   "mimetype": "text/x-python",
   "name": "python",
   "nbconvert_exporter": "python",
   "pygments_lexer": "ipython3",
   "version": "3.11.5"
  }
 },
 "nbformat": 4,
 "nbformat_minor": 2
}
