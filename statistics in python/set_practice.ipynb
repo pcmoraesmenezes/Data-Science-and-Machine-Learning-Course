{
 "cells": [
  {
   "cell_type": "markdown",
   "metadata": {},
   "source": [
    "# Set Practice "
   ]
  },
  {
   "cell_type": "markdown",
   "metadata": {},
   "source": [
    "## Some operators for sets"
   ]
  },
  {
   "cell_type": "markdown",
   "metadata": {},
   "source": [
    "**in** - checks if an element is in a set\n",
    "\n",
    "```python\n",
    "\n",
    "A = {1, 2, 3, 4, 5}\n",
    "B = {4, 5, 6, 7, 8}\n",
    "\n",
    "print(1 in A) # True\n",
    "print(1 in B) # False\n",
    "```\n",
    "\n",
    "**not in** - checks if an element is not in a set\n",
    "\n",
    "```python\n",
    "\n",
    "A = {1, 2, 3, 4, 5}\n",
    "B = {4, 5, 6, 7, 8}\n",
    "\n",
    "print(1 not in A) # False\n",
    "print(1 not in B) # True\n",
    "```"
   ]
  },
  {
   "cell_type": "code",
   "execution_count": 1,
   "metadata": {},
   "outputs": [
    {
     "name": "stdout",
     "output_type": "stream",
     "text": [
      "1 Is in A? True\n",
      "9 Is not in B? True\n"
     ]
    }
   ],
   "source": [
    "A = {1, 2, 3, 4, 5}\n",
    "B = {4, 5, 6, 7, 8}\n",
    "C = {1, 2, 3, 4, 5, 6, 7, 8, 9, 10}\n",
    "\n",
    "print(f'1 Is in A? {1 in A}\\n9 Is not in B? {9 not in B}')"
   ]
  },
  {
   "cell_type": "markdown",
   "metadata": {},
   "source": [
    "**<=** - checks if all elements of a set are in another set\n",
    "\n",
    "```python\n",
    "\n",
    "A = {1, 2, 3, 4, 5}\n",
    "B = {4, 5, 6, 7, 8}\n",
    "\n",
    "print(A <= B) # False\n",
    "\n",
    "C = {4, 5}\n",
    "print(C <= B) # True\n",
    "```\n",
    "\n",
    "**<** - checks if all elements of a set are in another set and the sets are not equal\n",
    "\n",
    "```python\n",
    "\n",
    "A = {1, 2, 3, 4, 5}\n",
    "\n",
    "print(A < A) # False\n",
    "\n",
    "B = {1, 2, 3, 4, 5, 6}\n",
    "\n",
    "print(A < B) # True\n",
    "```\n",
    "\n",
    "**>=** - checks if all elements of another set are in a set\n",
    "\n",
    "```python\n",
    "\n",
    "A = {1, 2, 3, 4, 5}\n",
    "\n",
    "print(A >= A) # True\n",
    "\n",
    "B = {1, 2, 3, 4}\n",
    "\n",
    "print(A >= B) # True\n",
    "```\n",
    "\n",
    "**>** - checks if all elements of another set are in a set and the sets are not equal\n",
    "\n",
    "```python\n",
    "\n",
    "A = {1, 2, 3, 4, 5}\n",
    "\n",
    "print(A > A) # False\n",
    "\n",
    "B = {1, 2, 3, 4}\n",
    "\n",
    "print(A > B) # True\n",
    "```\n"
   ]
  },
  {
   "cell_type": "code",
   "execution_count": 2,
   "metadata": {},
   "outputs": [
    {
     "name": "stdout",
     "output_type": "stream",
     "text": [
      "All elements of A are in B? False\n",
      "All elements of A are in C? True\n",
      "\n",
      "All elements of A are in B and they are not equal? False\n",
      "All elements of A are in C and they are not equal? True\n",
      "\n",
      "All elements of A are in A? True\n",
      "All elements of A are in B? False\n"
     ]
    }
   ],
   "source": [
    "A = {1, 2, 3, 4, 5}\n",
    "B = {4, 5, 6, 7, 8}\n",
    "C = {1, 2, 3, 4, 5, 6, 7, 8, 9, 10}\n",
    "\n",
    "print(f'All elements of A are in B? {A<=B}\\nAll elements of A are in C? {A<=C}')\n",
    "\n",
    "print(f'\\nAll elements of A are in B and they are not equal? {A<B}\\nAll elements of A are in C and they are not equal? {A<C}')\n",
    "\n",
    "print(f'\\nAll elements of A are in A? {A>=A}\\nAll elements of A are in B? {A>=B}')\n"
   ]
  },
  {
   "cell_type": "markdown",
   "metadata": {},
   "source": [
    "**==** - checks if two sets are equal\n",
    "\n",
    "```python\n",
    "\n",
    "A = {1, 2, 3, 4, 5}\n",
    "B = {1, 2, 3, 4, 5}\n",
    "\n",
    "print(A == B) # True\n",
    "```\n",
    "\n",
    "**!=** - checks if two sets are not equal\n",
    "\n",
    "```python\n",
    "\n",
    "A = {1, 2, 3, 4, 5}\n",
    "B = {1, 2, 3, 4, 5}\n",
    "\n",
    "print(A != B) # False\n",
    "\n",
    "C = {1, 2, 3, 4, 5, 6}\n",
    "\n",
    "print(A != C) # True\n",
    "```"
   ]
  },
  {
   "cell_type": "code",
   "execution_count": 3,
   "metadata": {},
   "outputs": [
    {
     "name": "stdout",
     "output_type": "stream",
     "text": [
      "Are A equal to B? False\n",
      "Are A equal to C? False\n",
      "\n",
      "Are A not equal to B? True\n",
      "Are A not equal to C? True\n"
     ]
    }
   ],
   "source": [
    "A = {1, 2, 3, 4, 5}\n",
    "B = {4, 5, 6, 7, 8}\n",
    "C = {1, 2, 3, 4, 5, 6, 7, 8, 9, 10}\n",
    "\n",
    "print(f'Are A equal to B? {A==B}\\nAre A equal to C? {A==C}')\n",
    "\n",
    "print(f'\\nAre A not equal to B? {A!=B}\\nAre A not equal to C? {A!=C}')"
   ]
  },
  {
   "cell_type": "markdown",
   "metadata": {},
   "source": [
    "## Operations on Sets\n",
    "\n",
    "There are a several operations that can be performed on sets.  The most common are:\n",
    "\n",
    "* Union\n",
    "* Intersection\n",
    "* Difference\n",
    "* Symmetric Difference\n",
    "\n",
    "We are going to look at each of these in python."
   ]
  },
  {
   "cell_type": "markdown",
   "metadata": {},
   "source": [
    "### Union\n",
    "\n",
    "The union of two sets is what have in both sets combined. In python we can use the union method or the pipe (|) operator to find the union of two sets.\n",
    "    \n",
    "```python\n",
    "\n",
    "    set1 = {1,2,3,4,5}\n",
    "    set2 = {4,5,6,7,8}\n",
    "    \n",
    "    set1.union(set2)\n",
    "    set1 | set2\n",
    "    \n",
    "```\n"
   ]
  },
  {
   "cell_type": "code",
   "execution_count": 4,
   "metadata": {},
   "outputs": [
    {
     "name": "stdout",
     "output_type": "stream",
     "text": [
      "The union of set1 and set2 using union() method is {1, 2, 3, 4, 5, 6, 7}\n",
      "The union of set1 and set2 using | operator is {1, 2, 3, 4, 5, 6, 7}\n",
      "They are equal? True\n"
     ]
    }
   ],
   "source": [
    "set1 = {1, 2, 3, 4, 5}\n",
    "set2 = {3, 4, 5, 6, 7}\n",
    "set3 = set1.union(set2)\n",
    "set4 = set1 | set2\n",
    "\n",
    "print(f'The union of set1 and set2 using union() method is {set3}\\nThe union of set1 and set2 using | operator is {set4}')\n",
    "print(f'They are equal? {set3 == set4}')"
   ]
  },
  {
   "cell_type": "markdown",
   "metadata": {},
   "source": [
    "### Intersection\n",
    "\n",
    "The intersection of two sets is what they have in common. In python we can use the intersection method or the ampersand (&) operator to find the intersection of two sets.\n",
    "    \n",
    "```python\n",
    "\n",
    "    set1 = {1,2,3,4,5}\n",
    "    set2 = {4,5,6,7,8}\n",
    "    \n",
    "    set1.intersection(set2)\n",
    "    set1 & set2 \n",
    "```"
   ]
  },
  {
   "cell_type": "code",
   "execution_count": 5,
   "metadata": {},
   "outputs": [
    {
     "name": "stdout",
     "output_type": "stream",
     "text": [
      "The intersection of set1 and set2 using intersection() method is {3, 4, 5}\n",
      "The intersection of set1 and set2 using & operator is {3, 4, 5}\n"
     ]
    }
   ],
   "source": [
    "set1 = {1, 2, 3, 4, 5}\n",
    "set2 = {3, 4, 5, 6, 7}\n",
    "set3 = set1.intersection(set2)\n",
    "set4 = set1 & set2\n",
    "\n",
    "print(f'The intersection of set1 and set2 using intersection() method is {set3}\\nThe intersection of set1 and set2 using & operator is {set4}')"
   ]
  },
  {
   "cell_type": "markdown",
   "metadata": {},
   "source": [
    "### Subsets\n",
    "\n",
    "A subset is a set that is contained in another set.  In python we can use the issubset method or the less than or equal to (<=) operator to check if a set is a subset of another set.\n",
    "\n",
    "```python\n",
    "\n",
    "    set1 = {1,2,3,4,5}\n",
    "    set2 = {4,5,6,7,8}\n",
    "    \n",
    "    set1.issubset(set2)\n",
    "    set1 <= set2 \n",
    "```"
   ]
  },
  {
   "cell_type": "code",
   "execution_count": 6,
   "metadata": {},
   "outputs": [
    {
     "name": "stdout",
     "output_type": "stream",
     "text": [
      "Is set1 a subset of set2 using issubset() method? False\n",
      "Is set1 a subset of set2 using <= operator? False\n"
     ]
    }
   ],
   "source": [
    "set1 = {1, 2, 3, 4, 5}\n",
    "set2 = {3, 4, 5, 6, 7}\n",
    "set3 = set1.issubset(set2)\n",
    "set4 = set1 <= set2\n",
    "\n",
    "print(f'Is set1 a subset of set2 using issubset() method? {set3}\\nIs set1 a subset of set2 using <= operator? {set4}')\n",
    "\n"
   ]
  },
  {
   "cell_type": "markdown",
   "metadata": {},
   "source": [
    "### Difference\n",
    "\n",
    "The difference of two sets is what is in one set but not the other. In python we can use the difference method or the minus (-) operator to find the difference of two sets.\n",
    "    \n",
    "```python\n",
    "\n",
    "    set1 = {1,2,3,4,5}\n",
    "    set2 = {4,5,6,7,8}\n",
    "    \n",
    "    set1.difference(set2)\n",
    "    set1 - set2 \n",
    "```"
   ]
  },
  {
   "cell_type": "code",
   "execution_count": 7,
   "metadata": {},
   "outputs": [
    {
     "name": "stdout",
     "output_type": "stream",
     "text": [
      "The difference between set1 and set2 using difference() method is {1, 2}\n",
      "The difference between set1 and set2 using - operator is {1, 2}\n"
     ]
    }
   ],
   "source": [
    "set1 = {1, 2, 3, 4, 5}\n",
    "set2 = {3, 4, 5, 6, 7}\n",
    "\n",
    "set3 = set1.difference(set2)\n",
    "set4 = set1 - set2\n",
    "\n",
    "print(f'The difference between set1 and set2 using difference() method is {set3}\\nThe difference between set1 and set2 using - operator is {set4}')"
   ]
  },
  {
   "cell_type": "markdown",
   "metadata": {},
   "source": [
    "### Symmetric Difference\n",
    "\n",
    "The symmetric difference of two sets is what is in one set or the other but not both. In python we can use the symmetric_difference method or the caret (^) operator to find the symmetric difference of two sets.\n",
    "    \n",
    "```python\n",
    "\n",
    "    set1 = {1,2,3,4,5}\n",
    "    set2 = {4,5,6,7,8}\n",
    "    \n",
    "    set1.symmetric_difference(set2)\n",
    "    set1 ^ set2 \n",
    "```"
   ]
  },
  {
   "cell_type": "code",
   "execution_count": 8,
   "metadata": {},
   "outputs": [
    {
     "name": "stdout",
     "output_type": "stream",
     "text": [
      "The symmetric difference between set1 and set2 using symmetric_difference() method is {1, 2, 6, 7}\n",
      "The symmetric difference between set1 and set2 using ^ operator is {1, 2, 6, 7}\n"
     ]
    }
   ],
   "source": [
    "set1 = {1, 2, 3, 4, 5}\n",
    "set2 = {3, 4, 5, 6, 7}\n",
    "\n",
    "set3 = set1.symmetric_difference(set2)\n",
    "set4 = set1 ^ set2\n",
    "\n",
    "print(f'The symmetric difference between set1 and set2 using symmetric_difference() method is {set3}\\nThe symmetric difference between set1 and set2 using ^ operator is {set4}')"
   ]
  },
  {
   "cell_type": "markdown",
   "metadata": {},
   "source": [
    "Write a function in python which will return a Power Set of any given set.  The Power Set is the set of all subsets of a set.  For example, the Power Set of {1,2,3} is {{}, {1}, {2}, {3}, {1,2}, {1,3}, {2,3}, {1,2,3}}.  The Power Set of the empty set is {{}}.\n",
    "\n",
    "```python\n",
    "\n",
    "    def power_set(s):\n",
    "        # Your code here\n",
    "        pass\n",
    "```"
   ]
  },
  {
   "cell_type": "code",
   "execution_count": 9,
   "metadata": {},
   "outputs": [
    {
     "name": "stdout",
     "output_type": "stream",
     "text": [
      "[]\n",
      "[1]\n",
      "[2]\n",
      "[1, 2]\n",
      "[3]\n",
      "[1, 3]\n",
      "[2, 3]\n",
      "[1, 2, 3]\n"
     ]
    }
   ],
   "source": [
    "def power_set(s):\n",
    "    for i in range(1 << len(s)): # << is the left shift operator (1 << 3) = 8\n",
    "# the left shift operator is equivalent to 2**len(s).\n",
    "# # 1 in binary is 1, when we shift it to the left by 3, we get 1000, which\n",
    "# is 8 in decimal.\n",
    "\n",
    "        print([s[j] for j in range(len(s)) if (i & (1 << j))])\n",
    "        # i & (1 << j) is the bitwise AND operator. It returns 1 only if both\n",
    "        # bits are 1. For example, 5 in binary is 101, and 3 in binary is 011.\n",
    "        # 5 & 3 = 001, which is 1 in decimal.\n",
    "        # 1 << j is the left shift operator. It shifts the bit 1 to the left by j\n",
    "        # times. For example, 1 << 3 = 1000, which is 8 in decimal.\n",
    "        # So, i & (1 << j) returns 1 only if the jth bit of i is 1.\n",
    "        # The list comprehension [s[j] for j in range(len(s)) if (i & (1 << j))]\n",
    "        # returns the list of elements of s whose indices are the positions of\n",
    "        # the 1 bits in the binary representation of i.\n",
    "        # For example, if i = 5, then i & (1 << j) = 1 only if j = 0 or j = 2.\n",
    "        # So, the list comprehension returns the list of elements of s whose\n",
    "        # indices are 0 and 2, which are 1 and 3, respectively.\n",
    "        # So, the list comprehension returns [s[0], s[2]], which is [1, 3].\n",
    "        # If i = 3, then i & (1 << j) = 1 only if j = 0 or j = 1.\n",
    "\n",
    "\n",
    "power_set([1, 2, 3])"
   ]
  },
  {
   "cell_type": "code",
   "execution_count": 10,
   "metadata": {},
   "outputs": [
    {
     "data": {
      "text/plain": [
       "{0, 1, 2, 3, 4, 5, 6, 7, 8, 9}"
      ]
     },
     "execution_count": 10,
     "metadata": {},
     "output_type": "execute_result"
    }
   ],
   "source": [
    "import numpy as np\n",
    "\n",
    "universal_set = set(np.arange(10))\n",
    "universal_set"
   ]
  },
  {
   "cell_type": "code",
   "execution_count": 11,
   "metadata": {},
   "outputs": [
    {
     "data": {
      "text/plain": [
       "{0, 2, 4, 6, 8}"
      ]
     },
     "execution_count": 11,
     "metadata": {},
     "output_type": "execute_result"
    }
   ],
   "source": [
    "A = set(np.arange(0,9,2))\n",
    "A"
   ]
  },
  {
   "cell_type": "code",
   "execution_count": 12,
   "metadata": {},
   "outputs": [
    {
     "data": {
      "text/plain": [
       "{1, 4, 7}"
      ]
     },
     "execution_count": 12,
     "metadata": {},
     "output_type": "execute_result"
    }
   ],
   "source": [
    "B = set(np.arange(1,9,3))\n",
    "B"
   ]
  },
  {
   "cell_type": "code",
   "execution_count": 13,
   "metadata": {},
   "outputs": [
    {
     "name": "stdout",
     "output_type": "stream",
     "text": [
      "Union of A and B is {0, 1, 2, 4, 6, 7, 8}\n",
      "Intersection of A and B is {4}\n",
      "Difference of A and B is {0, 8, 2, 6}\n",
      "Difference of B and A is {1, 7}\n",
      "Symmetric difference of A and B is {0, 1, 2, 6, 7, 8}\n"
     ]
    }
   ],
   "source": [
    "union_A_B = A.union(B)\n",
    "intersection_A_B = A.intersection(B)\n",
    "difference_A_B = A.difference(B)\n",
    "difference_B_A = B.difference(A)\n",
    "symmetric_difference_A_B = A.symmetric_difference(B)\n",
    "\n",
    "print(f'Union of A and B is {union_A_B}')\n",
    "print(f'Intersection of A and B is {intersection_A_B}')\n",
    "print(f'Difference of A and B is {difference_A_B}')\n",
    "print(f'Difference of B and A is {difference_B_A}')\n",
    "print(f'Symmetric difference of A and B is {symmetric_difference_A_B}')\n"
   ]
  },
  {
   "cell_type": "code",
   "execution_count": 14,
   "metadata": {},
   "outputs": [
    {
     "name": "stdout",
     "output_type": "stream",
     "text": [
      "New B is {1, 4, 9, 7}\n"
     ]
    }
   ],
   "source": [
    "B.add(9)\n",
    "print(f'New B is {B}')"
   ]
  },
  {
   "cell_type": "code",
   "execution_count": 15,
   "metadata": {},
   "outputs": [
    {
     "data": {
      "text/plain": [
       "{3, 5}"
      ]
     },
     "execution_count": 15,
     "metadata": {},
     "output_type": "execute_result"
    }
   ],
   "source": [
    "universal_set.difference(A.union(B))"
   ]
  }
 ],
 "metadata": {
  "kernelspec": {
   "display_name": "base",
   "language": "python",
   "name": "python3"
  },
  "language_info": {
   "codemirror_mode": {
    "name": "ipython",
    "version": 3
   },
   "file_extension": ".py",
   "mimetype": "text/x-python",
   "name": "python",
   "nbconvert_exporter": "python",
   "pygments_lexer": "ipython3",
   "version": "3.11.5"
  }
 },
 "nbformat": 4,
 "nbformat_minor": 2
}
