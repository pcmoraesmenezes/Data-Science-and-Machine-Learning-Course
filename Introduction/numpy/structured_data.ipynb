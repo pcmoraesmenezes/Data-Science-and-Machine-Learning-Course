{
 "cells": [
  {
   "cell_type": "markdown",
   "metadata": {},
   "source": [
    "# Numpy for heterogene data structures"
   ]
  },
  {
   "cell_type": "code",
   "execution_count": 2,
   "metadata": {},
   "outputs": [],
   "source": [
    "import numpy as np"
   ]
  },
  {
   "cell_type": "code",
   "execution_count": 7,
   "metadata": {},
   "outputs": [],
   "source": [
    "students = np.array(\n",
    "    [('Paulo', '000AX2', 100, 9.8),\n",
    "    ('Maria', '000AX3', 76, 6.3)],\n",
    "    dtype=[('Name', 'U20'), ('Id', 'U10'),\n",
    "    ('Marks', 'i8'), ('GPA', 'f8')])\n",
    "\n"
   ]
  },
  {
   "cell_type": "code",
   "execution_count": 20,
   "metadata": {},
   "outputs": [
    {
     "name": "stdout",
     "output_type": "stream",
     "text": [
      "The name of students:  ['Paulo' 'Maria']\n",
      "The Marks of studens:  [100  76]\n"
     ]
    }
   ],
   "source": [
    "# To access the data, we can use the field names as attributes\n",
    "print('The name of students: ', students['Name'])\n",
    "print('The Marks of studens: ', students['Marks'])"
   ]
  },
  {
   "cell_type": "code",
   "execution_count": 21,
   "metadata": {},
   "outputs": [
    {
     "name": "stdout",
     "output_type": "stream",
     "text": [
      "The name of the first student:  Paulo\n",
      "The Marks of the first student:  100\n"
     ]
    }
   ],
   "source": [
    "print('The name of the first student: ', students[0]['Name'])\n",
    "print('The Marks of the first student: ', students[0]['Marks'])"
   ]
  },
  {
   "cell_type": "code",
   "execution_count": 22,
   "metadata": {},
   "outputs": [
    {
     "name": "stdout",
     "output_type": "stream",
     "text": [
      "Acessing the first student:  ('Paulo', '000AX2', 100, 9.8)\n"
     ]
    }
   ],
   "source": [
    "print('Acessing the first student: ', students[0])"
   ]
  },
  {
   "cell_type": "code",
   "execution_count": 23,
   "metadata": {},
   "outputs": [
    {
     "name": "stdout",
     "output_type": "stream",
     "text": [
      "Acessing the name and marks of the first student:  ('Paulo', 100)\n"
     ]
    }
   ],
   "source": [
    "print('Acessing the name and marks of the first student: ', students[0][['Name', 'Marks']])"
   ]
  },
  {
   "cell_type": "code",
   "execution_count": 24,
   "metadata": {},
   "outputs": [
    {
     "name": "stdout",
     "output_type": "stream",
     "text": [
      "Acessing the name and marks of students:  [('Paulo', 100) ('Maria',  76)]\n"
     ]
    }
   ],
   "source": [
    "print('Acessing the name and marks of students: ', students[['Name', 'Marks']])"
   ]
  },
  {
   "cell_type": "code",
   "execution_count": null,
   "metadata": {},
   "outputs": [],
   "source": []
  }
 ],
 "metadata": {
  "kernelspec": {
   "display_name": "base",
   "language": "python",
   "name": "python3"
  },
  "language_info": {
   "codemirror_mode": {
    "name": "ipython",
    "version": 3
   },
   "file_extension": ".py",
   "mimetype": "text/x-python",
   "name": "python",
   "nbconvert_exporter": "python",
   "pygments_lexer": "ipython3",
   "version": "3.11.5"
  }
 },
 "nbformat": 4,
 "nbformat_minor": 2
}
