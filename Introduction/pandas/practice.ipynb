{
 "cells": [
  {
   "cell_type": "markdown",
   "metadata": {},
   "source": [
    "# Practice with Pandas"
   ]
  },
  {
   "cell_type": "code",
   "execution_count": 1,
   "metadata": {},
   "outputs": [],
   "source": [
    "import pandas as pd"
   ]
  },
  {
   "cell_type": "code",
   "execution_count": 9,
   "metadata": {},
   "outputs": [
    {
     "name": "stdout",
     "output_type": "stream",
     "text": [
      "       Name  Vaccined\n",
      "0     Paulo      True\n",
      "1   Roberta     False\n",
      "2      João      True\n",
      "3     James     False\n",
      "4  Mohammed      True\n",
      "\n",
      "Another way to create a dataframe:\n",
      "\n",
      "       Name  Vaccined\n",
      "0     Paulo      True\n",
      "1   Roberta     False\n",
      "2      João      True\n",
      "3     James     False\n",
      "4  Mohammed      True\n"
     ]
    }
   ],
   "source": [
    "# Make a data frame D with two columns \"name\" (String) and \"Vaccined\" (boolean) each with 5 entries\n",
    "\n",
    "D = pd.DataFrame({'Name': ['Paulo', 'Roberta', 'João', 'James', 'Mohammed'], 'Vaccined': [True, False, True, False, True]})\n",
    "\n",
    "print(D)\n",
    "\n",
    "# OR\n",
    "\n",
    "names = {\n",
    "    '0': 'Paulo',\n",
    "    '1': 'Roberta',\n",
    "    '2': 'João',\n",
    "    '3': 'James',\n",
    "    '4': 'Mohammed'\n",
    "}\n",
    "\n",
    "vaccined = {\n",
    "    '0': True,\n",
    "    '1': False,\n",
    "    '2': True,\n",
    "    '3': False,\n",
    "    '4': True\n",
    "}\n",
    "\n",
    "D = pd.DataFrame({'Name': names, 'Vaccined': vaccined})\n",
    "\n",
    "print(f'\\nAnother way to create a dataframe:\\n\\n{D}')\n"
   ]
  },
  {
   "cell_type": "code",
   "execution_count": 6,
   "metadata": {},
   "outputs": [
    {
     "name": "stdout",
     "output_type": "stream",
     "text": [
      "       Name  Vaccined\n",
      "0     Paulo      True\n",
      "2      João      True\n",
      "4  Mohammed      True\n"
     ]
    }
   ],
   "source": [
    "# Store the names with true vaccined records in another dataframe M\n",
    "\n",
    "M = D[D['Vaccined'] == True]\n",
    "\n",
    "print(M)"
   ]
  }
 ],
 "metadata": {
  "kernelspec": {
   "display_name": "base",
   "language": "python",
   "name": "python3"
  },
  "language_info": {
   "codemirror_mode": {
    "name": "ipython",
    "version": 3
   },
   "file_extension": ".py",
   "mimetype": "text/x-python",
   "name": "python",
   "nbconvert_exporter": "python",
   "pygments_lexer": "ipython3",
   "version": "3.11.5"
  }
 },
 "nbformat": 4,
 "nbformat_minor": 2
}
