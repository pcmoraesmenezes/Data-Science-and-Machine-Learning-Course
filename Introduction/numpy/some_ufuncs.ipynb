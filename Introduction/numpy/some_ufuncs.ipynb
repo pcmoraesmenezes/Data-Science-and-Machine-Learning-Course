{
 "cells": [
  {
   "cell_type": "markdown",
   "metadata": {},
   "source": [
    "# Some ufuncs in numpy"
   ]
  },
  {
   "cell_type": "code",
   "execution_count": 37,
   "metadata": {},
   "outputs": [],
   "source": [
    "import numpy as np"
   ]
  },
  {
   "cell_type": "markdown",
   "metadata": {},
   "source": [
    "## Ahritmetic functions"
   ]
  },
  {
   "cell_type": "code",
   "execution_count": 38,
   "metadata": {},
   "outputs": [
    {
     "name": "stdout",
     "output_type": "stream",
     "text": [
      "The first array is: \n",
      "[0 1 2 3 4 5 6 7 8 9]\n",
      "The second array is: \n",
      "[[2 4 9 8 5 4 0 9 4 8]]\n"
     ]
    }
   ],
   "source": [
    "A = np.arange(10)\n",
    "B = np.random.randint(0, 10, (1,10)) # randint is used to generate random integers in a given range, the parameters are (low value , high value, size) where size is the shape of the array\n",
    "# The  tuple (1,10) is the shape of the array, so it is a 1D array of 10 elements\n",
    "print(f'The first array is: \\n{A}\\nThe second array is: \\n{B}')"
   ]
  },
  {
   "cell_type": "code",
   "execution_count": 39,
   "metadata": {},
   "outputs": [
    {
     "name": "stdout",
     "output_type": "stream",
     "text": [
      "The shape of the array is: (10, 1)\n",
      " The shape of D is (1, 10)\n",
      "C: \n",
      "[[0]\n",
      " [1]\n",
      " [2]\n",
      " [3]\n",
      " [4]\n",
      " [5]\n",
      " [6]\n",
      " [7]\n",
      " [8]\n",
      " [9]]\n",
      "D: \n",
      "[[0 1 2 3 4 5 6 7 8 9]]\n"
     ]
    }
   ],
   "source": [
    "C = A[:, np.newaxis] # This is used to add a new axis to the array, so it is now a 2D array\n",
    "D = A[np.newaxis, :] # This is used to add a new axis to the array, so it is now a 2D array\n",
    "print(f'The shape of the array is: {C.shape}\\n The shape of D is {D.shape}')\n",
    "print(f'C: \\n{C}\\nD: \\n{D}')"
   ]
  },
  {
   "cell_type": "code",
   "execution_count": 40,
   "metadata": {},
   "outputs": [
    {
     "name": "stdout",
     "output_type": "stream",
     "text": [
      "5\n",
      "5\n"
     ]
    }
   ],
   "source": [
    "print(f'{C[5][0]}')\n",
    "print(f'{D[0][5]}')"
   ]
  },
  {
   "cell_type": "code",
   "execution_count": 41,
   "metadata": {},
   "outputs": [
    {
     "name": "stdout",
     "output_type": "stream",
     "text": [
      "A: \n",
      "[0 1 2 3 4 5 6 7 8 9]\n",
      "B: \n",
      "[[2 4 9 8 5 4 0 9 4 8]]\n",
      "C: \n",
      "[[0]\n",
      " [1]\n",
      " [2]\n",
      " [3]\n",
      " [4]\n",
      " [5]\n",
      " [6]\n",
      " [7]\n",
      " [8]\n",
      " [9]]\n",
      "D: \n",
      "[[0 1 2 3 4 5 6 7 8 9]]\n"
     ]
    }
   ],
   "source": [
    "# Print all arrays now to we can use Ahritmetic operations on them\n",
    "\n",
    "print(f'A: \\n{A}\\nB: \\n{B}\\nC: \\n{C}\\nD: \\n{D}')"
   ]
  },
  {
   "cell_type": "code",
   "execution_count": 42,
   "metadata": {},
   "outputs": [
    {
     "name": "stdout",
     "output_type": "stream",
     "text": [
      "The sum of B and C is: \n",
      "\n",
      "[[ 2  4  9  8  5  4  0  9  4  8]\n",
      " [ 3  5 10  9  6  5  1 10  5  9]\n",
      " [ 4  6 11 10  7  6  2 11  6 10]\n",
      " [ 5  7 12 11  8  7  3 12  7 11]\n",
      " [ 6  8 13 12  9  8  4 13  8 12]\n",
      " [ 7  9 14 13 10  9  5 14  9 13]\n",
      " [ 8 10 15 14 11 10  6 15 10 14]\n",
      " [ 9 11 16 15 12 11  7 16 11 15]\n",
      " [10 12 17 16 13 12  8 17 12 16]\n",
      " [11 13 18 17 14 13  9 18 13 17]]\n",
      "\n",
      "The sum of B and D is: \n",
      "[[ 2  5 11 11  9  9  6 16 12 17]]\n",
      "\n",
      "The sum of B and A is: \n",
      "[[ 2  5 11 11  9  9  6 16 12 17]]\n"
     ]
    }
   ],
   "source": [
    "sum_B_and_C = B + C\n",
    "sum_B_and_D = B + D\n",
    "sum_B_and_A = B + A\n",
    "print(f'The sum of B and C is: \\n\\n{sum_B_and_C}\\n\\nThe sum of B and D is: \\n{sum_B_and_D}\\n\\nThe sum of B and A is: \\n{sum_B_and_A}')"
   ]
  },
  {
   "cell_type": "markdown",
   "metadata": {},
   "source": [
    "Look, A is an 1d array of 10 elements, and B is a 2d array, when we add them, numpy will broadcast A to 2d array, and then add them together."
   ]
  },
  {
   "cell_type": "code",
   "execution_count": 43,
   "metadata": {},
   "outputs": [
    {
     "name": "stdout",
     "output_type": "stream",
     "text": [
      "The ndim of A: 1\n",
      "The ndim of B: 2\n",
      "The ndim of C: 2\n",
      "The ndim of D: 2\n",
      "\n",
      "D is a new axis of A, so they are equal? [[ True  True  True  True  True  True  True  True  True  True]]\n",
      "\n",
      "The sum of A and B is equal to the sum of D and B? [[ True  True  True  True  True  True  True  True  True  True]]\n",
      "\n"
     ]
    }
   ],
   "source": [
    "print(f'The ndim of A: {A.ndim}\\nThe ndim of B: {B.ndim}\\nThe ndim of C: {C.ndim}\\nThe ndim of D: {D.ndim}\\n')\n",
    "print(f'D is a new axis of A, so they are equal? {A == D}\\n')\n",
    "print(f'The sum of A and B is equal to the sum of D and B? {sum_B_and_A == sum_B_and_D}\\n')"
   ]
  },
  {
   "cell_type": "markdown",
   "metadata": {},
   "source": [
    "Look, A is an 1d array, and D is a new axis array based on A, when we compare them, numpy will broadcast A to 2d array, and then compare them together. The return will be a 2d array."
   ]
  },
  {
   "cell_type": "markdown",
   "metadata": {},
   "source": [
    "To remove the extra axis in D, we can use squeeze() function."
   ]
  },
  {
   "cell_type": "code",
   "execution_count": 44,
   "metadata": {},
   "outputs": [
    {
     "name": "stdout",
     "output_type": "stream",
     "text": [
      "The shape before removing the extra dimension of D is: (1, 10)\n",
      "\n",
      "The shape after removing the extra dimension of D is: (10,)\n",
      "\n"
     ]
    }
   ],
   "source": [
    "# removing the extra dimension of D\n",
    "\n",
    "print(f'The shape before removing the extra dimension of D is: {D.shape}\\n')\n",
    "\n",
    "D = D.squeeze()\n",
    "\n",
    "print(f'The shape after removing the extra dimension of D is: {D.shape}\\n')"
   ]
  },
  {
   "cell_type": "markdown",
   "metadata": {},
   "source": [
    "### np.sum()"
   ]
  },
  {
   "cell_type": "code",
   "execution_count": 51,
   "metadata": {},
   "outputs": [
    {
     "name": "stdout",
     "output_type": "stream",
     "text": [
      "The sum of all elements of A is: 45\n",
      "\n",
      "The sum of all elements of B is: 53\n",
      "\n",
      "The sum of B passing the axis parameter is: [53]\n",
      "\n"
     ]
    }
   ],
   "source": [
    "# The np.sum() function is used to sum all the elements of an array, it can also be used to sum the elements of a specific axis. The return value is a scalar\n",
    "# The parameter is the axis to sum, if it is not specified, all the elements are summed\n",
    "\n",
    "print(f'The sum of all elements of A is: {np.sum(A)}\\n') # 0+1+2+3+4+5+6+7+8+9 = 45\n",
    "print(f'The sum of all elements of B is: {np.sum(B)}\\n')\n",
    "\n",
    "print(f'The sum of B passing the axis parameter is: {np.sum(B, axis=1)}\\n') # The axis parameter is used to sum the elements of a specific axis, in this case, the axis is 1, so the sum is done on the rows"
   ]
  },
  {
   "cell_type": "code",
   "execution_count": 60,
   "metadata": {},
   "outputs": [
    {
     "name": "stdout",
     "output_type": "stream",
     "text": [
      "The ndim of A is: 4\n",
      "The shape of A is: (2, 2, 5, 4)\n",
      "\n",
      "\n",
      "[[[[ 0  1  2  3]\n",
      "   [ 4  5  6  7]\n",
      "   [ 8  9 10 11]\n",
      "   [12 13 14 15]\n",
      "   [16 17 18 19]]\n",
      "\n",
      "  [[20 21 22 23]\n",
      "   [24 25 26 27]\n",
      "   [28 29 30 31]\n",
      "   [32 33 34 35]\n",
      "   [36 37 38 39]]]\n",
      "\n",
      "\n",
      " [[[40 41 42 43]\n",
      "   [44 45 46 47]\n",
      "   [48 49 50 51]\n",
      "   [52 53 54 55]\n",
      "   [56 57 58 59]]\n",
      "\n",
      "  [[60 61 62 63]\n",
      "   [64 65 66 67]\n",
      "   [68 69 70 71]\n",
      "   [72 73 74 75]\n",
      "   [76 77 78 79]]]]\n",
      "\n",
      "4\n"
     ]
    }
   ],
   "source": [
    "A = np.arange(80).reshape(2,2,5,4)\n",
    "print(f'The ndim of A is: {A.ndim}\\nThe shape of A is: {A.shape}\\n')\n",
    "print(f'\\n{A}\\n')\n",
    "print(A[0][0][1][0])"
   ]
  },
  {
   "cell_type": "code",
   "execution_count": 67,
   "metadata": {},
   "outputs": [
    {
     "name": "stdout",
     "output_type": "stream",
     "text": [
      "The sum of A is: 3160\n",
      "\n",
      "The sum of A passing the axis parameter is: [[[  6  22  38  54  70]\n",
      "  [ 86 102 118 134 150]]\n",
      "\n",
      " [[166 182 198 214 230]\n",
      "  [246 262 278 294 310]]]\n",
      "\n"
     ]
    }
   ],
   "source": [
    "print(f'The sum of A is: {np.sum(A)}\\n')\n",
    "print(f'The sum of A passing the axis parameter is: {np.sum(A, axis=3)}\\n') # The axis parameter is used to sum the elements of a specific axis, in this case, the axis is 0, so the sum is done on the first dimension\n",
    "# Axis = 3 means that the sum is done at the fourth dimension, in this case the sum will be representaded by 0+1+2+3 = 6 and 4+5+6+7 = 22 and so on."
   ]
  },
  {
   "cell_type": "markdown",
   "metadata": {},
   "source": [
    "### np.add()\n",
    "\n",
    "- np.add() is used to add two arrays, it is the same as the + operator but it can be used with the out parameter to store the result in a specific array\n",
    "\n",
    "- The parameters are:\n",
    "\n",
    "    - x1: The first array to be added\n",
    "    - x2: The second array to be added\n",
    "    - out: The array in which to store the output\n",
    "    - where: This is a boolean array which is used to decide which elements of the output array will have their values changed. If no where parameter is specified, all the elements will be changed.\n",
    "    - casting: This is used to decide when the data type of the output array will be promoted to a higher type. The possible values are: ‘no’, ‘equiv’, ‘safe’, ‘same_kind’, ‘unsafe’. The default value is ‘same_kind’.\n",
    "    - order: This specifies whether the array is stored in row-major (C-style) or column-major (Fortran-style) order in memory. The possible values are ‘C’ or ‘F’. The default value is ‘K’.\n",
    "    - dtype: This specifies the data type of the output array. If this is not specified, the data type of the input arrays will be used as the data type of the output array.\n",
    "    - subok: If this is True, then the newly created array will use the sub-class type of the input array. Otherwise, the output array will be forced to be a base-class array (default).\n",
    "    - signature: This is a tuple of the signature of the function that is to be called."
   ]
  },
  {
   "cell_type": "code",
   "execution_count": 72,
   "metadata": {},
   "outputs": [
    {
     "name": "stdout",
     "output_type": "stream",
     "text": [
      "Array A: [0 1 2 3 4 5 6 7 8 9]\n",
      "Array B: [9 1 2 2 9 5 6 8 7 7]\n",
      "The array add_A_and_B is: [0. 0. 0. 0. 0. 0. 0. 0. 0. 0.]\n",
      "\n",
      "The array add_A_and_B is: [ 9.  2.  4.  5. 13. 10. 12. 15. 15. 16.]\n",
      "\n"
     ]
    }
   ],
   "source": [
    "A = np.arange(10)\n",
    "B = np.random.randint(0,10, (10))\n",
    "add_A_and_B = np.zeros(10)\n",
    "print(f'Array A: {A}\\nArray B: {B}\\nThe array add_A_and_B is: {add_A_and_B}\\n')\n",
    "\n",
    "\n",
    "\n",
    "np.add(A,B, out=add_A_and_B) # The out parameter is used to store the result of the operation in a new \n",
    "print(f'The array add_A_and_B is: {add_A_and_B}\\n')"
   ]
  },
  {
   "cell_type": "code",
   "execution_count": 74,
   "metadata": {},
   "outputs": [
    {
     "name": "stdout",
     "output_type": "stream",
     "text": [
      "46.8 ms ± 553 µs per loop (mean ± std. dev. of 7 runs, 10 loops each)\n",
      "46.8 ms ± 326 µs per loop (mean ± std. dev. of 7 runs, 10 loops each)\n"
     ]
    }
   ],
   "source": [
    "# If the np.add() is the same as the + operator, why use it? Because it is faster than the + operator\n",
    "\n",
    "n = 10000000\n",
    "A = np.random.rand(n)\n",
    "B = np.random.rand(n)\n",
    "\n",
    "%timeit A+B\n",
    "%timeit np.add(A,B)"
   ]
  },
  {
   "cell_type": "markdown",
   "metadata": {},
   "source": [
    "### np.subtract()\n",
    "\n",
    "- np.subtract() is used to subtract two arrays, it is the same as the - operator but it can be used with the out parameter to store the result in a specific array\n",
    "\n",
    "- The parameters are:\n",
    "\n",
    "    - x1: The first array to be subtracted from\n",
    "    - x2: The second array to be subtracted by\n",
    "    - out: The array in which to store the output\n",
    "    - where: This is a boolean array which is used to decide which elements of the output array will have their values changed. If no where parameter is specified, all the elements will be changed.\n",
    "    - casting: This is used to decide when the data type of the output array will be promoted to a higher type. The possible values are: ‘no’, ‘equiv’, ‘safe’, ‘same_kind’, ‘unsafe’. The default value is ‘same_kind’.\n",
    "    - order: This specifies whether the array is stored in row-major (C-style) or column-major (Fortran-style) order in memory. The possible values are ‘C’ or ‘F’. The default value is ‘K’.\n",
    "    - dtype: This specifies the data type of the output array. If this is not specified, the data type of the input arrays will be used as the data type of the output array.\n",
    "    - subok: If this is True, then the newly created array will use the sub-class type of the input array. Otherwise, the output array will be forced to be a base-class array (default).\n",
    "    - signature: This is a tuple of the signature of the function that is to be called.\n",
    "\n",
    "The reason to use this function in order to use the '-' operator is that the function is faster than the operator."
   ]
  },
  {
   "cell_type": "code",
   "execution_count": 82,
   "metadata": {},
   "outputs": [
    {
     "name": "stdout",
     "output_type": "stream",
     "text": [
      "A: [0.64 0.43 0.5  0.03 0.83 0.27 0.39 0.59 0.3  0.61]\n",
      "B: [0.3  0.71 0.52 0.88 0.07 0.33 0.18 0.99 0.74 0.53]\n",
      "\n"
     ]
    }
   ],
   "source": [
    "A = np.round(np.random.rand(10),2)\n",
    "B = np.round(np.random.rand(10),2)\n",
    "\n",
    "print(f'A: {A}\\nB: {B}\\n')\n",
    "\n"
   ]
  },
  {
   "cell_type": "code",
   "execution_count": 83,
   "metadata": {},
   "outputs": [
    {
     "name": "stdout",
     "output_type": "stream",
     "text": [
      "C: [ 0.34 -0.28 -0.02 -0.85  0.76 -0.06  0.21 -0.4  -0.44  0.08]\n",
      "a_subtract_b: [ 0.34 -0.28 -0.02 -0.85  0.76 -0.06  0.21 -0.4  -0.44  0.08]\n",
      "\n"
     ]
    }
   ],
   "source": [
    "C = A - B\n",
    "a_subtract_b = np.subtract(A,B)\n",
    "\n",
    "print(f'C: {C}\\na_subtract_b: {a_subtract_b}\\n')"
   ]
  },
  {
   "cell_type": "code",
   "execution_count": 84,
   "metadata": {},
   "outputs": [
    {
     "name": "stdout",
     "output_type": "stream",
     "text": [
      "55.5 ms ± 5.5 ms per loop (mean ± std. dev. of 7 runs, 10 loops each)\n",
      "51.5 ms ± 912 µs per loop (mean ± std. dev. of 7 runs, 10 loops each)\n"
     ]
    }
   ],
   "source": [
    "n = 10000000\n",
    "A = np.random.rand(n)\n",
    "B = np.random.rand(n)\n",
    "\n",
    "%timeit A-B\n",
    "%timeit np.subtract(A,B)"
   ]
  },
  {
   "cell_type": "markdown",
   "metadata": {},
   "source": [
    "### np.multiply()\n",
    "\n",
    "- np.multiply() is used to multiply two arrays, it is the same as the * operator but it can be used with the out parameter to store the result in a specific array\n",
    "\n",
    "- The parameters are:\n",
    "\n",
    "    - x1: The first array to be multiplied\n",
    "    - x2: The second array to be multiplied\n",
    "    - out: The array in which to store the output\n",
    "    - where: This is a boolean array which is used to decide which elements of the output array will have their values changed. If no where parameter is specified, all the elements will be changed.\n",
    "    - casting: This is used to decide when the data type of the output array will be promoted to a higher type. The possible values are: ‘no’, ‘equiv’, ‘safe’, ‘same_kind’, ‘unsafe’. The default value is ‘same_kind’.\n",
    "    - order: This specifies whether the array is stored in row-major (C-style) or column-major (Fortran-style) order in memory. The possible values are ‘C’ or ‘F’. The default value is ‘K’.\n",
    "    - dtype: This specifies the data type of the output array. If this is not specified, the data type of the input arrays will be used as the data type of the output array.\n",
    "    - subok: If this is True, then the newly created array will use the sub-class type of the input array. Otherwise, the output array will be forced to be a base-class array (default).\n",
    "    - signature: This is a tuple of the signature of the function that is to be called.\n"
   ]
  },
  {
   "cell_type": "code",
   "execution_count": 85,
   "metadata": {},
   "outputs": [
    {
     "name": "stdout",
     "output_type": "stream",
     "text": [
      "A: [0.36 0.77 0.94 0.47 0.16 0.91 0.88 0.78 0.71 0.32]\n",
      "B: [0.04 0.7  0.77 0.41 0.02 0.28 0.06 0.17 0.45 0.27]\n",
      "\n"
     ]
    }
   ],
   "source": [
    "A = np.round(np.random.rand(10),2)\n",
    "B = np.round(np.random.rand(10),2)\n",
    "\n",
    "print(f'A: {A}\\nB: {B}\\n')"
   ]
  },
  {
   "cell_type": "code",
   "execution_count": 86,
   "metadata": {},
   "outputs": [
    {
     "name": "stdout",
     "output_type": "stream",
     "text": [
      "C: [0.0144 0.539  0.7238 0.1927 0.0032 0.2548 0.0528 0.1326 0.3195 0.0864]\n",
      "a_multiply_b: [0.0144 0.539  0.7238 0.1927 0.0032 0.2548 0.0528 0.1326 0.3195 0.0864]\n",
      "\n"
     ]
    }
   ],
   "source": [
    "C = A * B\n",
    "\n",
    "a_multiply_b = np.multiply(A,B)\n",
    "\n",
    "print(f'C: {C}\\na_multiply_b: {a_multiply_b}\\n')"
   ]
  },
  {
   "cell_type": "code",
   "execution_count": 87,
   "metadata": {},
   "outputs": [
    {
     "name": "stdout",
     "output_type": "stream",
     "text": [
      "The slowest run took 4.30 times longer than the fastest. This could mean that an intermediate result is being cached.\n",
      "82 ms ± 48.7 ms per loop (mean ± std. dev. of 7 runs, 1 loop each)\n",
      "54.2 ms ± 1.1 ms per loop (mean ± std. dev. of 7 runs, 10 loops each)\n"
     ]
    }
   ],
   "source": [
    "n = 10000000\n",
    "A = np.random.rand(n)\n",
    "B = np.random.rand(n)\n",
    "\n",
    "%timeit A*B\n",
    "%timeit np.multiply(A,B)\n"
   ]
  },
  {
   "cell_type": "markdown",
   "metadata": {},
   "source": [
    "### np.power()\n",
    "\n",
    "- np.power() is used to raise the elements of the first array to the power of the elements of the second array, it is the same as the ** operator but it can be used with the out parameter to store the result in a specific array\n",
    "\n",
    "- The parameters are:\n",
    "\n",
    "    - x1: The first array to be raised to a power\n",
    "    - x2: The second array containing the powers to which the elements of the first array will be raised\n",
    "    - out: The array in which to store the output\n",
    "    - where: This is a boolean array which is used to decide which elements of the output array will have their values changed. If no where parameter is specified, all the elements will be changed.\n",
    "    - casting: This is used to decide when the data type of the output array will be promoted to a higher type. The possible values are: ‘no’, ‘equiv’, ‘safe’, ‘same_kind’, ‘unsafe’. The default value is ‘same_kind’.\n",
    "    - order: This specifies whether the array is stored in row-major (C-style) or column-major (Fortran-style) order in memory. The possible values are ‘C’ or ‘F’. The default value is ‘K’.\n",
    "    - dtype: This specifies the data type of the output array. If this is not specified, the data type of the input arrays will be used as the data type of the output array.\n",
    "    - subok: If this is True, then the newly created array will use the sub-class type of the input array. Otherwise, the output array will be forced to be a base-class array (default).\n",
    "    - signature: This is a tuple of the signature of the function that is to be called."
   ]
  },
  {
   "cell_type": "code",
   "execution_count": 88,
   "metadata": {},
   "outputs": [
    {
     "name": "stdout",
     "output_type": "stream",
     "text": [
      "A: [0.96 0.88 0.56 0.29 0.96 0.36 0.81 0.64 0.35 0.6 ]\n",
      "B: [0.38 0.09 0.02 0.16 0.97 0.57 0.58 0.86 0.71 0.25]\n",
      "\n"
     ]
    }
   ],
   "source": [
    "A = np.round(np.random.rand(10),2)\n",
    "\n",
    "B = np.round(np.random.rand(10),2)\n",
    "\n",
    "print(f'A: {A}\\nB: {B}\\n')\n"
   ]
  },
  {
   "cell_type": "code",
   "execution_count": 89,
   "metadata": {},
   "outputs": [
    {
     "name": "stdout",
     "output_type": "stream",
     "text": [
      "C: [0.9216 0.7744 0.3136 0.0841 0.9216 0.1296 0.6561 0.4096 0.1225 0.36  ]\n",
      "a_power_2: [0.9216 0.7744 0.3136 0.0841 0.9216 0.1296 0.6561 0.4096 0.1225 0.36  ]\n",
      "\n"
     ]
    }
   ],
   "source": [
    "C = A ** 2\n",
    "\n",
    "a_power_2 = np.power(A,2)\n",
    "\n",
    "print(f'C: {C}\\na_power_2: {a_power_2}\\n')"
   ]
  },
  {
   "cell_type": "code",
   "execution_count": 90,
   "metadata": {},
   "outputs": [
    {
     "name": "stdout",
     "output_type": "stream",
     "text": [
      "a_power_b: [0.98460734 0.98856093 0.98847061 0.82032072 0.96117639 0.55858906\n",
      " 0.88495525 0.68126296 0.47455692 0.88011174]\n",
      "\n"
     ]
    }
   ],
   "source": [
    "a_power_b = np.power(A,B)\n",
    "\n",
    "print(f'a_power_b: {a_power_b}\\n')\n"
   ]
  },
  {
   "cell_type": "markdown",
   "metadata": {},
   "source": [
    "### Other functions\n",
    "\n",
    "There are others functions like \n",
    "```python\n",
    "\n",
    "np.div() # divide two arrays is the same as the / operator\n",
    "\n",
    "np.mod() # get the remainder of two arrays is the same as the % operator\n",
    "\n",
    "np.mean() # get the mean of an array\n",
    "\n",
    "np.std() # get the standard deviation of an array\n",
    "\n",
    "np.var() # get the variance of an array\n",
    "``` "
   ]
  },
  {
   "cell_type": "markdown",
   "metadata": {},
   "source": [
    "## Trigonometric functions"
   ]
  },
  {
   "cell_type": "code",
   "execution_count": 76,
   "metadata": {},
   "outputs": [
    {
     "name": "stdout",
     "output_type": "stream",
     "text": [
      "A: [0.37322484 0.06892315 0.29957257 0.00904907 0.24389589 0.56013346\n",
      " 0.61641783 0.73890273 0.69757144 0.2005603 ]\n",
      "B: [0.47217607 0.13734291 0.37875502 0.89335247 0.75939972 0.44053071\n",
      " 0.43813432 0.27744128 0.93399749 0.7161539 ]\n",
      "\n"
     ]
    }
   ],
   "source": []
  },
  {
   "cell_type": "markdown",
   "metadata": {},
   "source": [
    "## Comparison functions"
   ]
  },
  {
   "cell_type": "markdown",
   "metadata": {},
   "source": [
    "## Missing values (NaN-safe functions)"
   ]
  },
  {
   "cell_type": "markdown",
   "metadata": {},
   "source": [
    "## Rounding Floating Point Numbers"
   ]
  },
  {
   "cell_type": "markdown",
   "metadata": {},
   "source": [
    "## Output arguments"
   ]
  },
  {
   "cell_type": "markdown",
   "metadata": {},
   "source": []
  }
 ],
 "metadata": {
  "kernelspec": {
   "display_name": "base",
   "language": "python",
   "name": "python3"
  },
  "language_info": {
   "codemirror_mode": {
    "name": "ipython",
    "version": 3
   },
   "file_extension": ".py",
   "mimetype": "text/x-python",
   "name": "python",
   "nbconvert_exporter": "python",
   "pygments_lexer": "ipython3",
   "version": "3.11.5"
  }
 },
 "nbformat": 4,
 "nbformat_minor": 2
}
